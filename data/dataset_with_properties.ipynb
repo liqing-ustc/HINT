{
 "cells": [
  {
   "cell_type": "code",
   "execution_count": 6,
   "id": "forty-bennett",
   "metadata": {},
   "outputs": [],
   "source": [
    "import json\n",
    "from functools import lru_cache\n",
    "from tqdm import tqdm\n",
    "\n",
    "from domain import *\n",
    "from helper import *"
   ]
  },
  {
   "cell_type": "code",
   "execution_count": 3,
   "id": "confident-novel",
   "metadata": {},
   "outputs": [],
   "source": [
    "splits = ['train', 'val', 'test']\n",
    "\n",
    "split2dataset = {}\n",
    "for split in splits:\n",
    "    split2dataset[split] = json.load(open('expr_%s.json'%split))"
   ]
  },
  {
   "cell_type": "code",
   "execution_count": 8,
   "id": "italic-grave",
   "metadata": {},
   "outputs": [],
   "source": [
    "@lru_cache\n",
    "def compute_max_dep(heads):\n",
    "    return max([0] + [abs(i-h) for i, h in enumerate(heads) if h != -1])\n",
    "\n",
    "@lru_cache\n",
    "def compute_tree_depth(head):\n",
    "    @lru_cache\n",
    "    def depth(i):\n",
    "        \"\"\"The depth of node i.\"\"\"\n",
    "        if head[i] == -1:\n",
    "            return 1\n",
    "        return depth(head[i]) + 1\n",
    "\n",
    "    return max(depth(i) for i in range(len(head)))\n",
    "\n",
    "lps = '('\n",
    "rps = ')'\n",
    "def compute_ps_depth(expr):\n",
    "    depth = 0\n",
    "    max_depth = 0\n",
    "    for x in expr:\n",
    "        if x == lps:\n",
    "            c = 1\n",
    "        elif x == rps:\n",
    "            c = -1\n",
    "        else:\n",
    "            c = 0\n",
    "        depth += c\n",
    "        if depth > max_depth:\n",
    "            max_depth = depth\n",
    "    return max_depth\n",
    "\n",
    "def compute_n_op(expr):\n",
    "    return len([1 for x in expr if x in OPERATORS])"
   ]
  },
  {
   "cell_type": "code",
   "execution_count": 13,
   "id": "exempt-dynamics",
   "metadata": {},
   "outputs": [
    {
     "name": "stderr",
     "output_type": "stream",
     "text": [
      "  5%|█▌                              | 49986/998000 [00:00<00:01, 499833.07it/s]"
     ]
    },
    {
     "name": "stdout",
     "output_type": "stream",
     "text": [
      "train\n"
     ]
    },
    {
     "name": "stderr",
     "output_type": "stream",
     "text": [
      "100%|████████████████████████████████| 998000/998000 [00:12<00:00, 81778.27it/s]\n",
      "100%|████████████████████████████████████| 4698/4698 [00:00<00:00, 43546.99it/s]\n",
      "  0%|                                                 | 0/46620 [00:00<?, ?it/s]"
     ]
    },
    {
     "name": "stdout",
     "output_type": "stream",
     "text": [
      "val\n",
      "test\n"
     ]
    },
    {
     "name": "stderr",
     "output_type": "stream",
     "text": [
      "100%|██████████████████████████████████| 46620/46620 [00:01<00:00, 45634.62it/s]\n"
     ]
    }
   ],
   "source": [
    "for split, dataset in split2dataset.items():\n",
    "    print(split)\n",
    "    for sample in tqdm(dataset):\n",
    "        sample['tree_depth'] = compute_tree_depth(tuple(sample['head']))\n",
    "        sample['ps_depth'] = compute_ps_depth(sample['expr'])\n",
    "        sample['n_op'] = compute_n_op(sample['expr'])\n",
    "        sample['max_dep'] = compute_max_dep(tuple(sample['head']))\n",
    "        sample['length'] = len(sample['expr'])\n",
    "\n",
    "json.dump(split2dataset, open('dataset_with_properties.json', 'w'))"
   ]
  },
  {
   "cell_type": "code",
   "execution_count": null,
   "id": "trying-netherlands",
   "metadata": {},
   "outputs": [],
   "source": []
  }
 ],
 "metadata": {
  "kernelspec": {
   "display_name": "hint",
   "language": "python",
   "name": "hint"
  },
  "language_info": {
   "codemirror_mode": {
    "name": "ipython",
    "version": 3
   },
   "file_extension": ".py",
   "mimetype": "text/x-python",
   "name": "python",
   "nbconvert_exporter": "python",
   "pygments_lexer": "ipython3",
   "version": "3.8.5"
  }
 },
 "nbformat": 4,
 "nbformat_minor": 5
}
