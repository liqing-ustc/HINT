{
 "cells": [
  {
   "cell_type": "code",
   "execution_count": 12,
   "id": "bibliographic-decrease",
   "metadata": {},
   "outputs": [],
   "source": [
    "import jsonlines\n",
    "import json\n",
    "from domain import *\n",
    "from helper import *\n",
    "import random"
   ]
  },
  {
   "cell_type": "code",
   "execution_count": 9,
   "id": "exotic-disclosure",
   "metadata": {},
   "outputs": [],
   "source": [
    "splits = ['train', 'val', 'test']\n",
    "split2dataset = {}\n",
    "for split in splits:\n",
    "    split2dataset[split] = json.load(open('expr_%s.json'%split))\n",
    "    \n",
    "split2symset = {}\n",
    "for split in splits:\n",
    "    split2symset[split] = json.load(open('sym_%s.json'%split))"
   ]
  },
  {
   "cell_type": "code",
   "execution_count": 47,
   "id": "neural-prayer",
   "metadata": {},
   "outputs": [],
   "source": [
    "def expr2n_op(expr):\n",
    "    return len([1 for x in expr if x in op_list])\n",
    "\n",
    "separator = \"\"\n",
    "stop_token = \" END\"\n",
    "def gpt_style(sample):\n",
    "    expr, res = sample\n",
    "    prompt = \" \".join(expr) + \" =\" + separator\n",
    "    completion = \" \" + \" \".join(f\"{res}\") + stop_token\n",
    "    return {\"prompt\": prompt, \"completion\": completion}"
   ]
  },
  {
   "cell_type": "code",
   "execution_count": 62,
   "id": "beautiful-lottery",
   "metadata": {},
   "outputs": [
    {
     "name": "stdout",
     "output_type": "stream",
     "text": [
      "998000\n",
      "[{'prompt': '( 8 - ( 3 - 8 ) - ( 0 - 0 ) ) / ( ( 5 + 4 ) * 6 ) * ( 7 + 8 - 7 ) =', 'completion': ' 8 END'}, {'prompt': '6 * ( ( 9 + ( 3 - 6 ) ) / ( 7 / 9 * ( 7 - 8 / 4 ) ) + 5 / 6 ) =', 'completion': ' 1 8 END'}, {'prompt': '8 + ( 7 + ( 0 + 2 ) ) * ( 1 * 5 ) * ( 1 * ( 5 - ( 1 + 4 ) * 2 ) ) =', 'completion': ' 8 END'}, {'prompt': '( 6 * 2 + ( 5 + 0 ) ) / ( 4 - 0 ) * ( 4 - 0 ) / ( 5 - 8 + 9 ) =', 'completion': ' 3 END'}, {'prompt': '( 9 / 7 / 2 + 2 * ( 3 - 6 - ( 2 + 5 ) ) ) * ( 9 - ( 6 - 8 ) ) =', 'completion': ' 9 END'}, {'prompt': '2 * ( 8 + ( 6 + 5 / 7 - 4 / ( 4 + 8 ) ) ) + 0 - ( 2 + 8 ) =', 'completion': ' 1 8 END'}, {'prompt': '( 5 + 1 ) * ( ( 3 + ( 0 * ( 2 / 7 ) - 8 ) ) / ( 9 / 5 ) / ( 9 - 6 ) ) =', 'completion': ' 6 END'}, {'prompt': '( 7 / ( 4 / 7 - 0 / 6 ) + ( 3 * 2 - 1 - 7 ) ) * ( 9 - 8 ) =', 'completion': ' 7 END'}, {'prompt': '7 * ( 8 + 7 - ( 2 / 3 - 6 ) * 1 / ( 9 - 5 ) - 1 / 5 ) =', 'completion': ' 9 8 END'}, {'prompt': '6 * 1 - ( 4 - ( 8 / 4 + 8 ) ) + ( 8 / ( 8 + 6 ) + 8 ) + 5 =', 'completion': ' 2 0 END'}]\n"
     ]
    }
   ],
   "source": [
    "random.seed(777)\n",
    "split = 'train'\n",
    "dataset = split2dataset[split]\n",
    "# dataset = list(set([(x['expr'], x['res']) for x in dataset]))\n",
    "# n_op2exprs = {}\n",
    "# for sample in dataset:\n",
    "#     n_op = expr2n_op(sample[0])\n",
    "#     if n_op not in n_op2exprs:\n",
    "#         n_op2exprs[n_op] = []\n",
    "#     n_op2exprs[n_op].append(sample)\n",
    "\n",
    "# dataset_gpt = []\n",
    "# max_op = max(n_op2exprs.keys())\n",
    "# n_expr = 100000\n",
    "# for n_op in range(max_op):\n",
    "#     exprs = n_op2exprs[n_op]\n",
    "#     if n_op > 1:\n",
    "#         exprs = exprs[:n_expr]\n",
    "#     dataset_gpt.extend(exprs)\n",
    "# dataset_gpt = [gpt_style(x) for x in dataset_gpt]\n",
    "dataset_gpt = [gpt_style((x['expr'], x['res'])) for x in dataset]\n",
    "print(len(dataset_gpt))\n",
    "print(dataset_gpt[-10:])\n",
    "with jsonlines.open(f'gpt3_{split}.jsonl', 'w') as writer:\n",
    "    writer.write_all(dataset_gpt)"
   ]
  },
  {
   "cell_type": "code",
   "execution_count": 59,
   "id": "controlled-magic",
   "metadata": {},
   "outputs": [
    {
     "name": "stdout",
     "output_type": "stream",
     "text": [
      "46620\n",
      "[{'prompt': '3 + 9 * 3 * ( 4 + 8 / 5 + 3 ) - ( 1 / 2 + ( 0 - 8 + 0 ) + ( 2 + 0 + ( 8 - 9 ) / ( 6 + ( 6 - 4 / 9 ) ) - 0 ) ) =', 'completion': ' 2 4 3 END'}, {'prompt': '6 / 6 / ( 4 + 4 ) * ( 6 - 7 - ( 3 - 1 ) ) + ( 4 + 4 - 5 ) * ( 3 / 9 ) * ( ( 5 + ( 6 + 6 - ( 7 - 1 ) * ( 8 / 8 ) ) ) * 7 ) =', 'completion': ' 2 3 1 END'}, {'prompt': '( 5 + 9 ) * 9 + 0 + ( 2 - 4 - 3 - ( 1 - 0 / 3 ) ) - ( 4 * 9 + ( 8 - ( 6 - ( 9 - 3 ) ) + 0 + ( 0 * ( 0 + 4 ) - 9 ) ) ) =', 'completion': ' 8 2 END'}, {'prompt': '3 + 3 / ( ( 8 - 4 ) * 9 * 1 ) + 7 * 7 * ( 2 - 7 - 8 - ( 3 / 7 * ( 1 + ( 1 - 1 ) ) + 5 * ( 7 + 9 + 2 ) ) * 7 ) =', 'completion': ' 4 END'}, {'prompt': '( 2 + 9 - 8 / ( 6 + 0 / 4 ) * ( 1 * 0 ) ) / ( 4 / 9 / 9 ) - ( 8 * 3 * ( 9 * 6 + ( 4 - 8 ) ) / 6 - 0 ) / ( 9 * 7 ) =', 'completion': ' 7 END'}, {'prompt': '( 4 + 1 ) / 8 / ( 4 / ( ( 2 + 4 * ( 8 * 2 ) ) * ( 3 + ( 9 + 3 ) - ( 2 - ( 6 - ( 8 + 2 ) * 4 ) ) ) ) ) + ( ( 9 - 6 ) / 2 + ( 9 - 9 ) ) =', 'completion': ' 3 END'}, {'prompt': '( 1 * ( 6 / 5 ) / ( 8 * 2 * ( ( 4 - 8 / 5 ) / ( 0 + 2 ) ) ) + ( 9 + 4 / ( 3 * 4 ) ) * 9 ) * ( 1 + ( 9 - 2 + 8 - 2 + 4 ) ) =', 'completion': ' 1 6 3 8 END'}, {'prompt': '( 4 - ( 0 + 1 - ( 1 + 4 ) - ( 9 - ( 8 + 2 - 8 ) ) - 4 ) * ( 5 / 3 * ( 5 * 6 / ( 6 / 4 + 9 ) ) ) ) / ( 6 * ( 9 * 8 ) * 5 ) =', 'completion': ' 1 END'}, {'prompt': '6 * 4 * 7 / ( ( 7 + 8 - 3 + 7 ) * ( 8 / 7 ) / ( 3 / 5 + 1 * 0 ) ) + ( 2 - 5 - 5 ) + ( ( 4 - 5 ) / 1 - 6 * 3 ) =', 'completion': ' 5 END'}, {'prompt': '7 / ( 9 + 0 ) + ( 8 - ( 4 - 5 ) ) * 9 / ( 3 * 4 ) - ( 4 + 8 - 6 * ( 5 - 0 ) * 4 ) / ( ( 1 + 0 ) / 7 / ( 5 / ( 4 * 4 ) ) ) =', 'completion': ' 7 END'}]\n"
     ]
    }
   ],
   "source": [
    "random.seed(777)\n",
    "split = 'test'\n",
    "dataset = split2dataset[split]\n",
    "# dataset = list(set([(x['expr'], x['res'], x['eval']) for x in dataset]))\n",
    "# eval2exprs = {}\n",
    "# for sample in dataset:\n",
    "#     evaluation = sample[-1]\n",
    "#     if evaluation not in eval2exprs:\n",
    "#         eval2exprs[evaluation] = []\n",
    "#     eval2exprs[evaluation].append(sample[:2])\n",
    "\n",
    "# dataset_gpt = []\n",
    "# n_expr = 10000\n",
    "# for evaluation, exprs in eval2exprs.items():\n",
    "#     exprs = random.sample(exprs, min(n_expr, len(exprs)))\n",
    "#     dataset_gpt.extend(exprs)\n",
    "# dataset_gpt = [gpt_style(x) for x in dataset_gpt]\n",
    "\n",
    "dataset_gpt = [gpt_style((x['expr'], x['res'])) for x in dataset]\n",
    "\n",
    "print(len(dataset_gpt))\n",
    "print(dataset_gpt[-10:])\n",
    "with jsonlines.open(f'gpt3_{split}.jsonl', 'w') as writer:\n",
    "    writer.write_all(dataset_gpt)"
   ]
  },
  {
   "cell_type": "code",
   "execution_count": 50,
   "id": "behind-church",
   "metadata": {},
   "outputs": [
    {
     "data": {
      "text/plain": [
       "[{'prompt': '5 * 0 - ( 1 + 2 ) + 6 / ( 9 / 4 ) =', 'completion': ' 2 END'},\n",
       " {'prompt': '1 / 6 + 4 - 6 / 7 =', 'completion': ' 4 END'},\n",
       " {'prompt': '4 + 9 * ( ( 9 + 1 - ( 0 + ( 0 - 9 ) ) ) / 5 ) =',\n",
       "  'completion': ' 2 2 END'},\n",
       " {'prompt': '4 - ( 7 / ( 9 + ( 0 - 3 + 4 ) * 8 ) + 5 ) + ( 9 - 7 ) =',\n",
       "  'completion': ' 2 END'},\n",
       " {'prompt': '( 1 + 2 ) * ( 2 * ( 5 / 9 / ( 9 - 1 ) ) / ( 1 + 1 ) ) * ( 3 * 4 ) =',\n",
       "  'completion': ' 3 6 END'},\n",
       " {'prompt': '5 - 3 - 4 / ( 6 * 5 ) + 7 =', 'completion': ' 8 END'},\n",
       " {'prompt': '1 + ( 0 + 8 ) =', 'completion': ' 9 END'},\n",
       " {'prompt': '3 / 9 + 6 / 7 * 3 =', 'completion': ' 4 END'},\n",
       " {'prompt': '( 3 + ( 3 - 7 - 6 ) / 1 ) / ( 7 - 3 ) + 6 / ( 3 * 7 + 0 ) =',\n",
       "  'completion': ' 2 END'},\n",
       " {'prompt': '( 2 + 7 ) / ( 6 + ( ( 6 + 1 ) / 5 + 1 * 1 ) ) * 5 =',\n",
       "  'completion': ' 5 END'},\n",
       " {'prompt': '( 4 * ( 6 * 1 - 1 ) - 9 ) * 8 - 6 =', 'completion': ' 8 2 END'},\n",
       " {'prompt': '( 8 - ( 0 - 1 ) ) / 1 =', 'completion': ' 8 END'},\n",
       " {'prompt': '7 * ( 4 - 5 + 9 ) =', 'completion': ' 6 3 END'},\n",
       " {'prompt': '6 * ( 0 - 6 + ( 4 + 7 ) ) =', 'completion': ' 6 6 END'},\n",
       " {'prompt': '9 + 5 =', 'completion': ' 1 4 END'},\n",
       " {'prompt': '9 + ( 0 + 5 - 9 ) =', 'completion': ' 9 END'},\n",
       " {'prompt': '1 * ( ( 4 + ( 3 - ( 2 + 0 ) ) ) * ( 8 / 1 ) ) =',\n",
       "  'completion': ' 4 0 END'},\n",
       " {'prompt': '8 / 3 + 2 + 1 * ( ( 0 + 9 ) * ( 7 - 6 ) ) =',\n",
       "  'completion': ' 1 4 END'},\n",
       " {'prompt': '7 / ( 4 + 5 ) + 7 - 3 * 3 + 9 * ( 4 * 2 / 7 ) =',\n",
       "  'completion': ' 1 8 END'},\n",
       " {'prompt': '2 / ( 5 - 4 ) + ( 2 - 1 ) * ( 2 * 8 ) / ( 8 + 4 ) =',\n",
       "  'completion': ' 4 END'}]"
      ]
     },
     "execution_count": 50,
     "metadata": {},
     "output_type": "execute_result"
    }
   ],
   "source": [
    "dataset_gpt[:20]"
   ]
  },
  {
   "cell_type": "code",
   "execution_count": null,
   "id": "agricultural-survivor",
   "metadata": {},
   "outputs": [],
   "source": []
  }
 ],
 "metadata": {
  "kernelspec": {
   "display_name": "hint",
   "language": "python",
   "name": "hint"
  },
  "language_info": {
   "codemirror_mode": {
    "name": "ipython",
    "version": 3
   },
   "file_extension": ".py",
   "mimetype": "text/x-python",
   "name": "python",
   "nbconvert_exporter": "python",
   "pygments_lexer": "ipython3",
   "version": "3.8.5"
  }
 },
 "nbformat": 4,
 "nbformat_minor": 5
}
