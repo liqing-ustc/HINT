{
 "cells": [
  {
   "cell_type": "code",
   "execution_count": 1,
   "id": "failing-program",
   "metadata": {},
   "outputs": [],
   "source": [
    "import jsonlines\n",
    "import json\n",
    "import sys\n",
    "sys.path.append('../')\n",
    "from domain import *\n",
    "from helper import *\n",
    "import random\n",
    "\n",
    "def expr2n_op(expr):\n",
    "    return len([1 for x in expr if x in op_list])"
   ]
  },
  {
   "cell_type": "code",
   "execution_count": 2,
   "id": "catholic-period",
   "metadata": {},
   "outputs": [],
   "source": [
    "splits = ['train', 'val', 'test']\n",
    "split2dataset = {}\n",
    "for split in splits:\n",
    "    split2dataset[split] = json.load(open('../expr_%s.json'%split))"
   ]
  },
  {
   "cell_type": "code",
   "execution_count": 3,
   "id": "completed-barbados",
   "metadata": {},
   "outputs": [
    {
     "name": "stdout",
     "output_type": "stream",
     "text": [
      "train 8400\n"
     ]
    }
   ],
   "source": [
    "random.seed(777)\n",
    "split = 'train'\n",
    "dataset = split2dataset[split]\n",
    "dataset = list(set([(x['expr'], x['res']) for x in dataset]))\n",
    "n_op2exprs = {}\n",
    "for sample in dataset:\n",
    "    n_op = expr2n_op(sample[0])\n",
    "    if n_op not in n_op2exprs:\n",
    "        n_op2exprs[n_op] = []\n",
    "    n_op2exprs[n_op].append(sample)\n",
    "\n",
    "dataset_gpt = []\n",
    "max_op = max(n_op2exprs.keys())\n",
    "n_expr = 1000\n",
    "for n_op in range(max_op):\n",
    "    exprs = n_op2exprs[n_op]\n",
    "    if n_op > 1:\n",
    "        exprs = exprs[:n_expr]\n",
    "    dataset_gpt.extend(exprs)\n",
    "print(split, len(dataset_gpt))\n",
    "json.dump(dataset_gpt, open(f'sample_{split}.json', 'w'))"
   ]
  },
  {
   "cell_type": "code",
   "execution_count": 4,
   "id": "independent-keeping",
   "metadata": {},
   "outputs": [
    {
     "name": "stdout",
     "output_type": "stream",
     "text": [
      "test 500\n"
     ]
    }
   ],
   "source": [
    "random.seed(777)\n",
    "split = 'test'\n",
    "dataset = split2dataset[split]\n",
    "dataset = list(set([(x['expr'], x['res'], x['eval']) for x in dataset]))\n",
    "eval2exprs = {}\n",
    "for sample in dataset:\n",
    "    evaluation = sample[-1]\n",
    "    if evaluation not in eval2exprs:\n",
    "        eval2exprs[evaluation] = []\n",
    "    eval2exprs[evaluation].append(sample)\n",
    "\n",
    "dataset_gpt = []\n",
    "n_expr = 100\n",
    "for evaluation, exprs in eval2exprs.items():\n",
    "    exprs = random.sample(exprs, min(n_expr, len(exprs)))\n",
    "    dataset_gpt.extend(exprs)\n",
    "print(split, len(dataset_gpt))\n",
    "json.dump(dataset_gpt, open(f'sample_{split}.json', 'w'))"
   ]
  },
  {
   "cell_type": "code",
   "execution_count": null,
   "id": "sufficient-tract",
   "metadata": {},
   "outputs": [],
   "source": []
  }
 ],
 "metadata": {
  "kernelspec": {
   "display_name": "hint",
   "language": "python",
   "name": "hint"
  },
  "language_info": {
   "codemirror_mode": {
    "name": "ipython",
    "version": 3
   },
   "file_extension": ".py",
   "mimetype": "text/x-python",
   "name": "python",
   "nbconvert_exporter": "python",
   "pygments_lexer": "ipython3",
   "version": "3.8.5"
  }
 },
 "nbformat": 4,
 "nbformat_minor": 5
}
