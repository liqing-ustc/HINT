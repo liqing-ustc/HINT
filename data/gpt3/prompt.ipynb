{
 "cells": [
  {
   "cell_type": "code",
   "execution_count": 2,
   "id": "fabulous-population",
   "metadata": {},
   "outputs": [],
   "source": [
    "import os\n",
    "import openai\n",
    "import random\n",
    "from tqdm import tqdm\n",
    "\n",
    "# Load your API key from an environment variable or secret management service\n",
    "openai.api_key = os.getenv(\"OPENAI_API_KEY\")"
   ]
  },
  {
   "cell_type": "code",
   "execution_count": 3,
   "id": "restricted-aggregate",
   "metadata": {},
   "outputs": [
    {
     "name": "stdout",
     "output_type": "stream",
     "text": [
      "train: 8400, test: 500\n"
     ]
    }
   ],
   "source": [
    "import json\n",
    "\n",
    "train_set = json.load(open('sample_train.json'))\n",
    "test_set = json.load(open('sample_test.json'))\n",
    "print(f'train: {len(train_set)}, test: {len(test_set)}')"
   ]
  },
  {
   "cell_type": "code",
   "execution_count": 4,
   "id": "informational-prospect",
   "metadata": {},
   "outputs": [],
   "source": [
    "def expr2prompt(expr):\n",
    "    prompt = f'Q: What is {expr}?\\nA: The answer is'\n",
    "    return prompt\n",
    "\n",
    "def expr2prompt_cot(expr):\n",
    "    cot_trigger = 'Let\\'s think step-by-step.'\n",
    "    prompt = f'Q: What is {expr}?\\nA:' + ' ' + cot_trigger\n",
    "    return prompt"
   ]
  },
  {
   "cell_type": "code",
   "execution_count": 64,
   "id": "numeric-martin",
   "metadata": {},
   "outputs": [
    {
     "name": "stderr",
     "output_type": "stream",
     "text": [
      "100%|████████████████████████████████████████████████████████████████████████████████████████████████████████████████████████████████████████████████████████████████████| 500/500 [05:04<00:00,  1.64it/s]\n"
     ]
    }
   ],
   "source": [
    "engine = \"text-davinci-002\"\n",
    "responses = []\n",
    "for sample in tqdm(test_set):\n",
    "    expr, ans, e = sample\n",
    "    prompt = expr2prompt(expr)\n",
    "    response = openai.Completion.create(engine=engine, prompt=prompt, temperature=0, max_tokens=10)\n",
    "    responses.append(response)\n",
    "#     print(prompt, response[\"choices\"][0]['text'])\n",
    "#     print('GT:', ans, e)\n",
    "json.dump(responses, open(f'{engine}_0_shot.json', 'w'))"
   ]
  },
  {
   "cell_type": "code",
   "execution_count": 83,
   "id": "atmospheric-telescope",
   "metadata": {},
   "outputs": [
    {
     "name": "stdout",
     "output_type": "stream",
     "text": [
      "LL: 0.02\n",
      "I: 0.19\n",
      "LS: 0.03\n",
      "SS: 0.09\n",
      "SL: 0.1\n",
      "Avg: 0.086\n"
     ]
    }
   ],
   "source": [
    "def response2ans(response):\n",
    "    res = response[\"choices\"][0]['text']\n",
    "    res = res.strip(' .')\n",
    "    res = res.replace('\\n', ' ').split(' ')[::-1]\n",
    "    for r in res:\n",
    "        try:\n",
    "            r = float(r)\n",
    "            return r\n",
    "        except:\n",
    "            pass\n",
    "    return None\n",
    "\n",
    "count = 0\n",
    "eval2res = {}\n",
    "for sample, response in zip(test_set, responses):\n",
    "    expr, ans, e = sample\n",
    "    pred = response2ans(response)\n",
    "#     if pred is None:\n",
    "#         print(expr, ans, e, response[\"choices\"][0]['text'])\n",
    "    if e not in eval2res:\n",
    "        eval2res[e] = []\n",
    "    if pred and int(pred) == int(eval(expr)):\n",
    "        eval2res[e].append(1)\n",
    "    else:\n",
    "        eval2res[e].append(0)\n",
    "\n",
    "for e, res in eval2res.items():\n",
    "    print(f'{e}: {sum(res) / len(res)}')\n",
    "avg_acc = sum([sum(x) for x in eval2res.values()]) / len(test_set)\n",
    "print(f'Avg: {avg_acc}')"
   ]
  },
  {
   "cell_type": "code",
   "execution_count": null,
   "id": "realistic-travel",
   "metadata": {},
   "outputs": [
    {
     "name": "stderr",
     "output_type": "stream",
     "text": [
      " 73%|█████████████████████████████▊           | 364/500 [49:31<12:39,  5.58s/it]"
     ]
    }
   ],
   "source": [
    "engine = \"text-davinci-002\"\n",
    "direct_answer_trigger = \"\\nTherefore, the answer (arabic numerals) is\"\n",
    "responses = []\n",
    "for sample in tqdm(test_set):\n",
    "    expr, ans, e = sample\n",
    "    x = expr2prompt_cot(expr)\n",
    "    z = openai.Completion.create(engine=engine, prompt=x, temperature=0, max_tokens=1000)\n",
    "    z = z[\"choices\"][0][\"text\"]\n",
    "    x = x + z + \" \" + direct_answer_trigger\n",
    "    z2 = openai.Completion.create(engine=engine, prompt=x, temperature=0, max_tokens=10)\n",
    "    z2 = z2[\"choices\"][0][\"text\"]\n",
    "    responses.append([sample, z, z2])\n",
    "json.dump(responses, open(f'{engine}_0_shot_cot.json', 'w'))"
   ]
  },
  {
   "cell_type": "code",
   "execution_count": null,
   "id": "academic-holder",
   "metadata": {},
   "outputs": [],
   "source": []
  }
 ],
 "metadata": {
  "kernelspec": {
   "display_name": "hint",
   "language": "python",
   "name": "hint"
  },
  "language_info": {
   "codemirror_mode": {
    "name": "ipython",
    "version": 3
   },
   "file_extension": ".py",
   "mimetype": "text/x-python",
   "name": "python",
   "nbconvert_exporter": "python",
   "pygments_lexer": "ipython3",
   "version": "3.8.5"
  }
 },
 "nbformat": 4,
 "nbformat_minor": 5
}
