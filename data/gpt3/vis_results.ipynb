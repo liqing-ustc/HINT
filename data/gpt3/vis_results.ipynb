{
 "cells": [
  {
   "cell_type": "code",
   "execution_count": 1,
   "id": "productive-samba",
   "metadata": {},
   "outputs": [],
   "source": [
    "import json"
   ]
  },
  {
   "cell_type": "code",
   "execution_count": 6,
   "id": "fallen-iceland",
   "metadata": {},
   "outputs": [],
   "source": [
    "results = json.load(open('text-davinci-002_0_shot.json'))\n",
    "results_cot = json.load(open('text-davinci-002_0_shot_cot.json'))"
   ]
  },
  {
   "cell_type": "code",
   "execution_count": 21,
   "id": "political-million",
   "metadata": {},
   "outputs": [
    {
     "data": {
      "text/plain": [
       "[['(5*(5*(3/1))+4-8*(6+0))*(4*(5+0))-(7+6)/(1+(6+5+3))', 619, 'LL'],\n",
       " '\\n\\nFirst, we have (5*(5*(3/1))+4-8*(6+0)).\\n\\nIn the parentheses, we have (5*(5*3)+4-8*6).\\n\\nIn the next set of parentheses, we have (5*15+4-8*6).\\n\\nNow, we have (75+4-48).\\n\\nNext, we have (75-44).\\n\\nThen, we have 31.\\n\\nNow, we have (31*(4*5))-(7+6)/(1+(6+5+3)).\\n\\nIn the parentheses, we have (31*20)-13.\\n\\nNow, we have (620-13).\\n\\nNext, we have 607.\\n\\nIn the final set of parentheses, we have 607/(1+14).\\n\\nNow, we have 607/15.\\n\\nThe answer is 40.46666666666667.',\n",
       " ' 40.']"
      ]
     },
     "execution_count": 21,
     "metadata": {},
     "output_type": "execute_result"
    }
   ],
   "source": [
    "results_cot[0]"
   ]
  },
  {
   "cell_type": "code",
   "execution_count": 29,
   "id": "enhanced-columbus",
   "metadata": {},
   "outputs": [
    {
     "name": "stdout",
     "output_type": "stream",
     "text": [
      "Q: What is 5*4/((9-0/(2+(7+2+4)))/7)?\n",
      "GT: 15.555555555555554\n",
      "Zero shot:\n",
      "A: The answer is  5.\n",
      "Zero shot CoT:\n",
      "A: Let's think step by step. \n",
      "\n",
      "First, we have 5*4/((9-0)/(2+(7+2+4)))/7. \n",
      "\n",
      "In the parentheses, we have (9-0)/(2+(7+2+4)). \n",
      "This can be simplified to 9/(2+13), which is equal to 9/15. \n",
      "\n",
      "Therefore, we have 5*4/((9-0)/(2+(7+2+4)))/7 = 5*4/9/15. \n",
      "\n",
      "This can be simplified to 20/9/15, which is equal to 20/135.\n",
      "The answer is  20/135.\n"
     ]
    },
    {
     "name": "stdin",
     "output_type": "stream",
     "text": [
      " \n"
     ]
    },
    {
     "name": "stdout",
     "output_type": "stream",
     "text": [
      "====================================================================================================\n",
      "Q: What is (8-1*6)*(5-1+2)?\n",
      "GT: 12\n",
      "Zero shot:\n",
      "A: The answer is  -6.\n",
      "Zero shot CoT:\n",
      "A: Let's think step by step. \n",
      "\n",
      "First, we have (8-1*6). This can be simplified to (8-6), which is equal to 2. \n",
      "\n",
      "Next, we have (5-1+2). This can be simplified to (5+2), which is equal to 7. \n",
      "\n",
      "Now, we have 2*7, which is equal to 14.\n",
      "The answer is  14.\n"
     ]
    },
    {
     "name": "stdin",
     "output_type": "stream",
     "text": [
      " \n"
     ]
    },
    {
     "name": "stdout",
     "output_type": "stream",
     "text": [
      "====================================================================================================\n",
      "Q: What is (6*8+(9-(3*8+5)))/(9/1-(4-3/2))?\n",
      "GT: 4.3076923076923075\n",
      "Zero shot:\n",
      "A: The answer is  -1.\n",
      "Zero shot CoT:\n",
      "A: Let's think step by step.\n",
      "\n",
      "6*8+(9-(3*8+5))/(9/1-(4-3/2))\n",
      "= 6*8+(9-(3*8+5))/(9/1-(4-1.5))\n",
      "= 6*8+(9-(3*8+5))/(9/1-2.5)\n",
      "= 6*8+(9-(3*8+5))/(9-2.5)\n",
      "= 6*8+(9-(3*8+5))/6.5\n",
      "= 48+9-24-5/6.5\n",
      "= 48+9-24-0.769230769230769\n",
      "= 33.2307692307692\n",
      "The answer is  33.\n"
     ]
    },
    {
     "name": "stdin",
     "output_type": "stream",
     "text": [
      " \n"
     ]
    },
    {
     "name": "stdout",
     "output_type": "stream",
     "text": [
      "====================================================================================================\n",
      "Q: What is 4*9-4?\n",
      "GT: 32\n",
      "Zero shot:\n",
      "A: The answer is  32.\n",
      "Zero shot CoT:\n",
      "A: Let's think step by step. 4*9 is 36. Then, 36-4 is 32.\n",
      "The answer is  32.\n"
     ]
    },
    {
     "name": "stdin",
     "output_type": "stream",
     "text": [
      " \n"
     ]
    },
    {
     "name": "stdout",
     "output_type": "stream",
     "text": [
      "====================================================================================================\n",
      "Q: What is 5/9?\n",
      "GT: 0.5555555555555556\n",
      "Zero shot:\n",
      "A: The answer is  0.5555555555555556\n",
      "Zero shot CoT:\n",
      "A: Let's think step by step. \n",
      "\n",
      "First, we need to understand what division is. \n",
      "\n",
      "Division is a way of representing a whole number as a fraction. For example, if we have 10 candy bars and we want to divide them into 5 even piles, we can say that each pile has 2 candy bars. So we would write 10 ÷ 5 = 2. \n",
      "\n",
      "Now let's think about 5 ÷ 9. \n",
      "\n",
      "This is asking us to divide 5 candy bars into 9 even piles. We can't do that, because 9 doesn't go into 5 evenly. So the answer is that 5 ÷ 9 is not possible.\n",
      "The answer is : 0.55555555555555\n"
     ]
    },
    {
     "name": "stdin",
     "output_type": "stream",
     "text": [
      " \n"
     ]
    },
    {
     "name": "stdout",
     "output_type": "stream",
     "text": [
      "====================================================================================================\n",
      "Q: What is 2+6+7+(0-7*0)+(5-6)?\n",
      "GT: 14\n",
      "Zero shot:\n",
      "A: The answer is  2+6+7+(0-7*\n",
      "Zero shot CoT:\n",
      "A: Let's think step by step. \n",
      "2+6+7 = 15\n",
      "15+(0-7*0) = 15\n",
      "15+(5-6) = 14\n",
      "The answer is  14.\n"
     ]
    },
    {
     "name": "stdin",
     "output_type": "stream",
     "text": [
      " \n"
     ]
    },
    {
     "name": "stdout",
     "output_type": "stream",
     "text": [
      "====================================================================================================\n",
      "Q: What is 0*(8+7)+3-(5-(7+5)-(8+6))?\n",
      "GT: 24\n",
      "Zero shot:\n",
      "A: The answer is  -1.\n",
      "Zero shot CoT:\n",
      "A: Let's think step by step.\n",
      "\n",
      "0*(8+7)+3-(5-(7+5)-(8+6))\n",
      "= 0*15+3-(5-(12)-14)\n",
      "= 0+3-(5-(12)-14)\n",
      "= 3-(5-(12)-14)\n",
      "= 3-(-2-14)\n",
      "= 3+16\n",
      "= 19\n",
      "The answer is  19.\n"
     ]
    },
    {
     "name": "stdin",
     "output_type": "stream",
     "text": [
      " \n"
     ]
    },
    {
     "name": "stdout",
     "output_type": "stream",
     "text": [
      "====================================================================================================\n",
      "Q: What is 3*((3+6)/8+9)+(3/(1+8)*5-(0+1))?\n",
      "GT: 31.041666666666668\n",
      "Zero shot:\n",
      "A: The answer is  15.\n",
      "Zero shot CoT:\n",
      "A: Let's think step by step. \n",
      "3*((3+6)/8+9)+(3/(1+8)*5-(0+1))\n",
      "3*(9/8+9)+(3/9*5-1)\n",
      "3*(1.125+9)+(0.3333*5-1)\n",
      "3.375*10-1\n",
      "33.75-1\n",
      "32.75\n",
      "The answer is  32.75.\n"
     ]
    },
    {
     "name": "stdin",
     "output_type": "stream",
     "text": [
      " \n"
     ]
    },
    {
     "name": "stdout",
     "output_type": "stream",
     "text": [
      "====================================================================================================\n",
      "Q: What is 5-(0+(1*9-5))+5-5?\n",
      "GT: 1\n",
      "Zero shot:\n",
      "A: The answer is  5.\n",
      "Zero shot CoT:\n",
      "A: Let's think step by step. \n",
      "\n",
      "5-(0+(1*9-5))+5-5\n",
      "5-(0+9-5)+5-5\n",
      "5-(4+5)-5\n",
      "5-9-5\n",
      "-4-5\n",
      "-9\n",
      "The answer is  -9.\n"
     ]
    },
    {
     "name": "stdin",
     "output_type": "stream",
     "text": [
      " \n"
     ]
    },
    {
     "name": "stdout",
     "output_type": "stream",
     "text": [
      "====================================================================================================\n",
      "Q: What is (3-5+(2*3+8))/(1+0/6)?\n",
      "GT: 12.0\n",
      "Zero shot:\n",
      "A: The answer is  9.\n",
      "Zero shot CoT:\n",
      "A: Let's think step by step. \n",
      "3-5+(2*3+8)\n",
      "-2+(2*3+8)\n",
      "-2+6+8\n",
      "16/6\n",
      "2.666666\n",
      "The answer is  2.666666.\n"
     ]
    },
    {
     "name": "stdin",
     "output_type": "stream",
     "text": [
      " \n"
     ]
    },
    {
     "name": "stdout",
     "output_type": "stream",
     "text": [
      "====================================================================================================\n",
      "Q: What is 0+8*6-(7+3)/((8-5)*5+0)?\n",
      "GT: 47.333333333333336\n",
      "Zero shot:\n",
      "A: The answer is  -2.\n",
      "Zero shot CoT:\n",
      "A: Let's think step by step.\n",
      "\n",
      "0+8*6-(7+3)/((8-5)*5+0)\n",
      "0+8*6-(7+3)/((3)*5+0)\n",
      "0+8*6-(7+3)/(15+0)\n",
      "0+8*6-(7+3)/15\n",
      "0+8*6-(10)/15\n",
      "0+8*6-0.666666666666667\n",
      "0+48-0.666666666666667\n",
      "48-0.666666666666667\n",
      "47.33333333333333\n",
      "The answer is  47.33333333333333\n"
     ]
    },
    {
     "name": "stdin",
     "output_type": "stream",
     "text": [
      " \n"
     ]
    },
    {
     "name": "stdout",
     "output_type": "stream",
     "text": [
      "====================================================================================================\n",
      "Q: What is 6*(1-3)+6?\n",
      "GT: -6\n",
      "Zero shot:\n",
      "A: The answer is  0.\n",
      "Zero shot CoT:\n",
      "A: Let's think step by step. \n",
      "\n",
      "6*(1-3) means 6*-2, which is -12. \n",
      "\n",
      "-12+6 means -6. \n",
      "\n",
      "Therefore, 6*(1-3)+6=-6.\n",
      "The answer is  -6.\n"
     ]
    },
    {
     "name": "stdin",
     "output_type": "stream",
     "text": [
      " \n"
     ]
    },
    {
     "name": "stdout",
     "output_type": "stream",
     "text": [
      "====================================================================================================\n",
      "Q: What is (7/5/6+1*(3-(6+9)))/6+1/4/8?\n",
      "GT: -1.9298611111111112\n",
      "Zero shot:\n",
      "A: The answer is  1.\n",
      "Zero shot CoT:\n",
      "A: Let's think step by step. \n",
      "\n",
      "7/5/6+1*(3-(6+9)))/6+1/4/8\n",
      "= (7/5/6+1*(-3))/6+1/4/8\n",
      "= ((7/5)/6+1*(-3))/6+1/4/8\n",
      "= ((7/30)+1*(-3))/6+1/4/8\n",
      "= ((1/30)+1*(-3))/6+1/4/8\n",
      "= (1/30-3)/6+1/4/8\n",
      "= (-29/30)/6+1/4/8\n",
      "= -29/180+1/4/8\n",
      "= -29/180+1/32\n",
      "= -157/180\n",
      "The answer is  -157/180.\n"
     ]
    },
    {
     "name": "stdin",
     "output_type": "stream",
     "text": [
      " \n"
     ]
    },
    {
     "name": "stdout",
     "output_type": "stream",
     "text": [
      "====================================================================================================\n",
      "Q: What is 2-8*7?\n",
      "GT: -54\n",
      "Zero shot:\n",
      "A: The answer is  -42.\n",
      "Zero shot CoT:\n",
      "A: Let's think step by step. \n",
      "\n",
      "2-8 is -6. \n",
      "-6*7 is -42.\n",
      "The answer is  -42.\n"
     ]
    },
    {
     "name": "stdin",
     "output_type": "stream",
     "text": [
      " \n"
     ]
    },
    {
     "name": "stdout",
     "output_type": "stream",
     "text": [
      "====================================================================================================\n",
      "Q: What is (0+9)/7?\n",
      "GT: 1.2857142857142858\n",
      "Zero shot:\n",
      "A: The answer is  1.\n",
      "Zero shot CoT:\n",
      "A: Let's think step by step. \n",
      "\n",
      "First, we add 0 and 9 to get 9. \n",
      "Then, we divide 9 by 7 to get 1 with a remainder of 2.\n",
      "The answer is  1 with a remainder of 2, or 12.\n"
     ]
    },
    {
     "name": "stdin",
     "output_type": "stream",
     "text": [
      " \n"
     ]
    },
    {
     "name": "stdout",
     "output_type": "stream",
     "text": [
      "====================================================================================================\n",
      "Q: What is (8*8+8)/((1+8+6/(4-3))/5)?\n",
      "GT: 24.0\n",
      "Zero shot:\n",
      "A: The answer is  8.\n",
      "Zero shot CoT:\n",
      "A: Let's think step by step. \n",
      "\n",
      "First, we have to solve the parentheses. In the parentheses, we have (6/(4-3)). 4-3 is 1, so (6/1) is just 6. So now we have (8*8+8)/((1+8+6)/5).\n",
      "\n",
      "Next, we have to solve the parentheses again. This time, it's (1+8+6)/5. 1+8+6 is 15, and 15/5 is 3. So now we have (8*8+8)/3.\n",
      "\n",
      "Next, we have to solve the division. 8*8 is 64, and 64+8 is 72. 72/3 is 24. So the answer is 24.\n",
      "The answer is  24.\n"
     ]
    },
    {
     "name": "stdin",
     "output_type": "stream",
     "text": [
      " \n"
     ]
    },
    {
     "name": "stdout",
     "output_type": "stream",
     "text": [
      "====================================================================================================\n",
      "Q: What is 0+((6+1)*9-(4-(3+7)))+1/(8+3)?\n",
      "GT: 69.0909090909091\n",
      "Zero shot:\n",
      "A: The answer is  0+((6+1)*9-(4\n",
      "Zero shot CoT:\n",
      "A: Let's think step by step.\n",
      "\n",
      "0+((6+1)*9-(4-(3+7)))+1/(8+3)\n",
      "= 0+((6+1)*9-(4-10))+1/(8+3)\n",
      "= 0+((6+1)*9-6)+1/(8+3)\n",
      "= 0+((7*9)-6)+1/(8+3)\n",
      "= 0+(63-6)+1/(8+3)\n",
      "= 0+57+1/(8+3)\n",
      "= 57+1/(8+3)\n",
      "= 57+1/11\n",
      "= 57.0909090909091\n",
      "The answer is  57.0909090909091.\n"
     ]
    },
    {
     "name": "stdin",
     "output_type": "stream",
     "text": [
      " \n"
     ]
    },
    {
     "name": "stdout",
     "output_type": "stream",
     "text": [
      "====================================================================================================\n",
      "Q: What is 6*(5+5)+5/(3+2)?\n",
      "GT: 61.0\n",
      "Zero shot:\n",
      "A: The answer is  80.\n",
      "Zero shot CoT:\n",
      "A: Let's think step by step. \n",
      "\n",
      "6*(5+5) = 6*10 = 60\n",
      "\n",
      "60+5/(3+2) = 60+5/5 = 60+1 = 61\n",
      "The answer is  61.\n"
     ]
    },
    {
     "name": "stdin",
     "output_type": "stream",
     "text": [
      " \n"
     ]
    },
    {
     "name": "stdout",
     "output_type": "stream",
     "text": [
      "====================================================================================================\n",
      "Q: What is (8+6)*7/(4+8)-(9/(0+4)-9*3)?\n",
      "GT: 32.916666666666664\n",
      "Zero shot:\n",
      "A: The answer is  -6.\n",
      "Zero shot CoT:\n",
      "A: Let's think step by step. \n",
      "\n",
      "(8+6)*7/(4+8)-(9/(0+4)-9*3)\n",
      "=(14*7)/(12)-(9/4-9*3)\n",
      "=(98)/(12)-(9/4-27)\n",
      "=(98-108)/12\n",
      "=-10/12\n",
      "=-5/6\n",
      "The answer is  -5/6.\n"
     ]
    },
    {
     "ename": "KeyboardInterrupt",
     "evalue": "Interrupted by user",
     "output_type": "error",
     "traceback": [
      "\u001b[0;31m---------------------------------------------------------------------------\u001b[0m",
      "\u001b[0;31mKeyboardInterrupt\u001b[0m                         Traceback (most recent call last)",
      "Input \u001b[0;32mIn [29]\u001b[0m, in \u001b[0;36m<cell line: 1>\u001b[0;34m()\u001b[0m\n\u001b[1;32m      9\u001b[0m \u001b[38;5;28mprint\u001b[39m(\u001b[38;5;124m'\u001b[39m\u001b[38;5;124mA: Let\u001b[39m\u001b[38;5;130;01m\\'\u001b[39;00m\u001b[38;5;124ms think step by step.\u001b[39m\u001b[38;5;124m'\u001b[39m \u001b[38;5;241m+\u001b[39m res_cot[\u001b[38;5;241m1\u001b[39m])\n\u001b[1;32m     10\u001b[0m \u001b[38;5;28mprint\u001b[39m(\u001b[38;5;124m'\u001b[39m\u001b[38;5;124mThe answer is\u001b[39m\u001b[38;5;124m'\u001b[39m, res_cot[\u001b[38;5;241m2\u001b[39m])\n\u001b[0;32m---> 11\u001b[0m \u001b[38;5;28;43minput\u001b[39;49m\u001b[43m(\u001b[49m\u001b[43m)\u001b[49m\n\u001b[1;32m     12\u001b[0m \u001b[38;5;28mprint\u001b[39m(\u001b[38;5;124m'\u001b[39m\u001b[38;5;124m=\u001b[39m\u001b[38;5;124m'\u001b[39m\u001b[38;5;241m*\u001b[39m\u001b[38;5;241m100\u001b[39m)\n",
      "File \u001b[0;32m~/.virtualenvs/hint/lib/python3.8/site-packages/ipykernel/kernelbase.py:1161\u001b[0m, in \u001b[0;36mKernel.raw_input\u001b[0;34m(self, prompt)\u001b[0m\n\u001b[1;32m   1157\u001b[0m \u001b[38;5;28;01mif\u001b[39;00m \u001b[38;5;129;01mnot\u001b[39;00m \u001b[38;5;28mself\u001b[39m\u001b[38;5;241m.\u001b[39m_allow_stdin:\n\u001b[1;32m   1158\u001b[0m     \u001b[38;5;28;01mraise\u001b[39;00m StdinNotImplementedError(\n\u001b[1;32m   1159\u001b[0m         \u001b[38;5;124m\"\u001b[39m\u001b[38;5;124mraw_input was called, but this frontend does not support input requests.\u001b[39m\u001b[38;5;124m\"\u001b[39m\n\u001b[1;32m   1160\u001b[0m     )\n\u001b[0;32m-> 1161\u001b[0m \u001b[38;5;28;01mreturn\u001b[39;00m \u001b[38;5;28;43mself\u001b[39;49m\u001b[38;5;241;43m.\u001b[39;49m\u001b[43m_input_request\u001b[49m\u001b[43m(\u001b[49m\n\u001b[1;32m   1162\u001b[0m \u001b[43m    \u001b[49m\u001b[38;5;28;43mstr\u001b[39;49m\u001b[43m(\u001b[49m\u001b[43mprompt\u001b[49m\u001b[43m)\u001b[49m\u001b[43m,\u001b[49m\n\u001b[1;32m   1163\u001b[0m \u001b[43m    \u001b[49m\u001b[38;5;28;43mself\u001b[39;49m\u001b[38;5;241;43m.\u001b[39;49m\u001b[43m_parent_ident\u001b[49m\u001b[43m[\u001b[49m\u001b[38;5;124;43m\"\u001b[39;49m\u001b[38;5;124;43mshell\u001b[39;49m\u001b[38;5;124;43m\"\u001b[39;49m\u001b[43m]\u001b[49m\u001b[43m,\u001b[49m\n\u001b[1;32m   1164\u001b[0m \u001b[43m    \u001b[49m\u001b[38;5;28;43mself\u001b[39;49m\u001b[38;5;241;43m.\u001b[39;49m\u001b[43mget_parent\u001b[49m\u001b[43m(\u001b[49m\u001b[38;5;124;43m\"\u001b[39;49m\u001b[38;5;124;43mshell\u001b[39;49m\u001b[38;5;124;43m\"\u001b[39;49m\u001b[43m)\u001b[49m\u001b[43m,\u001b[49m\n\u001b[1;32m   1165\u001b[0m \u001b[43m    \u001b[49m\u001b[43mpassword\u001b[49m\u001b[38;5;241;43m=\u001b[39;49m\u001b[38;5;28;43;01mFalse\u001b[39;49;00m\u001b[43m,\u001b[49m\n\u001b[1;32m   1166\u001b[0m \u001b[43m\u001b[49m\u001b[43m)\u001b[49m\n",
      "File \u001b[0;32m~/.virtualenvs/hint/lib/python3.8/site-packages/ipykernel/kernelbase.py:1205\u001b[0m, in \u001b[0;36mKernel._input_request\u001b[0;34m(self, prompt, ident, parent, password)\u001b[0m\n\u001b[1;32m   1202\u001b[0m             \u001b[38;5;28;01mbreak\u001b[39;00m\n\u001b[1;32m   1203\u001b[0m \u001b[38;5;28;01mexcept\u001b[39;00m \u001b[38;5;167;01mKeyboardInterrupt\u001b[39;00m:\n\u001b[1;32m   1204\u001b[0m     \u001b[38;5;66;03m# re-raise KeyboardInterrupt, to truncate traceback\u001b[39;00m\n\u001b[0;32m-> 1205\u001b[0m     \u001b[38;5;28;01mraise\u001b[39;00m \u001b[38;5;167;01mKeyboardInterrupt\u001b[39;00m(\u001b[38;5;124m\"\u001b[39m\u001b[38;5;124mInterrupted by user\u001b[39m\u001b[38;5;124m\"\u001b[39m) \u001b[38;5;28;01mfrom\u001b[39;00m \u001b[38;5;28mNone\u001b[39m\n\u001b[1;32m   1206\u001b[0m \u001b[38;5;28;01mexcept\u001b[39;00m \u001b[38;5;167;01mException\u001b[39;00m:\n\u001b[1;32m   1207\u001b[0m     \u001b[38;5;28mself\u001b[39m\u001b[38;5;241m.\u001b[39mlog\u001b[38;5;241m.\u001b[39mwarning(\u001b[38;5;124m\"\u001b[39m\u001b[38;5;124mInvalid Message:\u001b[39m\u001b[38;5;124m\"\u001b[39m, exc_info\u001b[38;5;241m=\u001b[39m\u001b[38;5;28;01mTrue\u001b[39;00m)\n",
      "\u001b[0;31mKeyboardInterrupt\u001b[0m: Interrupted by user"
     ]
    }
   ],
   "source": [
    "for res, res_cot in zip(results, results_cot):\n",
    "    e = res_cot[0][2]\n",
    "    if e != 'I': continue\n",
    "    print(f'Q: What is {res_cot[0][0]}?')\n",
    "    print(f'GT: {eval(res_cot[0][0])}')\n",
    "    print('Zero shot:')\n",
    "    print('A: The answer is', res[\"choices\"][0]['text'])\n",
    "    print('Zero shot CoT:')\n",
    "    print('A: Let\\'s think step by step.' + res_cot[1])\n",
    "    print('The answer is', res_cot[2])\n",
    "    input()\n",
    "    print('='*100)"
   ]
  },
  {
   "cell_type": "code",
   "execution_count": null,
   "id": "demonstrated-emphasis",
   "metadata": {},
   "outputs": [],
   "source": []
  }
 ],
 "metadata": {
  "kernelspec": {
   "display_name": "hint",
   "language": "python",
   "name": "hint"
  },
  "language_info": {
   "codemirror_mode": {
    "name": "ipython",
    "version": 3
   },
   "file_extension": ".py",
   "mimetype": "text/x-python",
   "name": "python",
   "nbconvert_exporter": "python",
   "pygments_lexer": "ipython3",
   "version": "3.8.5"
  }
 },
 "nbformat": 4,
 "nbformat_minor": 5
}
