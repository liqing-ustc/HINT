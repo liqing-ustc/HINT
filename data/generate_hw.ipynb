{
 "cells": [
  {
   "cell_type": "code",
   "execution_count": 1,
   "id": "hawaiian-language",
   "metadata": {},
   "outputs": [],
   "source": [
    "import json\n",
    "import random\n",
    "import os\n",
    "\n",
    "from itertools import product\n",
    "from tqdm import tqdm\n",
    "import math\n",
    "import matplotlib.pyplot as plt\n",
    "%matplotlib inline\n",
    "from matplotlib.ticker import FormatStrFormatter\n",
    "import numpy as np\n",
    "from collections import Counter, OrderedDict\n",
    "from domain import *\n",
    "from helper import *\n",
    "\n",
    "splits = ['val', 'test', 'train']\n",
    "evaluation = ['I', 'SS', 'LS', 'SL', 'LL']\n",
    "max_op = 20\n",
    "max_op_train = 10\n",
    "max_value_train = 100\n",
    "max_value_test = 10000"
   ]
  },
  {
   "cell_type": "code",
   "execution_count": 2,
   "id": "quantitative-airport",
   "metadata": {},
   "outputs": [],
   "source": [
    "split2dataset = {}\n",
    "for split in splits:\n",
    "    split2dataset[split] = json.load(open('expr_%s.json'%split))\n",
    "    \n",
    "split2symset = {}\n",
    "for split in splits:\n",
    "    split2symset[split] = json.load(open('sym_%s.json'%split))"
   ]
  },
  {
   "cell_type": "code",
   "execution_count": 3,
   "id": "heavy-lesson",
   "metadata": {},
   "outputs": [
    {
     "data": {
      "image/png": "[encoded data removed]",
      "text/plain": [
       "<PIL.Image.Image image mode=L size=1305x45 at 0x7F3BD06CB6D0>"
      ]
     },
     "metadata": {},
     "output_type": "display_data"
    }
   ],
   "source": [
    "img = render_img(split2dataset['train'][-1035]['img_paths'])\n",
    "display(img)"
   ]
  },
  {
   "cell_type": "code",
   "execution_count": 5,
   "id": "incident-rental",
   "metadata": {},
   "outputs": [
    {
     "name": "stderr",
     "output_type": "stream",
     "text": [
      "100%|██████████████████████████████████| 4698/4698 [00:13<00:00, 350.56it/s]\n",
      "100%|████████████████████████████████| 46620/46620 [02:23<00:00, 325.13it/s]\n",
      "100%|██████████████████████████████| 998000/998000 [29:22<00:00, 566.09it/s]\n"
     ]
    }
   ],
   "source": [
    "expr_img_folder = 'expr_images'\n",
    "for split in splits:\n",
    "    dataset = split2dataset[split]\n",
    "    for sample in tqdm(dataset):\n",
    "        expr_img = render_img(sample['img_paths'])\n",
    "        file_name = sample['id'] + '.jpg'\n",
    "        expr_img.save(os.path.join(expr_img_folder, file_name))\n",
    "        sample['expr_image'] = file_name"
   ]
  },
  {
   "cell_type": "code",
   "execution_count": 6,
   "id": "colored-doctor",
   "metadata": {},
   "outputs": [],
   "source": [
    "for split in splits:\n",
    "    json.dump(split2dataset[split], open('expr_%s.json'%split, 'w'))"
   ]
  },
  {
   "cell_type": "code",
   "execution_count": 8,
   "id": "collective-intermediate",
   "metadata": {},
   "outputs": [],
   "source": [
    "fewshot_dataset = json.load(open('fewshot_dataset.json'))"
   ]
  },
  {
   "cell_type": "code",
   "execution_count": 14,
   "id": "disabled-armstrong",
   "metadata": {},
   "outputs": [
    {
     "name": "stderr",
     "output_type": "stream",
     "text": [
      "  1%|▏                                     | 6/1100 [00:00<00:22, 48.84it/s]"
     ]
    },
    {
     "name": "stdout",
     "output_type": "stream",
     "text": [
      "x\n"
     ]
    },
    {
     "name": "stderr",
     "output_type": "stream",
     "text": [
      "100%|██████████████████████████████████| 1100/1100 [00:03<00:00, 329.81it/s]\n",
      "100%|████████████████████████████████████| 491/491 [00:01<00:00, 304.92it/s]\n",
      "100%|██████████████████████████████████| 4900/4900 [00:14<00:00, 337.06it/s]\n",
      "  2%|▊                                   | 23/1100 [00:00<00:04, 217.73it/s]"
     ]
    },
    {
     "name": "stdout",
     "output_type": "stream",
     "text": [
      "y\n"
     ]
    },
    {
     "name": "stderr",
     "output_type": "stream",
     "text": [
      "100%|██████████████████████████████████| 1100/1100 [00:02<00:00, 471.07it/s]\n",
      "100%|████████████████████████████████████| 493/493 [00:01<00:00, 403.63it/s]\n",
      "100%|██████████████████████████████████| 4900/4900 [00:13<00:00, 360.44it/s]\n",
      "  2%|▌                                   | 17/1000 [00:00<00:06, 162.72it/s]"
     ]
    },
    {
     "name": "stdout",
     "output_type": "stream",
     "text": [
      "a\n"
     ]
    },
    {
     "name": "stderr",
     "output_type": "stream",
     "text": [
      "100%|██████████████████████████████████| 1000/1000 [00:02<00:00, 398.28it/s]\n",
      "100%|████████████████████████████████████| 470/470 [00:01<00:00, 349.57it/s]\n",
      "100%|██████████████████████████████████| 4700/4700 [00:13<00:00, 343.08it/s]\n",
      "  1%|▍                                   | 12/1000 [00:00<00:08, 117.50it/s]"
     ]
    },
    {
     "name": "stdout",
     "output_type": "stream",
     "text": [
      "b\n"
     ]
    },
    {
     "name": "stderr",
     "output_type": "stream",
     "text": [
      "100%|██████████████████████████████████| 1000/1000 [00:02<00:00, 416.84it/s]\n",
      "100%|████████████████████████████████████| 470/470 [00:01<00:00, 342.05it/s]\n",
      "100%|██████████████████████████████████| 4700/4700 [00:13<00:00, 339.74it/s]\n",
      "  0%|                                      | 2/1000 [00:00<00:58, 16.92it/s]"
     ]
    },
    {
     "name": "stdout",
     "output_type": "stream",
     "text": [
      "c\n"
     ]
    },
    {
     "name": "stderr",
     "output_type": "stream",
     "text": [
      "100%|██████████████████████████████████| 1000/1000 [00:02<00:00, 408.60it/s]\n",
      "100%|████████████████████████████████████| 470/470 [00:01<00:00, 319.88it/s]\n",
      "100%|██████████████████████████████████| 4700/4700 [00:14<00:00, 326.52it/s]\n",
      "  3%|▉                                   | 27/1000 [00:00<00:03, 265.13it/s]"
     ]
    },
    {
     "name": "stdout",
     "output_type": "stream",
     "text": [
      "d\n"
     ]
    },
    {
     "name": "stderr",
     "output_type": "stream",
     "text": [
      "100%|██████████████████████████████████| 1000/1000 [00:02<00:00, 496.80it/s]\n",
      "100%|████████████████████████████████████| 470/470 [00:01<00:00, 330.02it/s]\n",
      "100%|██████████████████████████████████| 4700/4700 [00:13<00:00, 337.00it/s]\n"
     ]
    }
   ],
   "source": [
    "for fs, fs_dataset in fewshot_dataset.items():\n",
    "    print(fs)\n",
    "    for dataset in fs_dataset.values():\n",
    "        for sample in tqdm(dataset):\n",
    "            expr_img = render_img(sample['img_paths'])\n",
    "            file_name = f'fs_{fs}_' + sample['id'] + '.jpg'\n",
    "            expr_img.save(os.path.join(expr_img_folder, file_name))\n",
    "            sample['expr_image'] = file_name\n",
    "json.dump(fewshot_dataset, open('fewshot_dataset.json', 'w'))"
   ]
  }
 ],
 "metadata": {
  "kernelspec": {
   "display_name": "hint",
   "language": "python",
   "name": "hint"
  },
  "language_info": {
   "codemirror_mode": {
    "name": "ipython",
    "version": 3
   },
   "file_extension": ".py",
   "mimetype": "text/x-python",
   "name": "python",
   "nbconvert_exporter": "python",
   "pygments_lexer": "ipython3",
   "version": "3.8.5"
  }
 },
 "nbformat": 4,
 "nbformat_minor": 5
}
