{
 "cells": [
  {
   "cell_type": "markdown",
   "id": "attached-timothy",
   "metadata": {},
   "source": [
    "# Generate few shot splits"
   ]
  },
  {
   "cell_type": "code",
   "execution_count": 1,
   "id": "exclusive-equity",
   "metadata": {},
   "outputs": [],
   "source": [
    "import json\n",
    "import random\n",
    "import os\n",
    "from PIL import Image\n",
    "from itertools import product\n",
    "from tqdm import tqdm\n",
    "import math\n",
    "import matplotlib.pyplot as plt\n",
    "%matplotlib inline\n",
    "import numpy as np\n",
    "from collections import Counter\n",
    "\n",
    "from domain import SYM2PROG, Program, NULL_VALUE, FEWSHOT_OPERATORS, FEWSHOT_NUMBERS\n",
    "import sys\n",
    "from helper import *"
   ]
  },
  {
   "cell_type": "code",
   "execution_count": 2,
   "id": "norman-ideal",
   "metadata": {},
   "outputs": [],
   "source": [
    "split2sym = {}\n",
    "for split in splits:\n",
    "    sym_set = {k:Iterator(v) for k,v in json.load(open('sym_%s.json'%split)).items()}\n",
    "    split2sym[split] = sym_set"
   ]
  },
  {
   "cell_type": "code",
   "execution_count": 3,
   "id": "juvenile-conference",
   "metadata": {},
   "outputs": [],
   "source": [
    "fewshot_nums = FEWSHOT_NUMBERS\n",
    "fewshot_ops = FEWSHOT_OPERATORS\n",
    "fewshot_concepts = fewshot_nums + fewshot_ops\n",
    "op2precedence.update({'a': op2precedence['+'], 'b': op2precedence['+'], 'c': op2precedence['*'], 'd': op2precedence['*']})\n",
    "sym2arity.update({x: 0 for x in fewshot_nums})\n",
    "sym2arity.update({x: 2 for x in fewshot_ops})\n",
    "functions = [lambda: 11, lambda: 12,\n",
    "             lambda x,y: max(x, y), lambda x,y: min(x, y), \n",
    "             lambda x,y: math.ceil((x+y)/2), lambda x,y: math.ceil(2*x*y/(x+y)) if x+y != 0 else None]\n",
    "programs = [Program(f) for f in functions]\n",
    "SYM2PROG.update(dict(zip(fewshot_concepts, programs)))"
   ]
  },
  {
   "cell_type": "code",
   "execution_count": 4,
   "id": "smoking-pierce",
   "metadata": {},
   "outputs": [],
   "source": [
    "min_num = 0\n",
    "max_num = 10\n",
    "num_list = list(map(str, range(min_num, max_num)))\n",
    "op_list = ['+', '-', '*', '/']\n",
    "lps = '('\n",
    "rps = ')'\n",
    "\n",
    "def enumerate_expression(n_op):\n",
    "    if n_op == 0:\n",
    "        return [[x] for x in num_list]\n",
    "    \n",
    "    expressions = []\n",
    "    \n",
    "    arity = 1\n",
    "    ops = [op for op in op_list if sym2arity[op] == arity]\n",
    "    inputs = enumerate_expression(n_op-1)\n",
    "    expressions.extend(product(ops, inputs))\n",
    "    \n",
    "    arity = 2\n",
    "    ops = [op for op in op_list if sym2arity[op] == arity]\n",
    "    inputs = []\n",
    "    for i in range(n_op):\n",
    "        input_1 = enumerate_expression(i)\n",
    "        input_2 = enumerate_expression(n_op - 1 - i)\n",
    "        inputs.extend(product(input_1, input_2))\n",
    "    expressions.extend(product(ops, inputs))\n",
    "    \n",
    "    expressions = [flatten(x) for x in expressions]\n",
    "    return expressions\n",
    "\n",
    "def sample_one_expr(n_op):\n",
    "    if n_op == 0:\n",
    "        return [random.choice(num_list)]\n",
    "    op = random.choice(op_list)\n",
    "    if sym2arity[op] == 1:\n",
    "        return [op] + sample_one_expr(n_op-1)\n",
    "    else:\n",
    "        i = random.randint(0, n_op-1)\n",
    "        j = n_op - 1 - i\n",
    "        return [op] + sample_one_expr(i) + sample_one_expr(j)\n",
    "\n",
    "def sample_expression(sym, n_op, n_instances, min_value=0, max_value=float('inf'), res_max_ratio=1.0):\n",
    "    max_ins_res = int(n_instances * res_max_ratio)\n",
    "    res2n_ins = {}\n",
    "    expressions = []\n",
    "    with tqdm(total=n_instances) as pbar:\n",
    "        while len(expressions) < n_instances:\n",
    "            expr = sample_one_expr(n_op)\n",
    "            if expr in expressions:\n",
    "                continue\n",
    "            head = parse_prefix(expr)\n",
    "            res, res_all = eval_expr(expr, head)\n",
    "            if not res:\n",
    "                continue\n",
    "            if res not in res2n_ins:\n",
    "                res2n_ins[res] = 0\n",
    "            if res2n_ins[res] >= max_ins_res:\n",
    "                continue\n",
    "            \n",
    "            max_res = max([x for x in res_all if x is not None])\n",
    "            if max_res >= min_value and max_res <= max_value and sym in expr:\n",
    "                expressions.append(expr)\n",
    "                res2n_ins[res] += 1\n",
    "                pbar.update(1)\n",
    "    return expressions\n",
    "\n",
    "def generate_expression(sym, n_op, n_instances, min_value=0, max_value=float('inf'), res_max_ratio=1.0):\n",
    "    if n_op <= 2:\n",
    "        expressions = []\n",
    "        for expr in enumerate_expression(n_op):\n",
    "            head = parse_prefix(expr)\n",
    "            res, res_all = eval_expr(expr, head)\n",
    "            if res is not None:\n",
    "                max_res = max([x for x in res_all if x is not None])\n",
    "                if max_res >= min_value and max_res <= max_value and sym in expr:\n",
    "                    expressions.append(expr)\n",
    "    else:\n",
    "        assert n_instances is not None\n",
    "        expressions = sample_expression(sym, n_op, n_instances, min_value, max_value, res_max_ratio)\n",
    "    random.shuffle(expressions)\n",
    "    expressions = expressions[:n_instances]\n",
    "    \n",
    "    temp = []\n",
    "    for expr in expressions:\n",
    "        expr = prefix2infix(expr)\n",
    "        head = parse_infix(expr)\n",
    "        res, res_all = eval_expr(expr, head)\n",
    "        if res is not None:\n",
    "            temp.append((expr, head, res, res_all))\n",
    "    \n",
    "    return temp"
   ]
  },
  {
   "cell_type": "code",
   "execution_count": 5,
   "id": "negative-dialogue",
   "metadata": {},
   "outputs": [
    {
     "name": "stdout",
     "output_type": "stream",
     "text": [
      "['0', '1', '2', '3', '4', '5', '6', '7', '8', '9', 'x']\n",
      "['+', '-', '*', '/']\n",
      "there are not enough expressions for train set. Repeat them.\n",
      "0 100 10 100\n",
      "there are not enough expressions for train set. Repeat them.\n",
      "1 100 11 100\n"
     ]
    },
    {
     "name": "stderr",
     "output_type": "stream",
     "text": [
      "100%|███████████████████████████████████████| 210/210 [00:00<00:00, 4523.11it/s]\n",
      " 68%|███████████████████████████▉             | 75/110 [00:00<00:00, 735.74it/s]"
     ]
    },
    {
     "name": "stdout",
     "output_type": "stream",
     "text": [
      "2 100 30 300\n"
     ]
    },
    {
     "name": "stderr",
     "output_type": "stream",
     "text": [
      "100%|████████████████████████████████████████| 110/110 [00:00<00:00, 739.08it/s]\n",
      "100%|███████████████████████████████████████| 210/210 [00:00<00:00, 3170.90it/s]\n",
      " 77%|███████████████████████████████▋         | 85/110 [00:00<00:00, 844.36it/s]"
     ]
    },
    {
     "name": "stdout",
     "output_type": "stream",
     "text": [
      "3 100 30 300\n"
     ]
    },
    {
     "name": "stderr",
     "output_type": "stream",
     "text": [
      "100%|████████████████████████████████████████| 110/110 [00:00<00:00, 781.48it/s]\n",
      "100%|███████████████████████████████████████| 210/210 [00:00<00:00, 2393.96it/s]\n",
      " 65%|██████████████████████████▊              | 72/110 [00:00<00:00, 714.58it/s]"
     ]
    },
    {
     "name": "stdout",
     "output_type": "stream",
     "text": [
      "4 100 30 300\n"
     ]
    },
    {
     "name": "stderr",
     "output_type": "stream",
     "text": [
      "100%|████████████████████████████████████████| 110/110 [00:00<00:00, 680.78it/s]\n",
      "100%|███████████████████████████████████████| 210/210 [00:00<00:00, 2518.49it/s]\n",
      "  0%|                                                   | 0/110 [00:00<?, ?it/s]"
     ]
    },
    {
     "name": "stdout",
     "output_type": "stream",
     "text": [
      "5 100 30 300\n"
     ]
    },
    {
     "name": "stderr",
     "output_type": "stream",
     "text": [
      "100%|████████████████████████████████████████| 110/110 [00:00<00:00, 728.00it/s]\n",
      "100%|███████████████████████████████████████| 210/210 [00:00<00:00, 1988.09it/s]\n",
      "  0%|                                                   | 0/110 [00:00<?, ?it/s]"
     ]
    },
    {
     "name": "stdout",
     "output_type": "stream",
     "text": [
      "6 100 30 300\n"
     ]
    },
    {
     "name": "stderr",
     "output_type": "stream",
     "text": [
      "100%|████████████████████████████████████████| 110/110 [00:00<00:00, 904.59it/s]\n",
      "100%|███████████████████████████████████████| 210/210 [00:00<00:00, 1629.53it/s]\n",
      "  0%|                                                   | 0/110 [00:00<?, ?it/s]"
     ]
    },
    {
     "name": "stdout",
     "output_type": "stream",
     "text": [
      "7 100 30 300\n"
     ]
    },
    {
     "name": "stderr",
     "output_type": "stream",
     "text": [
      "100%|████████████████████████████████████████| 110/110 [00:00<00:00, 773.96it/s]\n",
      "100%|███████████████████████████████████████| 210/210 [00:00<00:00, 1655.00it/s]\n",
      "  0%|                                                   | 0/110 [00:00<?, ?it/s]"
     ]
    },
    {
     "name": "stdout",
     "output_type": "stream",
     "text": [
      "8 100 30 300\n"
     ]
    },
    {
     "name": "stderr",
     "output_type": "stream",
     "text": [
      "100%|████████████████████████████████████████| 110/110 [00:00<00:00, 732.60it/s]\n",
      "100%|███████████████████████████████████████| 210/210 [00:00<00:00, 1321.94it/s]\n",
      "  0%|                                                   | 0/110 [00:00<?, ?it/s]"
     ]
    },
    {
     "name": "stdout",
     "output_type": "stream",
     "text": [
      "9 100 30 300\n"
     ]
    },
    {
     "name": "stderr",
     "output_type": "stream",
     "text": [
      "100%|████████████████████████████████████████| 110/110 [00:00<00:00, 656.86it/s]\n",
      "100%|███████████████████████████████████████| 110/110 [00:00<00:00, 1142.90it/s]\n",
      "  0%|                                                   | 0/110 [00:00<?, ?it/s]"
     ]
    },
    {
     "name": "stdout",
     "output_type": "stream",
     "text": [
      "10 100 30 300\n"
     ]
    },
    {
     "name": "stderr",
     "output_type": "stream",
     "text": [
      "100%|████████████████████████████████████████| 110/110 [00:00<00:00, 657.46it/s]\n",
      "100%|████████████████████████████████████████| 110/110 [00:00<00:00, 933.92it/s]\n",
      "  0%|                                                   | 0/110 [00:00<?, ?it/s]"
     ]
    },
    {
     "name": "stdout",
     "output_type": "stream",
     "text": [
      "11 0 20 200\n"
     ]
    },
    {
     "name": "stderr",
     "output_type": "stream",
     "text": [
      "100%|████████████████████████████████████████| 110/110 [00:00<00:00, 684.37it/s]\n",
      "100%|████████████████████████████████████████| 110/110 [00:00<00:00, 872.52it/s]\n",
      "  0%|                                                   | 0/110 [00:00<?, ?it/s]"
     ]
    },
    {
     "name": "stdout",
     "output_type": "stream",
     "text": [
      "12 0 20 200\n"
     ]
    },
    {
     "name": "stderr",
     "output_type": "stream",
     "text": [
      "100%|████████████████████████████████████████| 110/110 [00:00<00:00, 621.65it/s]\n",
      "100%|████████████████████████████████████████| 110/110 [00:00<00:00, 873.81it/s]\n",
      "  0%|                                                   | 0/110 [00:00<?, ?it/s]"
     ]
    },
    {
     "name": "stdout",
     "output_type": "stream",
     "text": [
      "13 0 20 200\n"
     ]
    },
    {
     "name": "stderr",
     "output_type": "stream",
     "text": [
      "100%|████████████████████████████████████████| 110/110 [00:00<00:00, 642.13it/s]\n",
      "100%|████████████████████████████████████████| 110/110 [00:00<00:00, 680.27it/s]\n",
      "  0%|                                                   | 0/110 [00:00<?, ?it/s]"
     ]
    },
    {
     "name": "stdout",
     "output_type": "stream",
     "text": [
      "14 0 20 200\n"
     ]
    },
    {
     "name": "stderr",
     "output_type": "stream",
     "text": [
      "100%|████████████████████████████████████████| 110/110 [00:00<00:00, 587.05it/s]\n",
      "100%|████████████████████████████████████████| 110/110 [00:00<00:00, 578.32it/s]\n",
      "  0%|                                                   | 0/110 [00:00<?, ?it/s]"
     ]
    },
    {
     "name": "stdout",
     "output_type": "stream",
     "text": [
      "15 0 20 200\n"
     ]
    },
    {
     "name": "stderr",
     "output_type": "stream",
     "text": [
      "100%|████████████████████████████████████████| 110/110 [00:00<00:00, 596.85it/s]\n",
      "100%|████████████████████████████████████████| 110/110 [00:00<00:00, 684.95it/s]\n",
      "  0%|                                                   | 0/110 [00:00<?, ?it/s]"
     ]
    },
    {
     "name": "stdout",
     "output_type": "stream",
     "text": [
      "16 0 20 200\n"
     ]
    },
    {
     "name": "stderr",
     "output_type": "stream",
     "text": [
      "100%|████████████████████████████████████████| 110/110 [00:00<00:00, 470.27it/s]\n",
      " 49%|████████████████████▏                    | 54/110 [00:00<00:00, 533.57it/s]"
     ]
    },
    {
     "name": "stdout",
     "output_type": "stream",
     "text": [
      "17 0 20 200\n"
     ]
    },
    {
     "name": "stderr",
     "output_type": "stream",
     "text": [
      "100%|████████████████████████████████████████| 110/110 [00:00<00:00, 436.81it/s]\n",
      "100%|████████████████████████████████████████| 110/110 [00:00<00:00, 518.56it/s]\n",
      " 45%|██████████████████▎                      | 49/110 [00:00<00:00, 482.51it/s]"
     ]
    },
    {
     "name": "stdout",
     "output_type": "stream",
     "text": [
      "18 0 20 200\n"
     ]
    },
    {
     "name": "stderr",
     "output_type": "stream",
     "text": [
      "100%|████████████████████████████████████████| 110/110 [00:00<00:00, 421.02it/s]\n",
      "100%|████████████████████████████████████████| 110/110 [00:00<00:00, 571.27it/s]\n",
      " 49%|████████████████████▏                    | 54/110 [00:00<00:00, 521.38it/s]"
     ]
    },
    {
     "name": "stdout",
     "output_type": "stream",
     "text": [
      "19 0 20 200\n"
     ]
    },
    {
     "name": "stderr",
     "output_type": "stream",
     "text": [
      "100%|████████████████████████████████████████| 110/110 [00:00<00:00, 461.54it/s]\n",
      "100%|████████████████████████████████████████| 110/110 [00:00<00:00, 456.69it/s]\n"
     ]
    },
    {
     "name": "stdout",
     "output_type": "stream",
     "text": [
      "20 0 20 200\n",
      "[('train', 1100), ('val', 491), ('test', 4900)]\n",
      "train 1100\n",
      "val 491\n",
      "test 4900\n",
      "[('I', 1100, 22.45), ('LL', 1000, 20.41), ('LS', 1000, 20.41), ('SL', 900, 18.37), ('SS', 900, 18.37)]\n",
      "['0', '1', '2', '3', '4', '5', '6', '7', '8', '9', 'y']\n",
      "['+', '-', '*', '/']\n",
      "there are not enough expressions for train set. Repeat them.\n",
      "0 100 10 100\n",
      "there are not enough expressions for train set. Repeat them.\n",
      "1 100 13 100\n"
     ]
    },
    {
     "name": "stderr",
     "output_type": "stream",
     "text": [
      "100%|███████████████████████████████████████| 210/210 [00:00<00:00, 3461.98it/s]\n",
      "100%|████████████████████████████████████████| 110/110 [00:00<00:00, 823.20it/s]"
     ]
    },
    {
     "name": "stdout",
     "output_type": "stream",
     "text": [
      "2 100 30 300\n"
     ]
    },
    {
     "name": "stderr",
     "output_type": "stream",
     "text": [
      "\n",
      "100%|███████████████████████████████████████| 210/210 [00:00<00:00, 3168.40it/s]\n",
      " 75%|██████████████████████████████▉          | 83/110 [00:00<00:00, 827.77it/s]"
     ]
    },
    {
     "name": "stdout",
     "output_type": "stream",
     "text": [
      "3 100 30 300\n"
     ]
    },
    {
     "name": "stderr",
     "output_type": "stream",
     "text": [
      "100%|████████████████████████████████████████| 110/110 [00:00<00:00, 827.88it/s]\n",
      "100%|███████████████████████████████████████| 210/210 [00:00<00:00, 2663.87it/s]\n",
      " 70%|████████████████████████████▋            | 77/110 [00:00<00:00, 759.78it/s]"
     ]
    },
    {
     "name": "stdout",
     "output_type": "stream",
     "text": [
      "4 100 30 300\n"
     ]
    },
    {
     "name": "stderr",
     "output_type": "stream",
     "text": [
      "100%|████████████████████████████████████████| 110/110 [00:00<00:00, 716.45it/s]\n",
      "100%|███████████████████████████████████████| 210/210 [00:00<00:00, 2461.69it/s]\n",
      "  0%|                                                   | 0/110 [00:00<?, ?it/s]"
     ]
    },
    {
     "name": "stdout",
     "output_type": "stream",
     "text": [
      "5 100 30 300\n"
     ]
    },
    {
     "name": "stderr",
     "output_type": "stream",
     "text": [
      "100%|████████████████████████████████████████| 110/110 [00:00<00:00, 847.74it/s]\n",
      "100%|███████████████████████████████████████| 210/210 [00:00<00:00, 2086.58it/s]\n",
      "  0%|                                                   | 0/110 [00:00<?, ?it/s]"
     ]
    },
    {
     "name": "stdout",
     "output_type": "stream",
     "text": [
      "6 100 30 300\n"
     ]
    },
    {
     "name": "stderr",
     "output_type": "stream",
     "text": [
      "100%|███████████████████████████████████████| 110/110 [00:00<00:00, 1028.72it/s]\n",
      "100%|███████████████████████████████████████| 210/210 [00:00<00:00, 1786.08it/s]\n",
      "  0%|                                                   | 0/110 [00:00<?, ?it/s]"
     ]
    },
    {
     "name": "stdout",
     "output_type": "stream",
     "text": [
      "7 100 30 300\n"
     ]
    },
    {
     "name": "stderr",
     "output_type": "stream",
     "text": [
      "100%|████████████████████████████████████████| 110/110 [00:00<00:00, 943.07it/s]\n",
      "100%|███████████████████████████████████████| 210/210 [00:00<00:00, 1705.18it/s]\n",
      "  0%|                                                   | 0/110 [00:00<?, ?it/s]"
     ]
    },
    {
     "name": "stdout",
     "output_type": "stream",
     "text": [
      "8 100 30 300\n"
     ]
    },
    {
     "name": "stderr",
     "output_type": "stream",
     "text": [
      "100%|████████████████████████████████████████| 110/110 [00:00<00:00, 793.57it/s]\n",
      "100%|███████████████████████████████████████| 210/210 [00:00<00:00, 1393.88it/s]\n",
      "  0%|                                                   | 0/110 [00:00<?, ?it/s]"
     ]
    },
    {
     "name": "stdout",
     "output_type": "stream",
     "text": [
      "9 100 30 300\n"
     ]
    },
    {
     "name": "stderr",
     "output_type": "stream",
     "text": [
      "100%|████████████████████████████████████████| 110/110 [00:00<00:00, 863.04it/s]\n",
      "100%|███████████████████████████████████████| 110/110 [00:00<00:00, 1247.35it/s]\n",
      "  0%|                                                   | 0/110 [00:00<?, ?it/s]"
     ]
    },
    {
     "name": "stdout",
     "output_type": "stream",
     "text": [
      "10 100 30 300\n"
     ]
    },
    {
     "name": "stderr",
     "output_type": "stream",
     "text": [
      "100%|████████████████████████████████████████| 110/110 [00:00<00:00, 725.12it/s]\n",
      "100%|███████████████████████████████████████| 110/110 [00:00<00:00, 1053.02it/s]\n",
      "  0%|                                                   | 0/110 [00:00<?, ?it/s]"
     ]
    },
    {
     "name": "stdout",
     "output_type": "stream",
     "text": [
      "11 0 20 200\n"
     ]
    },
    {
     "name": "stderr",
     "output_type": "stream",
     "text": [
      "100%|████████████████████████████████████████| 110/110 [00:00<00:00, 801.42it/s]\n",
      "100%|████████████████████████████████████████| 110/110 [00:00<00:00, 879.16it/s]\n",
      "  0%|                                                   | 0/110 [00:00<?, ?it/s]"
     ]
    },
    {
     "name": "stdout",
     "output_type": "stream",
     "text": [
      "12 0 20 200\n"
     ]
    },
    {
     "name": "stderr",
     "output_type": "stream",
     "text": [
      "100%|████████████████████████████████████████| 110/110 [00:00<00:00, 717.03it/s]\n",
      "100%|████████████████████████████████████████| 110/110 [00:00<00:00, 965.41it/s]\n",
      "  0%|                                                   | 0/110 [00:00<?, ?it/s]"
     ]
    },
    {
     "name": "stdout",
     "output_type": "stream",
     "text": [
      "13 0 20 200\n"
     ]
    },
    {
     "name": "stderr",
     "output_type": "stream",
     "text": [
      "100%|████████████████████████████████████████| 110/110 [00:00<00:00, 671.22it/s]\n",
      "100%|████████████████████████████████████████| 110/110 [00:00<00:00, 816.35it/s]\n",
      "  0%|                                                   | 0/110 [00:00<?, ?it/s]"
     ]
    },
    {
     "name": "stdout",
     "output_type": "stream",
     "text": [
      "14 0 20 200\n"
     ]
    },
    {
     "name": "stderr",
     "output_type": "stream",
     "text": [
      "100%|████████████████████████████████████████| 110/110 [00:00<00:00, 633.24it/s]\n",
      "100%|████████████████████████████████████████| 110/110 [00:00<00:00, 704.04it/s]\n",
      "  0%|                                                   | 0/110 [00:00<?, ?it/s]"
     ]
    },
    {
     "name": "stdout",
     "output_type": "stream",
     "text": [
      "15 0 20 200\n"
     ]
    },
    {
     "name": "stderr",
     "output_type": "stream",
     "text": [
      "100%|████████████████████████████████████████| 110/110 [00:00<00:00, 638.97it/s]\n",
      " 96%|██████████████████████████████████████▌ | 106/110 [00:00<00:00, 518.48it/s]"
     ]
    },
    {
     "name": "stdout",
     "output_type": "stream",
     "text": [
      "16 0 20 200\n"
     ]
    },
    {
     "name": "stderr",
     "output_type": "stream",
     "text": [
      "100%|████████████████████████████████████████| 110/110 [00:00<00:00, 515.13it/s]\n",
      "100%|████████████████████████████████████████| 110/110 [00:00<00:00, 622.77it/s]\n",
      " 64%|██████████████████████████               | 70/110 [00:00<00:00, 685.30it/s]"
     ]
    },
    {
     "name": "stdout",
     "output_type": "stream",
     "text": [
      "17 0 20 200\n"
     ]
    },
    {
     "name": "stderr",
     "output_type": "stream",
     "text": [
      "100%|████████████████████████████████████████| 110/110 [00:00<00:00, 512.02it/s]\n",
      "100%|████████████████████████████████████████| 110/110 [00:00<00:00, 601.97it/s]\n",
      " 43%|█████████████████▌                       | 47/110 [00:00<00:00, 457.88it/s]"
     ]
    },
    {
     "name": "stdout",
     "output_type": "stream",
     "text": [
      "18 0 20 200\n"
     ]
    },
    {
     "name": "stderr",
     "output_type": "stream",
     "text": [
      "100%|████████████████████████████████████████| 110/110 [00:00<00:00, 485.39it/s]\n",
      "100%|████████████████████████████████████████| 110/110 [00:00<00:00, 587.55it/s]\n",
      " 45%|██████████████████▋                      | 50/110 [00:00<00:00, 495.78it/s]"
     ]
    },
    {
     "name": "stdout",
     "output_type": "stream",
     "text": [
      "19 0 20 200\n"
     ]
    },
    {
     "name": "stderr",
     "output_type": "stream",
     "text": [
      "100%|████████████████████████████████████████| 110/110 [00:00<00:00, 396.36it/s]\n",
      "100%|████████████████████████████████████████| 110/110 [00:00<00:00, 480.76it/s]\n"
     ]
    },
    {
     "name": "stdout",
     "output_type": "stream",
     "text": [
      "20 0 20 200\n",
      "[('train', 1100), ('val', 493), ('test', 4900)]\n",
      "train 1100\n",
      "val 493\n",
      "test 4900\n",
      "[('I', 1100, 22.45), ('LL', 1000, 20.41), ('LS', 1000, 20.41), ('SL', 900, 18.37), ('SS', 900, 18.37)]\n",
      "['0', '1', '2', '3', '4', '5', '6', '7', '8', '9']\n",
      "['+', '-', '*', '/', 'a']\n",
      "0 0 0 0\n",
      "1 100 10 100\n"
     ]
    },
    {
     "name": "stderr",
     "output_type": "stream",
     "text": [
      "100%|███████████████████████████████████████| 210/210 [00:00<00:00, 7542.03it/s]\n",
      " 33%|█████████████▍                           | 36/110 [00:00<00:00, 349.20it/s]"
     ]
    },
    {
     "name": "stdout",
     "output_type": "stream",
     "text": [
      "2 100 20 200\n"
     ]
    },
    {
     "name": "stderr",
     "output_type": "stream",
     "text": [
      "100%|████████████████████████████████████████| 110/110 [00:00<00:00, 205.95it/s]\n",
      "100%|███████████████████████████████████████| 210/210 [00:00<00:00, 7894.35it/s]\n",
      " 45%|██████████████████▋                      | 50/110 [00:00<00:00, 490.95it/s]"
     ]
    },
    {
     "name": "stdout",
     "output_type": "stream",
     "text": [
      "3 100 30 300\n"
     ]
    },
    {
     "name": "stderr",
     "output_type": "stream",
     "text": [
      "100%|████████████████████████████████████████| 110/110 [00:00<00:00, 478.22it/s]\n",
      "100%|███████████████████████████████████████| 210/210 [00:00<00:00, 5506.74it/s]\n",
      " 59%|████████████████████████▏                | 65/110 [00:00<00:00, 646.55it/s]"
     ]
    },
    {
     "name": "stdout",
     "output_type": "stream",
     "text": [
      "4 100 30 300\n"
     ]
    },
    {
     "name": "stderr",
     "output_type": "stream",
     "text": [
      "100%|████████████████████████████████████████| 110/110 [00:00<00:00, 592.11it/s]\n",
      "100%|███████████████████████████████████████| 210/210 [00:00<00:00, 4989.91it/s]\n",
      " 66%|███████████████████████████▏             | 73/110 [00:00<00:00, 720.22it/s]"
     ]
    },
    {
     "name": "stdout",
     "output_type": "stream",
     "text": [
      "5 100 30 300\n"
     ]
    },
    {
     "name": "stderr",
     "output_type": "stream",
     "text": [
      "100%|████████████████████████████████████████| 110/110 [00:00<00:00, 722.12it/s]\n",
      "100%|███████████████████████████████████████| 210/210 [00:00<00:00, 4296.18it/s]\n",
      "100%|████████████████████████████████████████| 110/110 [00:00<00:00, 816.79it/s]"
     ]
    },
    {
     "name": "stdout",
     "output_type": "stream",
     "text": [
      "6 100 30 300\n"
     ]
    },
    {
     "name": "stderr",
     "output_type": "stream",
     "text": [
      "\n",
      "100%|███████████████████████████████████████| 210/210 [00:00<00:00, 4528.30it/s]\n",
      "100%|████████████████████████████████████████| 110/110 [00:00<00:00, 862.07it/s]\n",
      "  0%|                                                   | 0/210 [00:00<?, ?it/s]"
     ]
    },
    {
     "name": "stdout",
     "output_type": "stream",
     "text": [
      "7 100 30 300\n",
      "8 100 30 300\n"
     ]
    },
    {
     "name": "stderr",
     "output_type": "stream",
     "text": [
      "100%|███████████████████████████████████████| 210/210 [00:00<00:00, 3908.14it/s]\n",
      "100%|████████████████████████████████████████| 110/110 [00:00<00:00, 867.86it/s]\n",
      "100%|███████████████████████████████████████| 210/210 [00:00<00:00, 3159.48it/s]\n",
      "100%|████████████████████████████████████████| 110/110 [00:00<00:00, 848.42it/s]"
     ]
    },
    {
     "name": "stdout",
     "output_type": "stream",
     "text": [
      "9 100 30 300\n"
     ]
    },
    {
     "name": "stderr",
     "output_type": "stream",
     "text": [
      "\n",
      "100%|███████████████████████████████████████| 110/110 [00:00<00:00, 2522.67it/s]\n",
      "100%|████████████████████████████████████████| 110/110 [00:00<00:00, 835.79it/s]\n",
      "  0%|                                                   | 0/110 [00:00<?, ?it/s]"
     ]
    },
    {
     "name": "stdout",
     "output_type": "stream",
     "text": [
      "10 100 30 300\n",
      "11 0 20 200\n"
     ]
    },
    {
     "name": "stderr",
     "output_type": "stream",
     "text": [
      "100%|███████████████████████████████████████| 110/110 [00:00<00:00, 2608.93it/s]\n",
      "100%|████████████████████████████████████████| 110/110 [00:00<00:00, 850.80it/s]\n",
      "100%|███████████████████████████████████████| 110/110 [00:00<00:00, 1910.82it/s]\n",
      "100%|████████████████████████████████████████| 110/110 [00:00<00:00, 891.67it/s]"
     ]
    },
    {
     "name": "stdout",
     "output_type": "stream",
     "text": [
      "12 0 20 200\n"
     ]
    },
    {
     "name": "stderr",
     "output_type": "stream",
     "text": [
      "\n",
      "100%|███████████████████████████████████████| 110/110 [00:00<00:00, 1860.29it/s]\n",
      "100%|████████████████████████████████████████| 110/110 [00:00<00:00, 897.54it/s]"
     ]
    },
    {
     "name": "stdout",
     "output_type": "stream",
     "text": [
      "13 0 20 200\n"
     ]
    },
    {
     "name": "stderr",
     "output_type": "stream",
     "text": [
      "\n",
      "100%|███████████████████████████████████████| 110/110 [00:00<00:00, 1912.54it/s]\n",
      "100%|████████████████████████████████████████| 110/110 [00:00<00:00, 813.33it/s]"
     ]
    },
    {
     "name": "stdout",
     "output_type": "stream",
     "text": [
      "14 0 20 200\n"
     ]
    },
    {
     "name": "stderr",
     "output_type": "stream",
     "text": [
      "\n",
      "100%|███████████████████████████████████████| 110/110 [00:00<00:00, 1562.21it/s]\n",
      " 71%|█████████████████████████████            | 78/110 [00:00<00:00, 766.24it/s]"
     ]
    },
    {
     "name": "stdout",
     "output_type": "stream",
     "text": [
      "15 0 20 200\n"
     ]
    },
    {
     "name": "stderr",
     "output_type": "stream",
     "text": [
      "100%|████████████████████████████████████████| 110/110 [00:00<00:00, 725.26it/s]\n",
      "100%|███████████████████████████████████████| 110/110 [00:00<00:00, 1279.35it/s]\n",
      "  0%|                                                   | 0/110 [00:00<?, ?it/s]"
     ]
    },
    {
     "name": "stdout",
     "output_type": "stream",
     "text": [
      "16 0 20 200\n"
     ]
    },
    {
     "name": "stderr",
     "output_type": "stream",
     "text": [
      "100%|████████████████████████████████████████| 110/110 [00:00<00:00, 935.86it/s]\n",
      "100%|███████████████████████████████████████| 110/110 [00:00<00:00, 1184.48it/s]\n",
      "  0%|                                                   | 0/110 [00:00<?, ?it/s]"
     ]
    },
    {
     "name": "stdout",
     "output_type": "stream",
     "text": [
      "17 0 20 200\n"
     ]
    },
    {
     "name": "stderr",
     "output_type": "stream",
     "text": [
      "100%|████████████████████████████████████████| 110/110 [00:00<00:00, 785.71it/s]\n",
      "100%|███████████████████████████████████████| 110/110 [00:00<00:00, 1177.75it/s]\n",
      "  0%|                                                   | 0/110 [00:00<?, ?it/s]"
     ]
    },
    {
     "name": "stdout",
     "output_type": "stream",
     "text": [
      "18 0 20 200\n"
     ]
    },
    {
     "name": "stderr",
     "output_type": "stream",
     "text": [
      "100%|████████████████████████████████████████| 110/110 [00:00<00:00, 806.10it/s]\n",
      "100%|████████████████████████████████████████| 110/110 [00:00<00:00, 882.45it/s]\n",
      "  0%|                                                   | 0/110 [00:00<?, ?it/s]"
     ]
    },
    {
     "name": "stdout",
     "output_type": "stream",
     "text": [
      "19 0 20 200\n"
     ]
    },
    {
     "name": "stderr",
     "output_type": "stream",
     "text": [
      "100%|████████████████████████████████████████| 110/110 [00:00<00:00, 752.03it/s]\n"
     ]
    },
    {
     "name": "stdout",
     "output_type": "stream",
     "text": [
      "20 0 20 200\n",
      "[('train', 1000), ('val', 470), ('test', 4700)]\n",
      "train 1000\n",
      "val 470\n",
      "test 4700\n",
      "[('I', 1000, 21.28), ('LL', 1000, 21.28), ('LS', 1000, 21.28), ('SL', 800, 17.02), ('SS', 900, 19.15)]\n",
      "['0', '1', '2', '3', '4', '5', '6', '7', '8', '9']\n",
      "['+', '-', '*', '/', 'b']\n",
      "0 0 0 0\n",
      "1 100 10 100\n"
     ]
    },
    {
     "name": "stderr",
     "output_type": "stream",
     "text": [
      "100%|███████████████████████████████████████| 210/210 [00:00<00:00, 2520.52it/s]\n",
      "  0%|                                                   | 0/110 [00:00<?, ?it/s]"
     ]
    },
    {
     "name": "stdout",
     "output_type": "stream",
     "text": [
      "2 100 20 200\n"
     ]
    },
    {
     "name": "stderr",
     "output_type": "stream",
     "text": [
      "100%|████████████████████████████████████████| 110/110 [00:01<00:00, 107.55it/s]\n",
      "100%|███████████████████████████████████████| 210/210 [00:00<00:00, 2303.47it/s]\n",
      "  0%|                                                   | 0/110 [00:00<?, ?it/s]"
     ]
    },
    {
     "name": "stdout",
     "output_type": "stream",
     "text": [
      "3 100 30 300\n"
     ]
    },
    {
     "name": "stderr",
     "output_type": "stream",
     "text": [
      "100%|████████████████████████████████████████| 110/110 [00:00<00:00, 216.07it/s]\n",
      "100%|███████████████████████████████████████| 210/210 [00:00<00:00, 2589.97it/s]\n",
      " 26%|██████████▊                              | 29/110 [00:00<00:00, 278.67it/s]"
     ]
    },
    {
     "name": "stdout",
     "output_type": "stream",
     "text": [
      "4 100 30 300\n"
     ]
    },
    {
     "name": "stderr",
     "output_type": "stream",
     "text": [
      "100%|████████████████████████████████████████| 110/110 [00:00<00:00, 281.56it/s]\n",
      "100%|███████████████████████████████████████| 210/210 [00:00<00:00, 1874.46it/s]\n",
      "  0%|                                                   | 0/110 [00:00<?, ?it/s]"
     ]
    },
    {
     "name": "stdout",
     "output_type": "stream",
     "text": [
      "5 100 30 300\n"
     ]
    },
    {
     "name": "stderr",
     "output_type": "stream",
     "text": [
      "100%|████████████████████████████████████████| 110/110 [00:00<00:00, 360.29it/s]\n",
      "100%|███████████████████████████████████████| 210/210 [00:00<00:00, 1992.66it/s]\n",
      "  0%|                                                   | 0/110 [00:00<?, ?it/s]"
     ]
    },
    {
     "name": "stdout",
     "output_type": "stream",
     "text": [
      "6 100 30 300\n"
     ]
    },
    {
     "name": "stderr",
     "output_type": "stream",
     "text": [
      "100%|████████████████████████████████████████| 110/110 [00:00<00:00, 400.11it/s]\n",
      "100%|███████████████████████████████████████| 210/210 [00:00<00:00, 1821.05it/s]\n",
      "  0%|                                                   | 0/110 [00:00<?, ?it/s]"
     ]
    },
    {
     "name": "stdout",
     "output_type": "stream",
     "text": [
      "7 100 30 300\n"
     ]
    },
    {
     "name": "stderr",
     "output_type": "stream",
     "text": [
      "100%|████████████████████████████████████████| 110/110 [00:00<00:00, 362.50it/s]\n",
      "100%|███████████████████████████████████████| 210/210 [00:00<00:00, 1781.54it/s]\n",
      "  0%|                                                   | 0/110 [00:00<?, ?it/s]"
     ]
    },
    {
     "name": "stdout",
     "output_type": "stream",
     "text": [
      "8 100 30 300\n"
     ]
    },
    {
     "name": "stderr",
     "output_type": "stream",
     "text": [
      "100%|████████████████████████████████████████| 110/110 [00:00<00:00, 361.10it/s]\n",
      "100%|███████████████████████████████████████| 210/210 [00:00<00:00, 1570.72it/s]\n",
      "  0%|                                                   | 0/110 [00:00<?, ?it/s]"
     ]
    },
    {
     "name": "stdout",
     "output_type": "stream",
     "text": [
      "9 100 30 300\n"
     ]
    },
    {
     "name": "stderr",
     "output_type": "stream",
     "text": [
      "100%|████████████████████████████████████████| 110/110 [00:00<00:00, 356.78it/s]\n",
      "100%|███████████████████████████████████████| 110/110 [00:00<00:00, 1169.09it/s]\n",
      "  0%|                                                   | 0/110 [00:00<?, ?it/s]"
     ]
    },
    {
     "name": "stdout",
     "output_type": "stream",
     "text": [
      "10 100 30 300\n"
     ]
    },
    {
     "name": "stderr",
     "output_type": "stream",
     "text": [
      "100%|████████████████████████████████████████| 110/110 [00:00<00:00, 391.43it/s]\n",
      "100%|███████████████████████████████████████| 110/110 [00:00<00:00, 1341.70it/s]\n",
      "  0%|                                                   | 0/110 [00:00<?, ?it/s]"
     ]
    },
    {
     "name": "stdout",
     "output_type": "stream",
     "text": [
      "11 0 20 200\n"
     ]
    },
    {
     "name": "stderr",
     "output_type": "stream",
     "text": [
      "100%|████████████████████████████████████████| 110/110 [00:00<00:00, 409.95it/s]\n",
      "100%|████████████████████████████████████████| 110/110 [00:00<00:00, 882.86it/s]\n",
      "  0%|                                                   | 0/110 [00:00<?, ?it/s]"
     ]
    },
    {
     "name": "stdout",
     "output_type": "stream",
     "text": [
      "12 0 20 200\n"
     ]
    },
    {
     "name": "stderr",
     "output_type": "stream",
     "text": [
      "100%|████████████████████████████████████████| 110/110 [00:00<00:00, 338.06it/s]\n",
      "100%|████████████████████████████████████████| 110/110 [00:00<00:00, 921.59it/s]\n",
      "  0%|                                                   | 0/110 [00:00<?, ?it/s]"
     ]
    },
    {
     "name": "stdout",
     "output_type": "stream",
     "text": [
      "13 0 20 200\n"
     ]
    },
    {
     "name": "stderr",
     "output_type": "stream",
     "text": [
      "100%|████████████████████████████████████████| 110/110 [00:00<00:00, 358.04it/s]\n",
      "100%|████████████████████████████████████████| 110/110 [00:00<00:00, 746.55it/s]\n",
      "  0%|                                                   | 0/110 [00:00<?, ?it/s]"
     ]
    },
    {
     "name": "stdout",
     "output_type": "stream",
     "text": [
      "14 0 20 200\n"
     ]
    },
    {
     "name": "stderr",
     "output_type": "stream",
     "text": [
      "100%|████████████████████████████████████████| 110/110 [00:00<00:00, 376.18it/s]\n",
      "100%|████████████████████████████████████████| 110/110 [00:00<00:00, 750.70it/s]\n",
      "  0%|                                                   | 0/110 [00:00<?, ?it/s]"
     ]
    },
    {
     "name": "stdout",
     "output_type": "stream",
     "text": [
      "15 0 20 200\n"
     ]
    },
    {
     "name": "stderr",
     "output_type": "stream",
     "text": [
      "100%|████████████████████████████████████████| 110/110 [00:00<00:00, 379.91it/s]\n",
      "100%|████████████████████████████████████████| 110/110 [00:00<00:00, 650.68it/s]\n",
      "  0%|                                                   | 0/110 [00:00<?, ?it/s]"
     ]
    },
    {
     "name": "stdout",
     "output_type": "stream",
     "text": [
      "16 0 20 200\n"
     ]
    },
    {
     "name": "stderr",
     "output_type": "stream",
     "text": [
      "100%|████████████████████████████████████████| 110/110 [00:00<00:00, 312.36it/s]\n",
      "100%|████████████████████████████████████████| 110/110 [00:00<00:00, 644.73it/s]\n",
      "  0%|                                                   | 0/110 [00:00<?, ?it/s]"
     ]
    },
    {
     "name": "stdout",
     "output_type": "stream",
     "text": [
      "17 0 20 200\n"
     ]
    },
    {
     "name": "stderr",
     "output_type": "stream",
     "text": [
      "100%|████████████████████████████████████████| 110/110 [00:00<00:00, 297.05it/s]\n",
      "100%|████████████████████████████████████████| 110/110 [00:00<00:00, 567.08it/s]\n",
      "  0%|                                                   | 0/110 [00:00<?, ?it/s]"
     ]
    },
    {
     "name": "stdout",
     "output_type": "stream",
     "text": [
      "18 0 20 200\n"
     ]
    },
    {
     "name": "stderr",
     "output_type": "stream",
     "text": [
      "100%|████████████████████████████████████████| 110/110 [00:00<00:00, 221.83it/s]\n",
      " 63%|█████████████████████████▋               | 69/110 [00:00<00:00, 680.58it/s]"
     ]
    },
    {
     "name": "stdout",
     "output_type": "stream",
     "text": [
      "19 0 20 200\n"
     ]
    },
    {
     "name": "stderr",
     "output_type": "stream",
     "text": [
      "100%|████████████████████████████████████████| 110/110 [00:00<00:00, 490.38it/s]\n",
      "100%|████████████████████████████████████████| 110/110 [00:00<00:00, 246.96it/s]\n"
     ]
    },
    {
     "name": "stdout",
     "output_type": "stream",
     "text": [
      "20 0 20 200\n",
      "[('train', 1000), ('val', 470), ('test', 4700)]\n",
      "train 1000\n",
      "val 470\n",
      "test 4700\n",
      "[('I', 1000, 21.28), ('LL', 1000, 21.28), ('LS', 1000, 21.28), ('SL', 800, 17.02), ('SS', 900, 19.15)]\n",
      "['0', '1', '2', '3', '4', '5', '6', '7', '8', '9']\n",
      "['+', '-', '*', '/', 'c']\n",
      "0 0 0 0\n",
      "1 100 10 100\n"
     ]
    },
    {
     "name": "stderr",
     "output_type": "stream",
     "text": [
      "100%|███████████████████████████████████████| 210/210 [00:00<00:00, 4538.07it/s]\n",
      " 22%|████████▉                                | 24/110 [00:00<00:00, 232.82it/s]"
     ]
    },
    {
     "name": "stdout",
     "output_type": "stream",
     "text": [
      "2 100 20 200\n"
     ]
    },
    {
     "name": "stderr",
     "output_type": "stream",
     "text": [
      "100%|████████████████████████████████████████| 110/110 [00:00<00:00, 176.20it/s]\n",
      "100%|███████████████████████████████████████| 210/210 [00:00<00:00, 4629.33it/s]\n",
      " 36%|██████████████▉                          | 40/110 [00:00<00:00, 399.40it/s]"
     ]
    },
    {
     "name": "stdout",
     "output_type": "stream",
     "text": [
      "3 100 30 300\n"
     ]
    },
    {
     "name": "stderr",
     "output_type": "stream",
     "text": [
      "100%|████████████████████████████████████████| 110/110 [00:00<00:00, 407.82it/s]\n",
      "100%|███████████████████████████████████████| 210/210 [00:00<00:00, 4337.35it/s]\n",
      " 47%|███████████████████▍                     | 52/110 [00:00<00:00, 518.70it/s]"
     ]
    },
    {
     "name": "stdout",
     "output_type": "stream",
     "text": [
      "4 100 30 300\n"
     ]
    },
    {
     "name": "stderr",
     "output_type": "stream",
     "text": [
      "100%|████████████████████████████████████████| 110/110 [00:00<00:00, 525.96it/s]\n",
      "100%|███████████████████████████████████████| 210/210 [00:00<00:00, 3626.93it/s]\n",
      " 69%|████████████████████████████▎            | 76/110 [00:00<00:00, 753.18it/s]"
     ]
    },
    {
     "name": "stdout",
     "output_type": "stream",
     "text": [
      "5 100 30 300\n"
     ]
    },
    {
     "name": "stderr",
     "output_type": "stream",
     "text": [
      "100%|████████████████████████████████████████| 110/110 [00:00<00:00, 713.83it/s]\n",
      "100%|███████████████████████████████████████| 210/210 [00:00<00:00, 3794.97it/s]\n",
      " 65%|██████████████████████████▍              | 71/110 [00:00<00:00, 701.86it/s]"
     ]
    },
    {
     "name": "stdout",
     "output_type": "stream",
     "text": [
      "6 100 30 300\n"
     ]
    },
    {
     "name": "stderr",
     "output_type": "stream",
     "text": [
      "100%|████████████████████████████████████████| 110/110 [00:00<00:00, 685.69it/s]\n",
      "100%|███████████████████████████████████████| 210/210 [00:00<00:00, 3562.98it/s]\n",
      " 66%|███████████████████████████▏             | 73/110 [00:00<00:00, 728.63it/s]"
     ]
    },
    {
     "name": "stdout",
     "output_type": "stream",
     "text": [
      "7 100 30 300\n"
     ]
    },
    {
     "name": "stderr",
     "output_type": "stream",
     "text": [
      "100%|████████████████████████████████████████| 110/110 [00:00<00:00, 731.25it/s]\n",
      "100%|███████████████████████████████████████| 210/210 [00:00<00:00, 2959.08it/s]\n",
      " 71%|█████████████████████████████            | 78/110 [00:00<00:00, 774.55it/s]"
     ]
    },
    {
     "name": "stdout",
     "output_type": "stream",
     "text": [
      "8 100 30 300\n"
     ]
    },
    {
     "name": "stderr",
     "output_type": "stream",
     "text": [
      "100%|████████████████████████████████████████| 110/110 [00:00<00:00, 679.63it/s]\n",
      "100%|███████████████████████████████████████| 210/210 [00:00<00:00, 2930.80it/s]\n",
      " 63%|█████████████████████████▋               | 69/110 [00:00<00:00, 681.46it/s]"
     ]
    },
    {
     "name": "stdout",
     "output_type": "stream",
     "text": [
      "9 100 30 300\n"
     ]
    },
    {
     "name": "stderr",
     "output_type": "stream",
     "text": [
      "100%|████████████████████████████████████████| 110/110 [00:00<00:00, 731.68it/s]\n",
      "100%|███████████████████████████████████████| 110/110 [00:00<00:00, 2497.12it/s]\n",
      " 66%|███████████████████████████▏             | 73/110 [00:00<00:00, 721.66it/s]"
     ]
    },
    {
     "name": "stdout",
     "output_type": "stream",
     "text": [
      "10 100 30 300\n"
     ]
    },
    {
     "name": "stderr",
     "output_type": "stream",
     "text": [
      "100%|████████████████████████████████████████| 110/110 [00:00<00:00, 679.27it/s]\n",
      "100%|███████████████████████████████████████| 110/110 [00:00<00:00, 2219.59it/s]\n",
      " 77%|███████████████████████████████▋         | 85/110 [00:00<00:00, 845.22it/s]"
     ]
    },
    {
     "name": "stdout",
     "output_type": "stream",
     "text": [
      "11 0 20 200\n"
     ]
    },
    {
     "name": "stderr",
     "output_type": "stream",
     "text": [
      "100%|████████████████████████████████████████| 110/110 [00:00<00:00, 746.97it/s]\n",
      "100%|███████████████████████████████████████| 110/110 [00:00<00:00, 1826.85it/s]\n",
      " 70%|████████████████████████████▋            | 77/110 [00:00<00:00, 768.85it/s]"
     ]
    },
    {
     "name": "stdout",
     "output_type": "stream",
     "text": [
      "12 0 20 200\n"
     ]
    },
    {
     "name": "stderr",
     "output_type": "stream",
     "text": [
      "100%|████████████████████████████████████████| 110/110 [00:00<00:00, 671.59it/s]\n",
      "100%|███████████████████████████████████████| 110/110 [00:00<00:00, 1669.89it/s]\n",
      " 72%|█████████████████████████████▍           | 79/110 [00:00<00:00, 788.49it/s]"
     ]
    },
    {
     "name": "stdout",
     "output_type": "stream",
     "text": [
      "13 0 20 200\n"
     ]
    },
    {
     "name": "stderr",
     "output_type": "stream",
     "text": [
      "100%|████████████████████████████████████████| 110/110 [00:00<00:00, 686.49it/s]\n",
      "100%|███████████████████████████████████████| 110/110 [00:00<00:00, 1570.83it/s]\n",
      " 75%|██████████████████████████████▉          | 83/110 [00:00<00:00, 825.00it/s]"
     ]
    },
    {
     "name": "stdout",
     "output_type": "stream",
     "text": [
      "14 0 20 200\n"
     ]
    },
    {
     "name": "stderr",
     "output_type": "stream",
     "text": [
      "100%|████████████████████████████████████████| 110/110 [00:00<00:00, 706.35it/s]\n",
      "100%|███████████████████████████████████████| 110/110 [00:00<00:00, 1338.43it/s]\n",
      "  0%|                                                   | 0/110 [00:00<?, ?it/s]"
     ]
    },
    {
     "name": "stdout",
     "output_type": "stream",
     "text": [
      "15 0 20 200\n"
     ]
    },
    {
     "name": "stderr",
     "output_type": "stream",
     "text": [
      "100%|████████████████████████████████████████| 110/110 [00:00<00:00, 614.82it/s]\n",
      "100%|███████████████████████████████████████| 110/110 [00:00<00:00, 1274.84it/s]\n",
      "  0%|                                                   | 0/110 [00:00<?, ?it/s]"
     ]
    },
    {
     "name": "stdout",
     "output_type": "stream",
     "text": [
      "16 0 20 200\n"
     ]
    },
    {
     "name": "stderr",
     "output_type": "stream",
     "text": [
      "100%|████████████████████████████████████████| 110/110 [00:00<00:00, 700.45it/s]\n",
      "100%|███████████████████████████████████████| 110/110 [00:00<00:00, 1234.33it/s]\n",
      "  0%|                                                   | 0/110 [00:00<?, ?it/s]"
     ]
    },
    {
     "name": "stdout",
     "output_type": "stream",
     "text": [
      "17 0 20 200\n"
     ]
    },
    {
     "name": "stderr",
     "output_type": "stream",
     "text": [
      "100%|████████████████████████████████████████| 110/110 [00:00<00:00, 685.43it/s]\n",
      "100%|████████████████████████████████████████| 110/110 [00:00<00:00, 900.36it/s]\n",
      "  0%|                                                   | 0/110 [00:00<?, ?it/s]"
     ]
    },
    {
     "name": "stdout",
     "output_type": "stream",
     "text": [
      "18 0 20 200\n"
     ]
    },
    {
     "name": "stderr",
     "output_type": "stream",
     "text": [
      "100%|████████████████████████████████████████| 110/110 [00:00<00:00, 563.39it/s]\n",
      "100%|███████████████████████████████████████| 110/110 [00:00<00:00, 1024.55it/s]\n",
      "  0%|                                                   | 0/110 [00:00<?, ?it/s]"
     ]
    },
    {
     "name": "stdout",
     "output_type": "stream",
     "text": [
      "19 0 20 200\n"
     ]
    },
    {
     "name": "stderr",
     "output_type": "stream",
     "text": [
      "100%|████████████████████████████████████████| 110/110 [00:00<00:00, 492.01it/s]\n"
     ]
    },
    {
     "name": "stdout",
     "output_type": "stream",
     "text": [
      "20 0 20 200\n",
      "[('train', 1000), ('val', 470), ('test', 4700)]\n",
      "train 1000\n",
      "val 470\n",
      "test 4700\n",
      "[('I', 1000, 21.28), ('LL', 1000, 21.28), ('LS', 1000, 21.28), ('SL', 800, 17.02), ('SS', 900, 19.15)]\n",
      "['0', '1', '2', '3', '4', '5', '6', '7', '8', '9']\n",
      "['+', '-', '*', '/', 'd']\n",
      "0 0 0 0\n",
      "there are not enough expressions for train set. Repeat them.\n",
      "1 100 10 100\n"
     ]
    },
    {
     "name": "stderr",
     "output_type": "stream",
     "text": [
      "100%|███████████████████████████████████████| 210/210 [00:00<00:00, 2448.73it/s]\n",
      "  0%|                                                   | 0/110 [00:00<?, ?it/s]"
     ]
    },
    {
     "name": "stdout",
     "output_type": "stream",
     "text": [
      "2 100 20 200\n"
     ]
    },
    {
     "name": "stderr",
     "output_type": "stream",
     "text": [
      "100%|████████████████████████████████████████| 110/110 [00:00<00:00, 137.03it/s]\n",
      "100%|███████████████████████████████████████| 210/210 [00:00<00:00, 3408.43it/s]\n",
      " 25%|██████████▍                              | 28/110 [00:00<00:00, 274.20it/s]"
     ]
    },
    {
     "name": "stdout",
     "output_type": "stream",
     "text": [
      "3 100 30 300\n"
     ]
    },
    {
     "name": "stderr",
     "output_type": "stream",
     "text": [
      "100%|████████████████████████████████████████| 110/110 [00:00<00:00, 273.53it/s]\n",
      "100%|███████████████████████████████████████| 210/210 [00:00<00:00, 2717.19it/s]\n",
      " 36%|██████████████▉                          | 40/110 [00:00<00:00, 369.87it/s]"
     ]
    },
    {
     "name": "stdout",
     "output_type": "stream",
     "text": [
      "4 100 30 300\n"
     ]
    },
    {
     "name": "stderr",
     "output_type": "stream",
     "text": [
      "100%|████████████████████████████████████████| 110/110 [00:00<00:00, 285.27it/s]\n",
      "100%|███████████████████████████████████████| 210/210 [00:00<00:00, 2560.98it/s]\n",
      " 39%|████████████████                         | 43/110 [00:00<00:00, 428.13it/s]"
     ]
    },
    {
     "name": "stdout",
     "output_type": "stream",
     "text": [
      "5 100 30 300\n"
     ]
    },
    {
     "name": "stderr",
     "output_type": "stream",
     "text": [
      "100%|████████████████████████████████████████| 110/110 [00:00<00:00, 383.18it/s]\n",
      "100%|███████████████████████████████████████| 210/210 [00:00<00:00, 2691.05it/s]\n",
      " 42%|█████████████████▏                       | 46/110 [00:00<00:00, 443.48it/s]"
     ]
    },
    {
     "name": "stdout",
     "output_type": "stream",
     "text": [
      "6 100 30 300\n"
     ]
    },
    {
     "name": "stderr",
     "output_type": "stream",
     "text": [
      "100%|████████████████████████████████████████| 110/110 [00:00<00:00, 453.95it/s]\n",
      "100%|███████████████████████████████████████| 210/210 [00:00<00:00, 1845.79it/s]\n",
      "  0%|                                                   | 0/110 [00:00<?, ?it/s]"
     ]
    },
    {
     "name": "stdout",
     "output_type": "stream",
     "text": [
      "7 100 30 300\n"
     ]
    },
    {
     "name": "stderr",
     "output_type": "stream",
     "text": [
      "100%|████████████████████████████████████████| 110/110 [00:00<00:00, 436.12it/s]\n",
      "100%|███████████████████████████████████████| 210/210 [00:00<00:00, 2016.20it/s]\n",
      "  0%|                                                   | 0/110 [00:00<?, ?it/s]"
     ]
    },
    {
     "name": "stdout",
     "output_type": "stream",
     "text": [
      "8 100 30 300\n"
     ]
    },
    {
     "name": "stderr",
     "output_type": "stream",
     "text": [
      "100%|████████████████████████████████████████| 110/110 [00:00<00:00, 471.78it/s]\n",
      "100%|███████████████████████████████████████| 210/210 [00:00<00:00, 1799.38it/s]\n",
      "  0%|                                                   | 0/110 [00:00<?, ?it/s]"
     ]
    },
    {
     "name": "stdout",
     "output_type": "stream",
     "text": [
      "9 100 30 300\n"
     ]
    },
    {
     "name": "stderr",
     "output_type": "stream",
     "text": [
      "100%|████████████████████████████████████████| 110/110 [00:00<00:00, 526.44it/s]\n",
      "100%|███████████████████████████████████████| 110/110 [00:00<00:00, 1360.02it/s]\n",
      " 45%|██████████████████▎                      | 49/110 [00:00<00:00, 485.59it/s]"
     ]
    },
    {
     "name": "stdout",
     "output_type": "stream",
     "text": [
      "10 100 30 300\n"
     ]
    },
    {
     "name": "stderr",
     "output_type": "stream",
     "text": [
      "100%|████████████████████████████████████████| 110/110 [00:00<00:00, 471.64it/s]\n",
      "100%|███████████████████████████████████████| 110/110 [00:00<00:00, 1266.92it/s]\n",
      "  0%|                                                   | 0/110 [00:00<?, ?it/s]"
     ]
    },
    {
     "name": "stdout",
     "output_type": "stream",
     "text": [
      "11 0 20 200\n"
     ]
    },
    {
     "name": "stderr",
     "output_type": "stream",
     "text": [
      "100%|████████████████████████████████████████| 110/110 [00:00<00:00, 494.56it/s]\n",
      "100%|███████████████████████████████████████| 110/110 [00:00<00:00, 1061.34it/s]\n",
      "  0%|                                                   | 0/110 [00:00<?, ?it/s]"
     ]
    },
    {
     "name": "stdout",
     "output_type": "stream",
     "text": [
      "12 0 20 200\n"
     ]
    },
    {
     "name": "stderr",
     "output_type": "stream",
     "text": [
      "100%|████████████████████████████████████████| 110/110 [00:00<00:00, 413.82it/s]\n",
      "100%|████████████████████████████████████████| 110/110 [00:00<00:00, 884.41it/s]\n",
      "  0%|                                                   | 0/110 [00:00<?, ?it/s]"
     ]
    },
    {
     "name": "stdout",
     "output_type": "stream",
     "text": [
      "13 0 20 200\n"
     ]
    },
    {
     "name": "stderr",
     "output_type": "stream",
     "text": [
      "100%|████████████████████████████████████████| 110/110 [00:00<00:00, 406.54it/s]\n",
      "100%|████████████████████████████████████████| 110/110 [00:00<00:00, 794.32it/s]\n",
      "  0%|                                                   | 0/110 [00:00<?, ?it/s]"
     ]
    },
    {
     "name": "stdout",
     "output_type": "stream",
     "text": [
      "14 0 20 200\n"
     ]
    },
    {
     "name": "stderr",
     "output_type": "stream",
     "text": [
      "100%|████████████████████████████████████████| 110/110 [00:00<00:00, 363.48it/s]\n",
      "100%|████████████████████████████████████████| 110/110 [00:00<00:00, 766.09it/s]\n",
      "  0%|                                                   | 0/110 [00:00<?, ?it/s]"
     ]
    },
    {
     "name": "stdout",
     "output_type": "stream",
     "text": [
      "15 0 20 200\n"
     ]
    },
    {
     "name": "stderr",
     "output_type": "stream",
     "text": [
      "100%|████████████████████████████████████████| 110/110 [00:00<00:00, 349.56it/s]\n",
      "100%|████████████████████████████████████████| 110/110 [00:00<00:00, 713.18it/s]\n",
      "  0%|                                                   | 0/110 [00:00<?, ?it/s]"
     ]
    },
    {
     "name": "stdout",
     "output_type": "stream",
     "text": [
      "16 0 20 200\n"
     ]
    },
    {
     "name": "stderr",
     "output_type": "stream",
     "text": [
      "100%|████████████████████████████████████████| 110/110 [00:00<00:00, 362.61it/s]\n",
      "100%|████████████████████████████████████████| 110/110 [00:00<00:00, 591.90it/s]\n",
      "  0%|                                                   | 0/110 [00:00<?, ?it/s]"
     ]
    },
    {
     "name": "stdout",
     "output_type": "stream",
     "text": [
      "17 0 20 200\n"
     ]
    },
    {
     "name": "stderr",
     "output_type": "stream",
     "text": [
      "100%|████████████████████████████████████████| 110/110 [00:00<00:00, 369.53it/s]\n",
      "100%|████████████████████████████████████████| 110/110 [00:00<00:00, 540.70it/s]"
     ]
    },
    {
     "name": "stdout",
     "output_type": "stream",
     "text": [
      "18 0 20 200\n"
     ]
    },
    {
     "name": "stderr",
     "output_type": "stream",
     "text": [
      "\n",
      "100%|████████████████████████████████████████| 110/110 [00:00<00:00, 275.55it/s]\n",
      " 58%|███████████████████████▊                 | 64/110 [00:00<00:00, 619.69it/s]"
     ]
    },
    {
     "name": "stdout",
     "output_type": "stream",
     "text": [
      "19 0 20 200\n"
     ]
    },
    {
     "name": "stderr",
     "output_type": "stream",
     "text": [
      "100%|████████████████████████████████████████| 110/110 [00:00<00:00, 486.10it/s]\n",
      "100%|████████████████████████████████████████| 110/110 [00:00<00:00, 370.57it/s]\n"
     ]
    },
    {
     "name": "stdout",
     "output_type": "stream",
     "text": [
      "20 0 20 200\n",
      "[('train', 1000), ('val', 470), ('test', 4700)]\n",
      "train 1000\n",
      "val 470\n",
      "test 4700\n",
      "[('I', 1000, 21.28), ('LL', 1000, 21.28), ('LS', 1000, 21.28), ('SL', 800, 17.02), ('SS', 900, 19.15)]\n"
     ]
    }
   ],
   "source": [
    "fs2dataset = {}\n",
    "for i, fs in enumerate(fewshot_concepts):\n",
    "    random.seed(12306)\n",
    "    max_op = 20\n",
    "    max_op_train = 10\n",
    "    max_value_train = 100\n",
    "    max_value_test = 10000\n",
    "    n_train = 100\n",
    "    n_test = 100\n",
    "    n_val = 10\n",
    "    res_max_ratio = 0.05\n",
    "    train_exprs = []\n",
    "    val_exprs = []\n",
    "    test_exprs = []\n",
    "    \n",
    "    if fs in fewshot_nums:\n",
    "        num_list.append(fs)\n",
    "    if fs in fewshot_ops:\n",
    "        op_list.append(fs)\n",
    "    print(num_list)\n",
    "    print(op_list)\n",
    "    \n",
    "    # generate symbolic expression\n",
    "    for n_op in range(max_op + 1):\n",
    "        train_exprs_i = []\n",
    "        val_exprs_i = []\n",
    "        test_exprs_i = []\n",
    "        \n",
    "        if not (fs in fewshot_ops and n_op == 0):\n",
    "            if n_op > max_op_train:\n",
    "                n_train = 0\n",
    "            expressions = generate_expression(fs, n_op, n_train + n_val + n_test, \n",
    "                                        max_value=max_value_train, res_max_ratio=res_max_ratio)\n",
    "            if len(expressions) < n_train:\n",
    "                print('there are not enough expressions for train set. Repeat them.')\n",
    "                expressions = expressions * (n_train // len(expressions) + 1)\n",
    "                expressions = expressions[:n_train]\n",
    "\n",
    "\n",
    "\n",
    "            # split 'I'\n",
    "            if n_train > 0:\n",
    "                train_exprs_i.extend(expressions[:n_train])\n",
    "                val_exprs_i.extend(expressions[:min(n_train, n_val)])\n",
    "                test_exprs_i.extend(expressions[:min(n_train, n_test)])\n",
    "\n",
    "            # split 'SS' or 'LS'\n",
    "            val_exprs_i.extend(expressions[n_train:n_train+n_val])\n",
    "            test_exprs_i.extend(expressions[n_train+n_val:])\n",
    "\n",
    "            # split 'SL' or 'LL'\n",
    "            expressions = generate_expression(fs, n_op, n_val + n_test,\n",
    "                            min_value=max_value_train+1, max_value=max_value_test, res_max_ratio=res_max_ratio)\n",
    "            val_exprs_i.extend(expressions[:n_val])\n",
    "            test_exprs_i.extend(expressions[n_val:n_val+n_test])\n",
    "\n",
    "        print(n_op, len(train_exprs_i), len(val_exprs_i), len(test_exprs_i))\n",
    "        train_exprs.append(train_exprs_i)\n",
    "        val_exprs.append(val_exprs_i)\n",
    "        test_exprs.append(test_exprs_i)\n",
    "\n",
    "    split2exprs = {'train': train_exprs, 'val': val_exprs, 'test': test_exprs}\n",
    "    print([(k, sum([len(x) for x in v])) for k, v in split2exprs.items()])\n",
    "    \n",
    "    split2dataset = {}\n",
    "    for split in splits:\n",
    "        sym_set = split2sym[split]\n",
    "        exprs = split2exprs[split]\n",
    "        dataset = []\n",
    "        idx = 0\n",
    "        for n_op, expr_list in enumerate(exprs):\n",
    "            for e in expr_list:\n",
    "                if split in ['val', 'test']:\n",
    "                    if e[0] in train_exprs:\n",
    "                        evaluation = 'I'\n",
    "                    else:\n",
    "                        max_value = max([x for x in e[3] if x is not None])\n",
    "                        evaluation = 'S' if n_op <= max_op_train else 'L'\n",
    "                        evaluation += 'S' if max_value <= max_value_train else 'L'\n",
    "\n",
    "                img_paths = generate_img_paths(e[0], sym_set)\n",
    "                sample = {'id': '%s_%08d'%(split, idx), 'img_paths':img_paths, \n",
    "                      'expr': e[0], 'head': e[1], 'res': e[2], 'res_all': e[3]}\n",
    "                if split in ['val', 'test']:\n",
    "                    sample['eval'] = evaluation\n",
    "                idx += 1\n",
    "                dataset.append(sample)\n",
    "        split2dataset[split] = dataset\n",
    "        if split == 'train':\n",
    "            train_exprs = {x['expr'] for x in dataset}\n",
    "        print(split, len(dataset))\n",
    "    \n",
    "    counts = sorted(Counter([x['eval'] for x in split2dataset['test']]).items())\n",
    "    total_count = sum([c for _, c in counts])\n",
    "    counts = [(k, v, round(v/total_count*100, 2)) for k, v in counts]\n",
    "    print(counts)\n",
    "    \n",
    "    if fs in fewshot_nums:\n",
    "        num_list.remove(fs)\n",
    "    if fs in fewshot_ops:\n",
    "        op_list.remove(fs)\n",
    "    fs2dataset[fs] = split2dataset\n",
    "\n",
    "json.dump(fs2dataset, open('fewshot_dataset.json', 'w'))"
   ]
  }
 ],
 "metadata": {
  "kernelspec": {
   "display_name": "hint",
   "language": "python",
   "name": "hint"
  },
  "language_info": {
   "codemirror_mode": {
    "name": "ipython",
    "version": 3
   },
   "file_extension": ".py",
   "mimetype": "text/x-python",
   "name": "python",
   "nbconvert_exporter": "python",
   "pygments_lexer": "ipython3",
   "version": "3.8.5"
  }
 },
 "nbformat": 4,
 "nbformat_minor": 5
}
