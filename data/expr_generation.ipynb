{
 "cells": [
  {
   "cell_type": "markdown",
   "metadata": {},
   "source": [
    "# 0. Preliminaries"
   ]
  },
  {
   "cell_type": "code",
   "execution_count": 1,
   "metadata": {},
   "outputs": [],
   "source": [
    "import json\n",
    "import random\n",
    "import os\n",
    "from PIL import Image\n",
    "from itertools import product\n",
    "from tqdm import tqdm\n",
    "import math\n",
    "import matplotlib.pyplot as plt\n",
    "%matplotlib inline\n",
    "import numpy as np\n",
    "from collections import Counter\n",
    "\n",
    "from domain import SYM2PROG, Program, NULL_VALUE\n",
    "import sys"
   ]
  },
  {
   "cell_type": "code",
   "execution_count": 2,
   "metadata": {},
   "outputs": [
    {
     "name": "stdout",
     "output_type": "stream",
     "text": [
      "['0', '1', '2', '3', '4', '5', '6', '7', '8', '9']\n",
      "['+', '-', '*', '/'] ( )\n"
     ]
    }
   ],
   "source": [
    "symbol_images_dir = 'symbol_images/'\n",
    "splits = ['train', 'val', 'test']\n",
    "\n",
    "min_num = 0\n",
    "max_num = 10\n",
    "num_list = list(map(str, range(min_num, max_num)))\n",
    "nonzero_num_list = [x for x in num_list if x != '0']\n",
    "op_list = ['+', '-', '*', '/']\n",
    "lps = '('\n",
    "rps = ')'\n",
    "\n",
    "print(num_list)\n",
    "print(op_list, lps, rps)"
   ]
  },
  {
   "cell_type": "code",
   "execution_count": 3,
   "metadata": {},
   "outputs": [],
   "source": [
    "def render_img(img_paths):\n",
    "    images = [Image.open(symbol_images_dir + x) for x in img_paths]\n",
    "    widths, heights = zip(*(i.size for i in images))\n",
    "\n",
    "    total_width = sum(widths)\n",
    "    max_height = max(heights)\n",
    "\n",
    "    new_im = Image.new('RGB', (total_width, max_height))\n",
    "\n",
    "    x_offset = 0\n",
    "    for im in images:\n",
    "        new_im.paste(im, (x_offset,0))\n",
    "        x_offset += im.size[0]\n",
    "    return new_im"
   ]
  },
  {
   "cell_type": "markdown",
   "metadata": {},
   "source": [
    "# 1. Split handwritten symbols"
   ]
  },
  {
   "cell_type": "code",
   "execution_count": 4,
   "metadata": {},
   "outputs": [
    {
     "name": "stdout",
     "output_type": "stream",
     "text": [
      "+ 5443\n",
      "- 6022\n",
      "times 600\n",
      "div 157\n",
      "( 3986\n",
      ") 3978\n",
      "! 224\n",
      "0 1810\n",
      "1 6327\n",
      "2 6210\n",
      "3 2469\n",
      "4 1641\n",
      "5 1008\n",
      "6 812\n",
      "7 753\n",
      "8 731\n",
      "9 742\n",
      "alpha 383\n",
      "beta 295\n",
      "gamma 90\n",
      "theta 543\n",
      "phi 83\n",
      "a 2724\n",
      "b 1830\n",
      "c 1194\n",
      "d 1062\n",
      "e 616\n",
      "x 5333\n",
      "y 1895\n",
      "z 1075\n"
     ]
    }
   ],
   "source": [
    "# split train and test set of math symbols\n",
    "random.seed(777)\n",
    "terminals = ['+', '-', 'times', 'div', '(', ')', '!'] + list(map(str, list(range(10)))) + ['alpha', 'beta', 'gamma', 'theta', 'phi'] + list('abcdexyz')\n",
    "sym_train_set = {}\n",
    "sym_val_set = {}\n",
    "sym_test_set = {}\n",
    "for tok in terminals:\n",
    "    imgs = os.listdir(symbol_images_dir + tok)\n",
    "    random.shuffle(imgs)\n",
    "    n_train = int(len(imgs) * 0.75)\n",
    "    n_val = int(len(imgs) * 0.05)\n",
    "    sym_train_set[tok] = sorted(imgs[:n_train])\n",
    "    sym_val_set[tok] = sorted(imgs[n_train:n_train+n_val])\n",
    "    sym_test_set[tok] = sorted(imgs[n_train+n_val:])\n",
    "    print(tok, len(imgs))\n",
    "json.dump(sym_train_set, open('sym_train.json', 'w'))\n",
    "json.dump(sym_val_set, open('sym_val.json', 'w'))\n",
    "json.dump(sym_test_set, open('sym_test.json', 'w'))"
   ]
  },
  {
   "cell_type": "markdown",
   "metadata": {},
   "source": [
    "# 2. Generate expressions"
   ]
  },
  {
   "cell_type": "code",
   "execution_count": 5,
   "metadata": {},
   "outputs": [],
   "source": [
    "random.seed(777)\n",
    "class Iterator:\n",
    "    def __init__(self, l, shuffle=True):\n",
    "        if shuffle: \n",
    "            random.shuffle(l)\n",
    "        self.list = l\n",
    "        self.current = -1\n",
    "        self.shuffle = shuffle\n",
    "    \n",
    "    def next(self):\n",
    "        self.current += 1\n",
    "        if self.current == len(self.list):\n",
    "            self.current = 0\n",
    "            if self.shuffle:\n",
    "                random.shuffle(self.list)\n",
    "        return self.list[self.current]\n",
    "\n",
    "tok_convert = {'*': 'times', '/': 'div', 'a': 'alpha', 'b': 'beta', 'c': 'gamma', 'd': 'phi', 'e': 'theta'}\n",
    "def generate_img_paths(tokens, sym_set):\n",
    "    img_paths = []\n",
    "    for tok in tokens:\n",
    "        if tok in tok_convert:\n",
    "            tok = tok_convert[tok]\n",
    "        \n",
    "        img_name = sym_set[tok].next()\n",
    "        img_paths.append(os.path.join(tok, img_name))   \n",
    "        \n",
    "    return img_paths\n",
    "\n",
    "split2sym = {}\n",
    "for split in splits:\n",
    "    sym_set = {k:Iterator(v) for k,v in json.load(open('sym_%s.json'%split)).items()}\n",
    "    split2sym[split] = sym_set"
   ]
  },
  {
   "cell_type": "code",
   "execution_count": 6,
   "metadata": {},
   "outputs": [],
   "source": [
    "class Node:\n",
    "    def __init__(self, index, symbol, smt, prob=0.):\n",
    "        self.index = index\n",
    "        self.symbol = symbol\n",
    "        self.smt = smt\n",
    "        self.children = []\n",
    "        self.sym_prob = prob\n",
    "        self._res = None\n",
    "        self._res_computed = False\n",
    "\n",
    "    def res(self):\n",
    "        if self._res_computed:\n",
    "            return self._res\n",
    "\n",
    "        self._res = self.smt(*self.inputs())\n",
    "        if isinstance(self._res, int) and self._res > sys.maxsize:\n",
    "            self._res = None\n",
    "        self.prob = self.sym_prob + np.log(self.smt.likelihood) + sum([x.prob for x in self.children])\n",
    "        self._res_computed = True\n",
    "        return self._res\n",
    "\n",
    "    def inputs(self):\n",
    "        return [x.res() for x in self.children if x.res() is not NULL_VALUE]\n",
    "\n",
    "class AST: # Abstract Syntax Tree\n",
    "    def __init__(self, pt, semantics):\n",
    "        self.pt = pt\n",
    "        self.semantics = semantics\n",
    "\n",
    "        nodes = [Node(i, s, semantics[s]) for i, s in enumerate(pt.sentence)]\n",
    "\n",
    "        for node, h in zip(nodes, pt.head):\n",
    "            if h == -1:\n",
    "                self.root_node = node\n",
    "                continue\n",
    "            nodes[h].children.append(node)\n",
    "        self.nodes = nodes\n",
    "\n",
    "        self.root_node.res()\n",
    "    \n",
    "    def res(self): return self.root_node.res()\n",
    "    \n",
    "    def res_all(self): return [nd._res for nd in self.nodes]"
   ]
  },
  {
   "cell_type": "code",
   "execution_count": 7,
   "metadata": {},
   "outputs": [
    {
     "name": "stdout",
     "output_type": "stream",
     "text": [
      "6*(5-2) (18, [6, 18, -1, 5, 3, 2, -1]) [1, -1, 4, 4, 1, 4, 4]\n",
      "/+64-31 (5, [5, 10, 6, 4, 2, 3, 1]) [-1, 0, 1, 1, 0, 4, 4]\n",
      "(6+4)/(3-1) (5, [-1, 6, 10, 4, -1, 5, -1, 3, 2, 1, -1]) [2, 2, 5, 2, 2, -1, 8, 8, 5, 8, 8]\n"
     ]
    }
   ],
   "source": [
    "op2precedence = {'+': 1, '-': 1, '*': 2, '/': 2, '!': 3}\n",
    "op2arity = {'+': 2, '-': 2, '*': 2, '/': 2, '!': 1}\n",
    "\n",
    "def parse_infix(expr):\n",
    "    values = []\n",
    "    operators = []\n",
    "    \n",
    "    head = [-1] * len(expr)\n",
    "    for (i,sym) in enumerate(expr):\n",
    "        if sym.isdigit():\n",
    "            values.append(i)\n",
    "        elif sym == lps:\n",
    "            operators.append(i)\n",
    "        elif sym == rps:\n",
    "            while expr[operators[-1]] != lps:\n",
    "                op = operators.pop()\n",
    "                for _ in range(op2arity[expr[op]]):\n",
    "                    head[values.pop()] = op\n",
    "                values.append(op)\n",
    "            i_lps = operators[-1]\n",
    "            i_rps = i\n",
    "            head[i_lps] = op\n",
    "            head[i_rps] = op\n",
    "            operators.pop()\n",
    "        else:\n",
    "            while len(operators) > 0 and expr[operators[-1]] != lps and \\\n",
    "                op2precedence[expr[operators[-1]]] >= op2precedence[sym]:\n",
    "                op = operators.pop()\n",
    "                for _ in range(op2arity[expr[op]]):\n",
    "                    head[values.pop()] = op\n",
    "                values.append(op)\n",
    "            operators.append(i)\n",
    "\n",
    "    while len(operators) > 0:\n",
    "        op = operators.pop()\n",
    "        for _ in range(op2arity[expr[op]]):\n",
    "            head[values.pop()] = op\n",
    "        values.append(op)\n",
    "\n",
    "    root_op = values.pop()\n",
    "    head[root_op] = -1\n",
    "    assert len(values) == 0\n",
    "\n",
    "    return head\n",
    "\n",
    "def parse_prefix(expr):\n",
    "    head = [-1] * len(expr)\n",
    "    arity = [op2arity.get(x, 0) for x in expr]\n",
    "    for i in range(len(expr)):\n",
    "        if i == 0: \n",
    "            head[i] = -1\n",
    "            continue\n",
    "        for j in range(i-1, -1, -1):\n",
    "            if arity[j] > 0:\n",
    "                break\n",
    "        head[i] = j\n",
    "        arity[j] -= 1\n",
    "        #print(i, head, arity)\n",
    "\n",
    "    return head\n",
    "\n",
    "def flatten(expr):\n",
    "    if len(expr) == 1:\n",
    "        return expr\n",
    "    return [y for x in expr for y in flatten(x)]\n",
    "\n",
    "def prefix2infix(prefix):\n",
    "    prefix = list(prefix)\n",
    "    values = []\n",
    "    while len(prefix) > 0:\n",
    "        sym = prefix.pop()\n",
    "        if sym.isdigit():\n",
    "            values.append([sym])\n",
    "        else:\n",
    "            arity = op2arity[sym]\n",
    "            precedence = op2precedence[sym]\n",
    "            \n",
    "            left = values.pop()\n",
    "            right = values.pop() if arity == 2 else []\n",
    "            \"\"\"\n",
    "            add parenthesis when:\n",
    "            (1) left is a compound expression and its operator's precedence < the current operator\n",
    "            (2) right is a compound expression and its operator's precedence <= the current operator\n",
    "            here we assume that the operator is left-associative.\n",
    "            \"\"\"\n",
    "            if len(left) > 1 and op2precedence[left[1]] < precedence:\n",
    "                left = [lps] + left + [rps]\n",
    "            if len(right) > 1 and op2precedence[right[1]] <= precedence:\n",
    "                right = [lps] + right + [rps]\n",
    "                \n",
    "            new_value = [left, sym, right]\n",
    "            values.append(new_value)\n",
    "    \n",
    "    infix = ''.join(flatten(values.pop()))\n",
    "    assert len(values) == 0\n",
    "    return infix\n",
    "\n",
    "from collections import namedtuple\n",
    "Parse = namedtuple('Parse', 'sentence head')\n",
    "def eval_expr(expr, head):\n",
    "    ast = AST(Parse(expr, head), SYM2PROG)\n",
    "    return ast.res(), ast.res_all()\n",
    "    \n",
    "def eval_expr_by_eval(expr):\n",
    "    expr_for_eval = []\n",
    "    for symbol in expr:\n",
    "        if symbol == '!':\n",
    "            expr_for_eval[-1] = 'math.factorial(' + expr_for_eval[-1] + ')'\n",
    "        elif symbol == '/':\n",
    "            expr_for_eval.append('//')\n",
    "        else:\n",
    "            expr_for_eval.append(symbol)\n",
    "#     try:\n",
    "#         res = eval(\"\".join(expr_for_eval))\n",
    "#     except OverflowError:\n",
    "#         res = None\n",
    "    res = eval(\"\".join(expr_for_eval))\n",
    "    return res\n",
    "\n",
    "\n",
    "\n",
    "expr = '6*(5-2)'\n",
    "head = parse_infix(expr)\n",
    "res = eval_expr(expr, head)\n",
    "print(expr, res, head)\n",
    "\n",
    "expr = '/+64-31'\n",
    "head = parse_prefix(expr)\n",
    "res = eval_expr(expr, head)\n",
    "print(expr, res, head)\n",
    "\n",
    "expr = prefix2infix(expr)\n",
    "head = parse_infix(expr)\n",
    "res = eval_expr(expr, head)\n",
    "print(expr, res, head)"
   ]
  },
  {
   "cell_type": "code",
   "execution_count": 8,
   "metadata": {},
   "outputs": [],
   "source": [
    "def enumerate_expression(n_op):\n",
    "    if n_op == 0:\n",
    "        return [[x] for x in num_list]\n",
    "    \n",
    "    expressions = []\n",
    "    \n",
    "    arity = 1\n",
    "    ops = [op for op in op_list if op2arity[op] == arity]\n",
    "    inputs = enumerate_expression(n_op-1)\n",
    "    expressions.extend(product(ops, inputs))\n",
    "    \n",
    "    arity = 2\n",
    "    ops = [op for op in op_list if op2arity[op] == arity]\n",
    "    inputs = []\n",
    "    for i in range(n_op):\n",
    "        input_1 = enumerate_expression(i)\n",
    "        input_2 = enumerate_expression(n_op - 1 - i)\n",
    "        inputs.extend(product(input_1, input_2))\n",
    "    expressions.extend(product(ops, inputs))\n",
    "    \n",
    "    expressions = [flatten(x) for x in expressions]\n",
    "    return expressions\n",
    "\n",
    "def sample_expression(n_op, n_instances, min_value=0, max_value=float('inf'), non_zero_res=False):\n",
    "    def sample(n_op):\n",
    "        if n_op == 0:\n",
    "            return [random.choice(num_list)]\n",
    "        op = random.choice(op_list)\n",
    "        if op2arity[op] == 1:\n",
    "            return [op] + sample(n_op-1)\n",
    "        else:\n",
    "            i = random.randint(0, n_op-1)\n",
    "            j = n_op - 1 - i\n",
    "            return [op] + sample(i) + sample(j)\n",
    "    \n",
    "    expressions = []\n",
    "    with tqdm(total=n_instances) as pbar:\n",
    "        while len(expressions) < n_instances:\n",
    "            expr = sample(n_op)\n",
    "            if expr in expressions:\n",
    "                continue\n",
    "            head = parse_prefix(expr)\n",
    "            res, res_all = eval_expr(expr, head)\n",
    "            if res is not None:\n",
    "                if non_zero_res and res == 0:\n",
    "                    continue\n",
    "                max_res = max([x for x in res_all if x is not None])\n",
    "                if max_res >= min_value and max_res <= max_value:\n",
    "                    expressions.append(expr)\n",
    "                    pbar.update(1)\n",
    "    return expressions\n",
    "\n",
    "def generate_expression(n_op, n_instances, min_value=0, max_value=float('inf'), non_zero_res=False):\n",
    "    if n_op <= 2:\n",
    "        expressions = []\n",
    "        for expr in enumerate_expression(n_op):\n",
    "            head = parse_prefix(expr)\n",
    "            res, res_all = eval_expr(expr, head)\n",
    "            if res is not None:\n",
    "                if non_zero_res and res == 0:\n",
    "                    continue\n",
    "                max_res = max([x for x in res_all if x is not None])\n",
    "                if max_res >= min_value and max_res <= max_value:\n",
    "                    expressions.append(expr)\n",
    "    else:\n",
    "        assert n_instances is not None\n",
    "        expressions = sample_expression(n_op, n_instances, min_value, max_value, non_zero_res)\n",
    "    random.shuffle(expressions)\n",
    "    expressions = expressions[:n_instances]\n",
    "    \n",
    "    temp = []\n",
    "    for expr in expressions:\n",
    "        expr = prefix2infix(expr)\n",
    "        head = parse_infix(expr)\n",
    "        res, res_all = eval_expr(expr, head)\n",
    "        if res is not None:\n",
    "            temp.append((expr, head, res, res_all))\n",
    "    \n",
    "    return temp"
   ]
  },
  {
   "cell_type": "code",
   "execution_count": 10,
   "metadata": {},
   "outputs": [
    {
     "name": "stdout",
     "output_type": "stream",
     "text": [
      "0 10 10 10\n",
      "1 390 100 390\n"
     ]
    },
    {
     "name": "stderr",
     "output_type": "stream",
     "text": [
      "  1%|▍                         | 1493/101100 [00:00<00:06, 14923.50it/s]"
     ]
    },
    {
     "name": "stdout",
     "output_type": "stream",
     "text": [
      "2 29230 200 1640\n"
     ]
    },
    {
     "name": "stderr",
     "output_type": "stream",
     "text": [
      "100%|██████████████████████████| 101100/101100 [02:32<00:00, 662.40it/s]\n",
      "100%|██████████████████████████████| 1100/1100 [00:01<00:00, 972.53it/s]\n",
      "  1%|▎                         | 1353/101100 [00:00<00:07, 13518.67it/s]"
     ]
    },
    {
     "name": "stdout",
     "output_type": "stream",
     "text": [
      "3 100000 300 3000\n"
     ]
    },
    {
     "name": "stderr",
     "output_type": "stream",
     "text": [
      "100%|██████████████████████████| 101100/101100 [02:40<00:00, 631.70it/s]\n",
      "100%|█████████████████████████████| 1100/1100 [00:01<00:00, 1091.41it/s]\n",
      "  1%|▎                         | 1041/101100 [00:00<00:09, 10402.20it/s]"
     ]
    },
    {
     "name": "stdout",
     "output_type": "stream",
     "text": [
      "4 100000 300 3000\n"
     ]
    },
    {
     "name": "stderr",
     "output_type": "stream",
     "text": [
      "100%|██████████████████████████| 101100/101100 [02:44<00:00, 613.14it/s]\n",
      "100%|█████████████████████████████| 1100/1100 [00:00<00:00, 1198.15it/s]\n",
      "  1%|▎                         | 1127/101100 [00:00<00:08, 11263.46it/s]"
     ]
    },
    {
     "name": "stdout",
     "output_type": "stream",
     "text": [
      "5 100000 300 3000\n"
     ]
    },
    {
     "name": "stderr",
     "output_type": "stream",
     "text": [
      "100%|██████████████████████████| 101100/101100 [02:59<00:00, 563.32it/s]\n",
      "100%|█████████████████████████████| 1100/1100 [00:00<00:00, 1265.96it/s]\n",
      "  2%|▍                          | 1558/101100 [00:00<00:12, 7804.99it/s]"
     ]
    },
    {
     "name": "stdout",
     "output_type": "stream",
     "text": [
      "6 100000 300 3000\n"
     ]
    },
    {
     "name": "stderr",
     "output_type": "stream",
     "text": [
      "100%|██████████████████████████| 101100/101100 [03:51<00:00, 437.58it/s]\n",
      "100%|█████████████████████████████| 1100/1100 [00:00<00:00, 1173.49it/s]\n",
      "  1%|▏                           | 837/101100 [00:00<00:11, 8368.37it/s]"
     ]
    },
    {
     "name": "stdout",
     "output_type": "stream",
     "text": [
      "7 100000 300 3000\n"
     ]
    },
    {
     "name": "stderr",
     "output_type": "stream",
     "text": [
      "100%|██████████████████████████| 101100/101100 [04:19<00:00, 389.15it/s]\n",
      "100%|█████████████████████████████| 1100/1100 [00:00<00:00, 1222.83it/s]\n",
      "  1%|▏                           | 670/101100 [00:00<00:14, 6697.93it/s]"
     ]
    },
    {
     "name": "stdout",
     "output_type": "stream",
     "text": [
      "8 100000 300 3000\n"
     ]
    },
    {
     "name": "stderr",
     "output_type": "stream",
     "text": [
      "100%|██████████████████████████| 101100/101100 [05:08<00:00, 327.61it/s]\n",
      "100%|█████████████████████████████| 1100/1100 [00:00<00:00, 1153.26it/s]\n",
      "  1%|▏                           | 608/101100 [00:00<00:16, 6066.61it/s]"
     ]
    },
    {
     "name": "stdout",
     "output_type": "stream",
     "text": [
      "9 100000 300 3000\n"
     ]
    },
    {
     "name": "stderr",
     "output_type": "stream",
     "text": [
      "100%|██████████████████████████| 101100/101100 [06:10<00:00, 273.21it/s]\n",
      "100%|█████████████████████████████| 1100/1100 [00:00<00:00, 1116.03it/s]\n",
      " 46%|█████████████▊                | 506/1100 [00:00<00:00, 5057.06it/s]"
     ]
    },
    {
     "name": "stdout",
     "output_type": "stream",
     "text": [
      "10 100000 300 3000\n"
     ]
    },
    {
     "name": "stderr",
     "output_type": "stream",
     "text": [
      "100%|█████████████████████████████| 1100/1100 [00:00<00:00, 4932.45it/s]\n",
      "100%|█████████████████████████████| 1100/1100 [00:01<00:00, 1019.81it/s]\n",
      " 45%|█████████████▎                | 490/1100 [00:00<00:00, 4896.36it/s]"
     ]
    },
    {
     "name": "stdout",
     "output_type": "stream",
     "text": [
      "11 0 200 2000\n"
     ]
    },
    {
     "name": "stderr",
     "output_type": "stream",
     "text": [
      "100%|█████████████████████████████| 1100/1100 [00:00<00:00, 4444.28it/s]\n",
      "100%|██████████████████████████████| 1100/1100 [00:01<00:00, 962.76it/s]\n",
      " 36%|██████████▊                   | 395/1100 [00:00<00:00, 3949.24it/s]"
     ]
    },
    {
     "name": "stdout",
     "output_type": "stream",
     "text": [
      "12 0 200 2000\n"
     ]
    },
    {
     "name": "stderr",
     "output_type": "stream",
     "text": [
      "100%|█████████████████████████████| 1100/1100 [00:00<00:00, 3620.29it/s]\n",
      "100%|██████████████████████████████| 1100/1100 [00:01<00:00, 983.45it/s]\n",
      " 31%|█████████▍                    | 345/1100 [00:00<00:00, 3449.66it/s]"
     ]
    },
    {
     "name": "stdout",
     "output_type": "stream",
     "text": [
      "13 0 200 2000\n"
     ]
    },
    {
     "name": "stderr",
     "output_type": "stream",
     "text": [
      "100%|█████████████████████████████| 1100/1100 [00:00<00:00, 3117.20it/s]\n",
      "100%|██████████████████████████████| 1100/1100 [00:01<00:00, 846.21it/s]\n",
      " 29%|████████▊                     | 323/1100 [00:00<00:00, 3223.64it/s]"
     ]
    },
    {
     "name": "stdout",
     "output_type": "stream",
     "text": [
      "14 0 200 2000\n"
     ]
    },
    {
     "name": "stderr",
     "output_type": "stream",
     "text": [
      "100%|█████████████████████████████| 1100/1100 [00:00<00:00, 2775.35it/s]\n",
      "100%|██████████████████████████████| 1100/1100 [00:01<00:00, 837.05it/s]\n",
      " 26%|███████▋                      | 281/1100 [00:00<00:00, 2786.87it/s]"
     ]
    },
    {
     "name": "stdout",
     "output_type": "stream",
     "text": [
      "15 0 200 2000\n"
     ]
    },
    {
     "name": "stderr",
     "output_type": "stream",
     "text": [
      "100%|█████████████████████████████| 1100/1100 [00:00<00:00, 2537.29it/s]\n",
      "100%|██████████████████████████████| 1100/1100 [00:01<00:00, 702.47it/s]\n",
      " 23%|██████▉                       | 254/1100 [00:00<00:00, 2508.23it/s]"
     ]
    },
    {
     "name": "stdout",
     "output_type": "stream",
     "text": [
      "16 0 200 2000\n"
     ]
    },
    {
     "name": "stderr",
     "output_type": "stream",
     "text": [
      "100%|█████████████████████████████| 1100/1100 [00:00<00:00, 2038.72it/s]\n",
      "100%|██████████████████████████████| 1100/1100 [00:01<00:00, 726.93it/s]\n",
      " 19%|█████▋                        | 210/1100 [00:00<00:00, 2092.20it/s]"
     ]
    },
    {
     "name": "stdout",
     "output_type": "stream",
     "text": [
      "17 0 200 2000\n"
     ]
    },
    {
     "name": "stderr",
     "output_type": "stream",
     "text": [
      "100%|█████████████████████████████| 1100/1100 [00:00<00:00, 1915.58it/s]\n",
      "100%|██████████████████████████████| 1100/1100 [00:01<00:00, 657.12it/s]\n",
      " 18%|█████▎                        | 197/1100 [00:00<00:00, 1963.86it/s]"
     ]
    },
    {
     "name": "stdout",
     "output_type": "stream",
     "text": [
      "18 0 200 2000\n"
     ]
    },
    {
     "name": "stderr",
     "output_type": "stream",
     "text": [
      "100%|█████████████████████████████| 1100/1100 [00:00<00:00, 1601.70it/s]\n",
      "100%|██████████████████████████████| 1100/1100 [00:01<00:00, 655.13it/s]\n",
      " 15%|████▍                         | 162/1100 [00:00<00:00, 1619.49it/s]"
     ]
    },
    {
     "name": "stdout",
     "output_type": "stream",
     "text": [
      "19 0 200 2000\n"
     ]
    },
    {
     "name": "stderr",
     "output_type": "stream",
     "text": [
      "100%|█████████████████████████████| 1100/1100 [00:00<00:00, 1516.27it/s]\n",
      "100%|██████████████████████████████| 1100/1100 [00:01<00:00, 596.30it/s]\n",
      "  0%|                            | 607/170370 [00:00<00:28, 6062.42it/s]"
     ]
    },
    {
     "name": "stdout",
     "output_type": "stream",
     "text": [
      "20 0 200 2000\n"
     ]
    },
    {
     "name": "stderr",
     "output_type": "stream",
     "text": [
      "100%|██████████████████████████| 170370/170370 [24:03<00:00, 118.00it/s]\n",
      "100%|██████████████████████████████| 4250/4250 [00:11<00:00, 355.53it/s]\n"
     ]
    },
    {
     "name": "stdout",
     "output_type": "stream",
     "text": [
      "[('train', 1000000), ('val', 5000), ('test', 50000)]\n"
     ]
    }
   ],
   "source": [
    "random.seed(12306)\n",
    "max_op = 20\n",
    "max_op_train = 10\n",
    "max_value_train = 100\n",
    "max_value_test = 10000\n",
    "n_train = 100000\n",
    "n_test = 1000\n",
    "n_val = 100\n",
    "\n",
    "train_exprs = []\n",
    "val_exprs = []\n",
    "test_exprs = []\n",
    "\n",
    "for n_op in range(max_op + 1):\n",
    "    if n_op > max_op_train:\n",
    "        n_train = 0\n",
    "    expressions = generate_expression(n_op, n_train + n_val + n_test, max_value=max_value_train)\n",
    "    \n",
    "    if n_train > 0:\n",
    "        train_exprs.append(expressions[:n_train])\n",
    "    val_exprs.append(expressions[:min(n_val, n_train)] + expressions[n_train:n_train+n_val])\n",
    "    test_exprs.append(expressions[:min(n_test, n_train)] + expressions[n_train+n_val:])\n",
    "    \n",
    "    expressions = generate_expression(n_op, n_val + n_test, \n",
    "                          min_value=max_value_train+1, max_value=max_value_test, non_zero_res=True)\n",
    "    val_exprs[-1].extend(expressions[:n_val])\n",
    "    test_exprs[-1].extend(expressions[n_val:n_val+n_test])\n",
    "\n",
    "    print(n_op, len(train_exprs[-1]) if n_train > 0 else 0, len(val_exprs[-1]), len(test_exprs[-1]))\n",
    "\n",
    "target_train = int(1e6)\n",
    "n_train = target_train - sum([len(x) for x in train_exprs])\n",
    "expressions = generate_expression(max_op_train, n_train, max_value=max_value_train)\n",
    "train_exprs[-1].extend(expressions)\n",
    "\n",
    "target_test = int(5e4)\n",
    "target_val = int(0.1 * target_test)\n",
    "n_test = target_test - sum([len(x) for x in test_exprs])\n",
    "n_val = target_val - sum([len(x) for x in val_exprs])\n",
    "expressions = generate_expression(n_op, n_val + n_test, \n",
    "                    min_value=max_value_train+1, max_value=max_value_test, non_zero_res=True)\n",
    "val_exprs[-1].extend(expressions[:n_val])\n",
    "test_exprs[-1].extend(expressions[n_val:n_val+n_test])\n",
    "\n",
    "    \n",
    "split2exprs = {'train': train_exprs, 'val': val_exprs, 'test': test_exprs}\n",
    "print([(k, sum([len(x) for x in v])) for k, v in split2exprs.items()])"
   ]
  },
  {
   "cell_type": "code",
   "execution_count": 11,
   "metadata": {},
   "outputs": [
    {
     "name": "stdout",
     "output_type": "stream",
     "text": [
      "train 1004500\n",
      "val 5090\n",
      "test 54500\n"
     ]
    }
   ],
   "source": [
    "split2dataset = {}\n",
    "for split in splits:\n",
    "    sym_set = split2sym[split]\n",
    "    exprs = split2exprs[split]\n",
    "    dataset = []\n",
    "    idx = 0\n",
    "    for n_op, expr_list in enumerate(exprs):\n",
    "        if n_op == 0:\n",
    "            n_instance = 100\n",
    "        elif n_op == 1:\n",
    "            n_instance = 10\n",
    "        else:\n",
    "            n_instance = 1\n",
    "        \n",
    "        if split == 'val':\n",
    "            n_instance *= 0.1\n",
    "        n_instance = int(math.ceil(n_instance))\n",
    "#         print(n_op, n_instance, len(expr_list) * n_instance)\n",
    "        for e in expr_list:\n",
    "            if split in ['val', 'test']:\n",
    "                if e[0] in train_exprs:\n",
    "                    evaluation = 'I'\n",
    "                else:\n",
    "                    max_value = max([x for x in e[3] if x is not None])\n",
    "                    evaluation = 'S' if n_op <= max_op_train else 'L'\n",
    "                    evaluation += 'S' if max_value <= max_value_train else 'L'\n",
    "            \n",
    "            for _ in range(n_instance):\n",
    "                img_paths = generate_img_paths(e[0], sym_set)\n",
    "                sample = {'id': '%s_%08d'%(split, idx), 'img_paths':img_paths, \n",
    "                      'expr': e[0], 'head': e[1], 'res': e[2], 'res_all': e[3]}\n",
    "                if split in ['val', 'test']:\n",
    "                    sample['eval'] = evaluation\n",
    "                idx += 1\n",
    "                dataset.append(sample)\n",
    "    split2dataset[split] = dataset\n",
    "    if split == 'train':\n",
    "        train_exprs = {x['expr'] for x in dataset}\n",
    "    print(split, len(dataset))\n",
    "for split in splits:\n",
    "    json.dump(split2dataset[split], open('expr_%s.json'%split, 'w'))"
   ]
  },
  {
   "cell_type": "code",
   "execution_count": 12,
   "metadata": {
    "scrolled": true
   },
   "outputs": [
    {
     "name": "stdout",
     "output_type": "stream",
     "text": [
      "[('I', 13900, 25.5), ('LL', 13960, 25.61), ('LS', 10000, 18.35), ('SL', 8640, 15.85), ('SS', 8000, 14.68)]\n"
     ]
    }
   ],
   "source": [
    "counts = sorted(Counter([x['eval'] for x in split2dataset['test']]).items())\n",
    "total_count = sum([c for _, c in counts])\n",
    "counts = [(k, v, round(v/total_count*100, 2)) for k, v in counts]\n",
    "print(counts)"
   ]
  },
  {
   "cell_type": "markdown",
   "metadata": {},
   "source": [
    "# Create MCD split (not working yet)"
   ]
  },
  {
   "cell_type": "code",
   "execution_count": 2,
   "metadata": {},
   "outputs": [],
   "source": [
    "import networkx as nx\n",
    "import sys\n",
    "sys.path.append('../../dbca-splitter/')\n",
    "from dbca.datasets.relational import RelationalSample, TreeSample, sample2graph\n",
    "from dbca.dbca_splitter import DBCASplitter, DBCASplitterConfig\n",
    "from dbca.dbca_splitter_ray import DBCASplitterRay\n",
    "from dbca.split_sample_set import SplitSampleSet\n",
    "\n",
    "NODE_ATTR='sym'"
   ]
  },
  {
   "cell_type": "code",
   "execution_count": 12,
   "metadata": {},
   "outputs": [
    {
     "name": "stdout",
     "output_type": "stream",
     "text": [
      "12\n",
      "[+34, +3_, +_4, /_1, /+341, /+34_, /+3_1, /+3__, /+_41, /+_4_, /+__1, /+___]\n"
     ]
    },
    {
     "data": {
      "image/png": "[encoded data removed]",
      "text/plain": [
       "<Figure size 432x288 with 1 Axes>"
      ]
     },
     "metadata": {},
     "output_type": "display_data"
    }
   ],
   "source": [
    "# expr = '1/(4+3)'\n",
    "# heads = [1, -1, 4, 4, 1, 4, 4]\n",
    "\n",
    "expr = '(3+4)/1'\n",
    "heads = [2, 2, 5, 2, 2, -1, 5]\n",
    "\n",
    "# expr = '3-4'\n",
    "# heads = [1, -1, 1]\n",
    "\n",
    "g = sample2graph(expr, heads, node_attr=NODE_ATTR)\n",
    "\n",
    "pos = nx.spring_layout(g)\n",
    "nx.draw(g, pos)\n",
    "node_labels = nx.get_node_attributes(g,'sym')\n",
    "nx.draw_networkx_labels(g, pos, labels = node_labels)\n",
    "edge_labels = nx.get_edge_attributes(g,'dir')\n",
    "nx.draw_networkx_edge_labels(g, pos, edge_labels)\n",
    "\n",
    "# sample = RelationalSample(g, name='test', node_attr=NODE_ATTR)\n",
    "sample = TreeSample(expr, heads, node_attr=NODE_ATTR)\n",
    "print(len(sample.compounds))\n",
    "print(sorted(sample.compounds, key=lambda x: len(str(x))))"
   ]
  },
  {
   "cell_type": "code",
   "execution_count": 13,
   "metadata": {},
   "outputs": [
    {
     "name": "stdout",
     "output_type": "stream",
     "text": [
      "80400 34000\n"
     ]
    }
   ],
   "source": [
    "train_exprs = [y for x in train_exprs for y in x]\n",
    "mcd_exprs = [y for x in mcd_exprs for y in x]\n",
    "print(len(train_exprs), len(mcd_exprs))\n",
    "max_nodes_per_compound = 5\n",
    "max_depth_compound = float('inf')\n",
    "\n",
    "train_samples = [TreeSample(expr=x[0], heads=x[1], name = f'train_{i}', node_attr=NODE_ATTR,\n",
    "                          max_nodes_per_compound = max_nodes_per_compound, max_depth_compound=max_depth_compound)\n",
    "                        for i, x in enumerate(train_exprs)]\n",
    "mcd_samples = [TreeSample(expr=x[0], heads=x[1], name = f'mcd_{i}', node_attr=NODE_ATTR,\n",
    "                          max_nodes_per_compound = max_nodes_per_compound, max_depth_compound=max_depth_compound)\n",
    "                        for i, x in enumerate(mcd_exprs)]"
   ]
  },
  {
   "cell_type": "code",
   "execution_count": 14,
   "metadata": {},
   "outputs": [],
   "source": [
    "train_samples_partial = random.sample(train_samples, k=len(train_samples))\n",
    "mcd_samples_partial = random.sample(mcd_samples, k=len(mcd_samples))"
   ]
  },
  {
   "cell_type": "code",
   "execution_count": null,
   "metadata": {
    "scrolled": true
   },
   "outputs": [
    {
     "name": "stderr",
     "output_type": "stream",
     "text": [
      "INFO:dbca.config:Setting logging level to 20\n",
      "INFO:dbca.storage:Loading samples into storage...\n",
      "100%|█████████████████████████| 114400/114400 [00:15<00:00, 7384.39it/s]\n",
      "INFO:dbca.storage:Done!\n",
      "INFO:dbca.full_sample_set:Loading 114400 samples...\n",
      "100%|████████████████████████| 114400/114400 [00:09<00:00, 11488.07it/s]\n",
      "INFO:dbca.full_sample_set:Computing weight for all 412294 compounds...\n",
      "  0%|                         | 9/412294 [30:01<27117:30:36, 236.79s/it]"
     ]
    }
   ],
   "source": [
    "pool_size = len(train_samples_partial) + len(mcd_samples_partial)\n",
    "n_selected = 10000\n",
    "max_compounds = 3000\n",
    "cfg = DBCASplitterConfig(d_a=0.02, d_c=1.0, pool_size=pool_size, num_processes=1,\n",
    "                         n_sample_per_step=100, max_compounds=max_compounds, use_compound_weight=True,\n",
    "                         n_train=len(train_samples_partial), n_test=n_selected, save_dir=\"tmp\", verbose=False)\n",
    "if cfg.num_processes > 1:\n",
    "    spg = DBCASplitterRay(train_samples_partial + mcd_samples_partial, cfg)\n",
    "else:\n",
    "    spg = DBCASplitter(train_samples_partial + mcd_samples_partial, cfg)\n",
    "for sample in train_samples_partial:\n",
    "    spg.add_sample_to_set(sample.id, spg.train_set)\n",
    "spg.generate_splits()\n",
    "\n",
    "if cfg.num_processes > 0:\n",
    "    import ray\n",
    "    ray.shutdown()"
   ]
  },
  {
   "cell_type": "code",
   "execution_count": null,
   "metadata": {},
   "outputs": [],
   "source": [
    "100%|████████████████████████████████| 20/20 [1:33:16<00:00, 279.83s/it]\n",
    "INFO:dbca.dbca_splitter:Finished creating dataset!\n",
    "INFO:dbca.dbca_splitter:Train set size: 4400, test set size: 2000\n",
    "INFO:dbca.dbca_splitter:D_A: 0.024547835836791543, D_C: 0.2191601685310356\n",
    "INFO:dbca.dbca_splitter:Saving to test_reg...\n",
    "INFO:dbca.dbca_splitter:Done!"
   ]
  },
  {
   "cell_type": "code",
   "execution_count": 17,
   "metadata": {},
   "outputs": [
    {
     "data": {
      "image/png": "[encoded data removed]",
      "text/plain": [
       "<Figure size 432x288 with 1 Axes>"
      ]
     },
     "metadata": {
      "needs_background": "light"
     },
     "output_type": "display_data"
    },
    {
     "data": {
      "image/png": "[encoded data removed]",
      "text/plain": [
       "<Figure size 432x288 with 1 Axes>"
      ]
     },
     "metadata": {
      "needs_background": "light"
     },
     "output_type": "display_data"
    },
    {
     "data": {
      "text/plain": [
       "<module 'matplotlib.pyplot' from '/home/qing/.virtualenvs/hint/lib/python3.8/site-packages/matplotlib/pyplot.py'>"
      ]
     },
     "execution_count": 17,
     "metadata": {},
     "output_type": "execute_result"
    }
   ],
   "source": [
    "spg.visualize_dists('atom')\n",
    "spg.visualize_dists('compound')"
   ]
  },
  {
   "cell_type": "code",
   "execution_count": 18,
   "metadata": {},
   "outputs": [
    {
     "data": {
      "text/plain": [
       "1500"
      ]
     },
     "execution_count": 18,
     "metadata": {},
     "output_type": "execute_result"
    }
   ],
   "source": [
    "len(spg.test_set.sample_ids)"
   ]
  },
  {
   "cell_type": "code",
   "execution_count": 6,
   "metadata": {},
   "outputs": [],
   "source": [
    "split2dataset = {}\n",
    "for split in splits:\n",
    "    split2dataset[split] = json.load(open('expr_%s.json'%split))\n",
    "    \n",
    "split2symset = {}\n",
    "for split in splits:\n",
    "    split2symset[split] = json.load(open('sym_%s.json'%split))"
   ]
  },
  {
   "cell_type": "code",
   "execution_count": 15,
   "metadata": {},
   "outputs": [],
   "source": [
    "max_nodes_per_compound = 5\n",
    "max_depth_compound = 3\n",
    "split2samples = {}\n",
    "\n",
    "def map_number(expr):\n",
    "    return ['n' if x in num_list else x for x in expr]\n",
    "\n",
    "for split in splits:\n",
    "    samples = [TreeSample(expr=x['expr'], heads=x['head'], name = f'{split}_{i}', node_attr=NODE_ATTR,\n",
    "                          max_nodes_per_compound = max_nodes_per_compound, max_depth_compound=max_depth_compound) \n",
    "                     for i, x in enumerate(split2dataset[split])]\n",
    "    split2samples[split] = samples"
   ]
  },
  {
   "cell_type": "code",
   "execution_count": 16,
   "metadata": {
    "scrolled": true
   },
   "outputs": [
    {
     "name": "stderr",
     "output_type": "stream",
     "text": [
      "INFO:dbca.config:Setting logging level to 20\n",
      "INFO:dbca.storage:Loading samples into storage...\n",
      "100%|██████████████████████████| 137040/137040 [04:57<00:00, 461.19it/s]\n",
      "INFO:dbca.storage:Done!\n",
      "INFO:dbca.full_sample_set:Loading 137040 samples...\n",
      "100%|████████████████████████| 137040/137040 [00:07<00:00, 18091.81it/s]\n",
      "INFO:dbca.full_sample_set:Computing weight for all 141218 compounds...\n",
      "100%|████████████████████████| 141218/141218 [00:03<00:00, 41218.28it/s]\n",
      "INFO:dbca.full_sample_set:Keeping 3000/141218 highest weighted compounds.\n",
      "100%|████████████████████████████| 84900/84900 [02:55<00:00, 484.21it/s]\n"
     ]
    }
   ],
   "source": [
    "train_samples = split2samples['train']\n",
    "all_samples = []\n",
    "for split in splits:\n",
    "    all_samples.extend(split2samples[split])\n",
    "spg = DBCASplitter(all_samples, DBCASplitterConfig(use_compound_weight=False, max_compounds=3000))\n",
    "for sample in tqdm(train_samples):\n",
    "    spg.add_sample_to_set(sample.id, spg.train_set)"
   ]
  },
  {
   "cell_type": "code",
   "execution_count": 17,
   "metadata": {},
   "outputs": [
    {
     "name": "stdout",
     "output_type": "stream",
     "text": [
      "val-I (1100): AD 0.0003368805202171865, CD 0.012029658292481482\n",
      "val-SS (800): AD 0.0003081636915347463, CD 0.012583214123693454\n",
      "val-LS (1000): AD 0.0007648573642786705, CD 0.00857139801803608\n",
      "val-SL (800): AD 0.05439624062393833, CD 0.08827668382464127\n",
      "val-LL (1000): AD 0.01202623288196114, CD 0.03414709208166844\n",
      "test-I (12900): AD 0.0001995788430643186, CD 0.0012403373019348463\n",
      "test-SS (8000): AD 3.024638359661047e-05, CD 0.001357271118742509\n",
      "test-LS (10000): AD 0.0006629669778629443, CD 0.005499056365079857\n",
      "test-SL (6540): AD 0.046040251197732696, CD 0.07326302759684467\n",
      "test-LL (10000): AD 0.011351363050201235, CD 0.030760354883142327\n"
     ]
    }
   ],
   "source": [
    "for split in ['val', 'test']:\n",
    "    samples = split2samples[split]\n",
    "    dataset = split2dataset[split]\n",
    "    for evaluation in ['I', 'SS', 'LS', 'SL', 'LL']:\n",
    "        samples_eval = [x for x, y in zip(samples, dataset) if y['eval'] == evaluation]\n",
    "        spg.test_set = SplitSampleSet(split=\"test\")\n",
    "        for sample in samples_eval:\n",
    "            spg.unused_sample_ids.add(sample.id)\n",
    "            spg.add_sample_to_set(sample.id, spg.test_set)\n",
    "        print(f'{split}-{evaluation} ({len(samples_eval)}): AD {spg.atom_divergence}, CD {spg.compound_divergence}')"
   ]
  },
  {
   "cell_type": "code",
   "execution_count": 23,
   "metadata": {
    "scrolled": true
   },
   "outputs": [
    {
     "data": {
      "text/plain": [
       "3000"
      ]
     },
     "execution_count": 23,
     "metadata": {},
     "output_type": "execute_result"
    }
   ],
   "source": [
    "len(sorted(spg.full_sample_set.compound_weights.items(), key=lambda x: -x[1]))"
   ]
  },
  {
   "cell_type": "markdown",
   "metadata": {},
   "source": [
    "# 3. Data analysis"
   ]
  },
  {
   "cell_type": "code",
   "execution_count": null,
   "metadata": {},
   "outputs": [],
   "source": [
    "bins = list(range(10)) + [10, max_value_train+1, max_value_test]\n",
    "\n",
    "dataset = split2dataset['train']\n",
    "#res_counts = Counter([x['res'] for x in dataset])\n",
    "#print(sorted(list(res_counts.items())))\n",
    "\n",
    "n, _, _ = plt.hist([x['res'] for x in dataset], bins=bins)\n",
    "n = n/n.sum()\n",
    "print(list(zip(bins, np.round(n*100, 2))))\n",
    "#plt.show()\n",
    "#print(random.sample(dataset, k=3))\n",
    "\n",
    "dataset = split2dataset['val']\n",
    "res_counts = Counter([x['res'] for x in dataset])\n",
    "#print(sorted(list(res_counts.items())))\n",
    "n, _, _ = plt.hist([x['res'] for x in dataset], bins=bins)\n",
    "n = n/n.sum()\n",
    "print(list(zip(bins, np.round(n*100, 2))))\n",
    "#print(random.sample(dataset, k=3))"
   ]
  },
  {
   "cell_type": "code",
   "execution_count": null,
   "metadata": {},
   "outputs": [],
   "source": [
    "# Visualize data\n",
    "import numpy as np\n",
    "for split in splits:\n",
    "    dataset = split2dataset[split]\n",
    "    print(split, len(dataset), np.max([x['res'] for x in dataset]))\n",
    "    all_symbols = [(x, y) for sample in dataset for x, y in zip(sample['img_paths'], sample['expr'])]\n",
    "    print(sorted(Counter([x[1] for x in all_symbols]).items()))\n",
    "    print(sorted(Counter([x[1] for x in set(all_symbols)]).items()))\n",
    "    for _ in range(5):\n",
    "        sample = random.choice(dataset)\n",
    "        img_paths = sample['img_paths']\n",
    "        img = render_img(img_paths)\n",
    "        print(\"\".join(sample['expr']), sample['head'], sample['res_all'], sample['res'])\n",
    "        display(img)"
   ]
  },
  {
   "cell_type": "code",
   "execution_count": null,
   "metadata": {},
   "outputs": [],
   "source": [
    "img = Image.open(symbol_images_dir + '2/2_849.jpg')\n",
    "print(img.size)\n",
    "display(img)\n",
    "\n",
    "expr = '3+4*2'\n",
    "img_paths = generate_img_paths(expr, sym_set=split2sym['train'])\n",
    "img = render_img(img_paths)\n",
    "print(expr,'=', eval(expr))\n",
    "display(img)\n",
    "\n",
    "for sym in '019+-*/()':\n",
    "    expr = sym*10\n",
    "    img_paths = generate_img_paths(expr, sym_set=split2sym['train'])\n",
    "    img = render_img(img_paths)\n",
    "    display(img)\n"
   ]
  },
  {
   "cell_type": "code",
   "execution_count": null,
   "metadata": {},
   "outputs": [],
   "source": [
    "def compute_depth(expr):\n",
    "    depth = 0\n",
    "    max_depth = 0\n",
    "    for x in expr:\n",
    "        if x == lps:\n",
    "            c = 1\n",
    "        elif x == rps:\n",
    "            c = -1\n",
    "        else:\n",
    "            c = 0\n",
    "        depth += c\n",
    "        if depth > max_depth:\n",
    "            max_depth = depth\n",
    "    return max_depth\n",
    "\n",
    "print(compute_depth('1*2*(1+2*((3+4)+(3-1))'))\n",
    "ps_depths = [compute_depth(x['expr']) for x in split2dataset['train']]\n",
    "print(Counter(ps_depths))\n",
    "\n",
    "ps_depths = [compute_depth(x['expr']) for x in split2dataset['val']]\n",
    "print(Counter(ps_depths))"
   ]
  },
  {
   "cell_type": "code",
   "execution_count": null,
   "metadata": {},
   "outputs": [],
   "source": [
    "dataset = [x for x in split2dataset['train']]\n",
    "for _ in range(10):\n",
    "    sample = random.choice(dataset)\n",
    "    img_paths = sample['img_paths']\n",
    "    img = render_img(img_paths)\n",
    "    print(\"\".join(sample['expr']), sample['head'], sample['res_all'], sample['res'])\n",
    "    display(img)"
   ]
  },
  {
   "cell_type": "code",
   "execution_count": null,
   "metadata": {},
   "outputs": [],
   "source": [
    "for i in range(1, 6):\n",
    "    print(i, '='*60)\n",
    "    dataset = [x for x in split2dataset['test'] if x['eval'] == i]\n",
    "    for _ in range(10):\n",
    "        sample = random.choice(dataset)\n",
    "        img_paths = sample['img_paths']\n",
    "        img = render_img(img_paths)\n",
    "        print(\"\".join(sample['expr']), sample['head'], sample['res_all'], sample['res'])\n",
    "        display(img)"
   ]
  },
  {
   "cell_type": "markdown",
   "metadata": {},
   "source": [
    "# 4. Generate fewshot dataset"
   ]
  },
  {
   "cell_type": "code",
   "execution_count": null,
   "metadata": {},
   "outputs": [],
   "source": [
    "fewshot_concepts = list('abcde')\n",
    "op2precedence.update({'a': 2, 'b': 2, 'c': 3, 'd': 3, 'e': 4})\n",
    "op2arity.update({'a': 2, 'b': 2, 'c': 2, 'd': 2, 'e': 2})\n",
    "functions = [lambda x,y: max(x, y), lambda x,y: min(x, y), lambda x,y: math.ceil((x+y)/2), \n",
    "             lambda x,y: max(0, (x*y)-(x+y)), lambda x,y: x**y if y < 10 else None]\n",
    "programs = [Program(f) for f in functions]\n",
    "SYM2PROG.update(dict(zip(fewshot_concepts, functions)))"
   ]
  },
  {
   "cell_type": "code",
   "execution_count": null,
   "metadata": {},
   "outputs": [],
   "source": [
    "random.seed(12306)\n",
    "max_op = 20\n",
    "max_op_train = 10\n",
    "\n",
    "for i, fs in enumerate(fewshot_concepts):\n",
    "    if i != 3:\n",
    "        continue\n",
    "    train_exprs = []\n",
    "    val_exprs = []\n",
    "    test_exprs = []\n",
    "    n_test = 10\n",
    "    n_val = 10\n",
    "    \n",
    "    op_list = ['+', '-', '*', '/', fs]\n",
    "    \n",
    "    # generate symbolic expression\n",
    "    for n_op in range(max_op + 1):\n",
    "        n_train = 20 if n_op == 1 else 10\n",
    "        if n_op > max_op_train:\n",
    "            n_train = 0\n",
    "        expressions = generate_expression(n_op, 1000, max_value=max_value_train)\n",
    "        expressions = [x for x in expressions if fs in x[0]]\n",
    "\n",
    "        if n_train > 0:\n",
    "            train_exprs.append(expressions[:n_train])\n",
    "        val_exprs.append(expressions[:min(n_val, n_train)] + expressions[n_train:n_train+n_val])\n",
    "        test_exprs.append(expressions[:n_train + n_test])\n",
    "\n",
    "        expressions = generate_expression(n_op, 1000, \n",
    "                              min_value=max_value_train+1, max_value=max_value_test, non_zero_res=True)\n",
    "        expressions = [x for x in expressions if fs in x[0]]\n",
    "        val_exprs[-1].extend(expressions[:n_val])\n",
    "        test_exprs[-1].extend(expressions[:n_test])\n",
    "\n",
    "        print(n_op, len(train_exprs[-1]) if n_train > 0 else 0, len(val_exprs[-1]), len(test_exprs[-1]))\n",
    "\n",
    "    split2exprs = {'train': train_exprs, 'val': val_exprs, 'test': test_exprs}\n",
    "    print([(k, sum([len(x) for x in v])) for k, v in split2exprs.items()])\n",
    "    \n",
    "    # generate handwritten expression\n",
    "    split2dataset = {}\n",
    "    for split in splits:\n",
    "        sym_set = split2sym[split]\n",
    "        exprs = split2exprs[split]\n",
    "        dataset = []\n",
    "        idx = 0\n",
    "        for n_op, expr_list in enumerate(exprs):\n",
    "            n_instance = 1\n",
    "            if split == 'val':\n",
    "                n_instance *= 0.1\n",
    "            for e in expr_list:\n",
    "                for _ in range(int(math.ceil(n_instance))):\n",
    "                    img_paths = generate_img_paths(e[0], sym_set)\n",
    "                    sample = {'id': '%s_%08d'%(split, idx), 'img_paths':img_paths, \n",
    "                          'expr': e[0], 'head': e[1], 'res': e[2], 'res_all': e[3]}\n",
    "                    idx += 1\n",
    "                    dataset.append(sample)\n",
    "        split2dataset[split] = dataset\n",
    "        print(split, len(dataset))\n",
    "    \n",
    "    # generate evaluation flag\n",
    "    train_exprs = {x['expr'] for x in split2dataset['train']}\n",
    "    max_len_train = max([len(x) for x in train_exprs])\n",
    "    print(max_len_train)\n",
    "    for split in ['val', 'test']:\n",
    "        dataset = split2dataset[split]\n",
    "        for sample in dataset:\n",
    "            expr = sample['expr']\n",
    "            if expr in train_exprs:\n",
    "                evaluation = 1\n",
    "            elif len(expr) <= max_len_train:\n",
    "                max_value = max([x for x in sample['res_all'] if x is not None])\n",
    "                if max_value <= max_value_train:\n",
    "                    evaluation = 2\n",
    "                else:\n",
    "                    evaluation = 3\n",
    "            else:\n",
    "                max_value = max([x for x in sample['res_all'] if x is not None])\n",
    "                if max_value <= max_value_train:\n",
    "                    evaluation = 4\n",
    "                else:\n",
    "                    evaluation = 5\n",
    "            sample['eval'] = evaluation\n",
    "    \n",
    "    # save\n",
    "    for split in splits:\n",
    "        json.dump(split2dataset[split], open('fewshot_%d_expr_%s.json'%(i, split), 'w'))"
   ]
  },
  {
   "cell_type": "code",
   "execution_count": null,
   "metadata": {},
   "outputs": [],
   "source": [
    "counts = sorted(Counter([x['eval'] for x in split2dataset['test']]).items())\n",
    "total_count = sum([c for _, c in counts])\n",
    "counts = [(k, round(v/total_count*100, 2)) for k, v in counts]\n",
    "print(counts)\n",
    "print(list({x['expr'] for x in split2dataset['test'] if x['eval'] == 3})[:10])\n",
    "train_exprs = {x['expr'] for x in split2dataset['train']}\n",
    "max_len_train = max([len(x) for x in train_exprs])\n",
    "print(max_len_train)\n",
    "\n",
    "# Visualize data\n",
    "import numpy as np\n",
    "for split in splits:\n",
    "    dataset = split2dataset[split]\n",
    "    print(split, len(dataset), np.max([x['res'] for x in dataset]))\n",
    "    all_symbols = [(x, y) for sample in dataset for x, y in zip(sample['img_paths'], sample['expr'])]\n",
    "    print(sorted(Counter([x[1] for x in all_symbols]).items()))\n",
    "    print(sorted(Counter([x[1] for x in set(all_symbols)]).items()))\n",
    "    for _ in range(5):\n",
    "        sample = random.choice(dataset)\n",
    "        img_paths = sample['img_paths']\n",
    "        img = render_img(img_paths)\n",
    "        print(\"\".join(sample['expr']), sample['head'], sample['res_all'], sample['res'])\n",
    "        display(img)"
   ]
  },
  {
   "cell_type": "code",
   "execution_count": null,
   "metadata": {},
   "outputs": [],
   "source": []
  }
 ],
 "metadata": {
  "kernelspec": {
   "display_name": "hint",
   "language": "python",
   "name": "hint"
  },
  "language_info": {
   "codemirror_mode": {
    "name": "ipython",
    "version": 3
   },
   "file_extension": ".py",
   "mimetype": "text/x-python",
   "name": "python",
   "nbconvert_exporter": "python",
   "pygments_lexer": "ipython3",
   "version": "3.8.5"
  }
 },
 "nbformat": 4,
 "nbformat_minor": 4
}
