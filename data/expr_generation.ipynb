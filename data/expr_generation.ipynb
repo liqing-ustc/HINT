{
 "cells": [
  {
   "cell_type": "markdown",
   "metadata": {},
   "source": [
    "# 0. Preliminaries"
   ]
  },
  {
   "cell_type": "code",
   "execution_count": 1,
   "metadata": {},
   "outputs": [],
   "source": [
    "import json\n",
    "import random\n",
    "import os\n",
    "from PIL import Image\n",
    "from itertools import product\n",
    "from tqdm import tqdm\n",
    "import math\n",
    "import matplotlib.pyplot as plt\n",
    "%matplotlib inline\n",
    "import numpy as np\n",
    "from collections import Counter\n",
    "\n",
    "from domain import SYM2PROG, Program, NULL_VALUE\n",
    "import sys\n",
    "from helper import *"
   ]
  },
  {
   "cell_type": "markdown",
   "metadata": {},
   "source": [
    "# 1. Split handwritten symbols"
   ]
  },
  {
   "cell_type": "code",
   "execution_count": 2,
   "metadata": {},
   "outputs": [
    {
     "name": "stdout",
     "output_type": "stream",
     "text": [
      "+ 5443\n",
      "- 6022\n",
      "times 600\n",
      "div 157\n",
      "( 3986\n",
      ") 3978\n",
      "! 224\n",
      "0 1810\n",
      "1 6327\n",
      "2 6210\n",
      "3 2469\n",
      "4 1641\n",
      "5 1008\n",
      "6 812\n",
      "7 753\n",
      "8 731\n",
      "9 742\n",
      "alpha 383\n",
      "beta 295\n",
      "gamma 90\n",
      "theta 543\n",
      "phi 83\n",
      "a 2724\n",
      "b 1830\n",
      "c 1194\n",
      "d 1062\n",
      "e 616\n",
      "x 5333\n",
      "y 1895\n",
      "z 1075\n"
     ]
    }
   ],
   "source": [
    "# split train and test set of math symbols\n",
    "random.seed(777)\n",
    "terminals = ['+', '-', 'times', 'div', '(', ')', '!'] + list(map(str, list(range(10)))) + ['alpha', 'beta', 'gamma', 'theta', 'phi'] + list('abcdexyz')\n",
    "sym_train_set = {}\n",
    "sym_val_set = {}\n",
    "sym_test_set = {}\n",
    "for tok in terminals:\n",
    "    imgs = os.listdir(symbol_images_dir + tok)\n",
    "    random.shuffle(imgs)\n",
    "    n_train = int(len(imgs) * 0.75)\n",
    "    n_val = int(len(imgs) * 0.05)\n",
    "    sym_train_set[tok] = sorted(imgs[:n_train])\n",
    "    sym_val_set[tok] = sorted(imgs[n_train:n_train+n_val])\n",
    "    sym_test_set[tok] = sorted(imgs[n_train+n_val:])\n",
    "    print(tok, len(imgs))\n",
    "json.dump(sym_train_set, open('sym_train.json', 'w'))\n",
    "json.dump(sym_val_set, open('sym_val.json', 'w'))\n",
    "json.dump(sym_test_set, open('sym_test.json', 'w'))"
   ]
  },
  {
   "cell_type": "markdown",
   "metadata": {},
   "source": [
    "# 2. Generate expressions"
   ]
  },
  {
   "cell_type": "code",
   "execution_count": 3,
   "metadata": {},
   "outputs": [],
   "source": [
    "random.seed(777)\n",
    "split2sym = {}\n",
    "for split in splits:\n",
    "    sym_set = {k:Iterator(v) for k,v in json.load(open('sym_%s.json'%split)).items()}\n",
    "    split2sym[split] = sym_set"
   ]
  },
  {
   "cell_type": "code",
   "execution_count": 4,
   "metadata": {},
   "outputs": [
    {
     "name": "stdout",
     "output_type": "stream",
     "text": [
      "there are not enough expressions for train set. Repeat them.\n",
      "0 20000 20 200\n",
      "there are not enough expressions for train set. Repeat them.\n",
      "1 78000 78 780\n",
      "there are not enough expressions for train set. Repeat them.\n"
     ]
    },
    {
     "name": "stderr",
     "output_type": "stream",
     "text": [
      "  1%|▍                                 | 1408/101100 [00:00<00:07, 14066.83it/s]"
     ]
    },
    {
     "name": "stdout",
     "output_type": "stream",
     "text": [
      "2 100000 200 1640\n"
     ]
    },
    {
     "name": "stderr",
     "output_type": "stream",
     "text": [
      "100%|██████████████████████████████████| 101100/101100 [05:58<00:00, 282.34it/s]\n",
      "100%|██████████████████████████████████████| 1100/1100 [00:01<00:00, 896.81it/s]\n",
      "  1%|▎                                 | 1073/101100 [00:00<00:09, 10723.11it/s]"
     ]
    },
    {
     "name": "stdout",
     "output_type": "stream",
     "text": [
      "3 100000 300 3000\n"
     ]
    },
    {
     "name": "stderr",
     "output_type": "stream",
     "text": [
      "100%|██████████████████████████████████| 101100/101100 [06:14<00:00, 270.10it/s]\n",
      "100%|█████████████████████████████████████| 1100/1100 [00:00<00:00, 1244.06it/s]\n",
      "  1%|▎                                   | 947/101100 [00:00<00:10, 9423.17it/s]"
     ]
    },
    {
     "name": "stdout",
     "output_type": "stream",
     "text": [
      "4 100000 300 3000\n"
     ]
    },
    {
     "name": "stderr",
     "output_type": "stream",
     "text": [
      "100%|██████████████████████████████████| 101100/101100 [06:59<00:00, 241.23it/s]\n",
      "100%|█████████████████████████████████████| 1100/1100 [00:00<00:00, 1221.19it/s]\n",
      "  1%|▎                                   | 772/101100 [00:00<00:13, 7711.07it/s]"
     ]
    },
    {
     "name": "stdout",
     "output_type": "stream",
     "text": [
      "5 100000 300 3000\n"
     ]
    },
    {
     "name": "stderr",
     "output_type": "stream",
     "text": [
      "100%|██████████████████████████████████| 101100/101100 [07:41<00:00, 219.20it/s]\n",
      "100%|█████████████████████████████████████| 1100/1100 [00:01<00:00, 1039.12it/s]\n",
      "  1%|▏                                   | 585/101100 [00:00<00:17, 5847.33it/s]"
     ]
    },
    {
     "name": "stdout",
     "output_type": "stream",
     "text": [
      "6 100000 300 3000\n"
     ]
    },
    {
     "name": "stderr",
     "output_type": "stream",
     "text": [
      "100%|██████████████████████████████████| 101100/101100 [09:55<00:00, 169.83it/s]\n",
      "100%|█████████████████████████████████████| 1100/1100 [00:00<00:00, 1101.55it/s]\n",
      "  1%|▏                                   | 526/101100 [00:00<00:19, 5227.86it/s]"
     ]
    },
    {
     "name": "stdout",
     "output_type": "stream",
     "text": [
      "7 100000 300 3000\n"
     ]
    },
    {
     "name": "stderr",
     "output_type": "stream",
     "text": [
      "100%|██████████████████████████████████| 101100/101100 [12:29<00:00, 134.86it/s]\n",
      "100%|█████████████████████████████████████| 1100/1100 [00:01<00:00, 1060.44it/s]\n",
      "  0%|▏                                   | 380/101100 [00:00<00:26, 3796.60it/s]"
     ]
    },
    {
     "name": "stdout",
     "output_type": "stream",
     "text": [
      "8 100000 300 3000\n"
     ]
    },
    {
     "name": "stderr",
     "output_type": "stream",
     "text": [
      "100%|██████████████████████████████████| 101100/101100 [12:19<00:00, 136.76it/s]\n",
      "100%|█████████████████████████████████████| 1100/1100 [00:00<00:00, 1108.09it/s]\n",
      "  0%|▏                                   | 383/101100 [00:00<00:26, 3822.21it/s]"
     ]
    },
    {
     "name": "stdout",
     "output_type": "stream",
     "text": [
      "9 100000 300 3000\n"
     ]
    },
    {
     "name": "stderr",
     "output_type": "stream",
     "text": [
      "100%|██████████████████████████████████| 101100/101100 [14:22<00:00, 117.27it/s]\n",
      "100%|█████████████████████████████████████| 1100/1100 [00:01<00:00, 1092.49it/s]\n",
      " 30%|███████████▍                          | 330/1100 [00:00<00:00, 3299.63it/s]"
     ]
    },
    {
     "name": "stdout",
     "output_type": "stream",
     "text": [
      "10 100000 300 3000\n"
     ]
    },
    {
     "name": "stderr",
     "output_type": "stream",
     "text": [
      "100%|█████████████████████████████████████| 1100/1100 [00:00<00:00, 2191.80it/s]\n",
      "100%|██████████████████████████████████████| 1100/1100 [00:01<00:00, 939.04it/s]\n",
      " 26%|█████████▉                            | 287/1100 [00:00<00:00, 2864.58it/s]"
     ]
    },
    {
     "name": "stdout",
     "output_type": "stream",
     "text": [
      "11 0 200 2000\n"
     ]
    },
    {
     "name": "stderr",
     "output_type": "stream",
     "text": [
      "100%|█████████████████████████████████████| 1100/1100 [00:00<00:00, 2021.51it/s]\n",
      "100%|██████████████████████████████████████| 1100/1100 [00:01<00:00, 909.00it/s]\n",
      " 23%|████████▋                             | 250/1100 [00:00<00:00, 2497.77it/s]"
     ]
    },
    {
     "name": "stdout",
     "output_type": "stream",
     "text": [
      "12 0 200 2000\n"
     ]
    },
    {
     "name": "stderr",
     "output_type": "stream",
     "text": [
      "100%|█████████████████████████████████████| 1100/1100 [00:00<00:00, 1791.30it/s]\n",
      "100%|██████████████████████████████████████| 1100/1100 [00:01<00:00, 857.66it/s]\n",
      " 19%|███████▎                              | 213/1100 [00:00<00:00, 2122.20it/s]"
     ]
    },
    {
     "name": "stdout",
     "output_type": "stream",
     "text": [
      "13 0 200 2000\n"
     ]
    },
    {
     "name": "stderr",
     "output_type": "stream",
     "text": [
      "100%|█████████████████████████████████████| 1100/1100 [00:00<00:00, 1509.68it/s]\n",
      "100%|██████████████████████████████████████| 1100/1100 [00:01<00:00, 796.10it/s]\n",
      " 18%|██████▊                               | 198/1100 [00:00<00:00, 1977.23it/s]"
     ]
    },
    {
     "name": "stdout",
     "output_type": "stream",
     "text": [
      "14 0 200 2000\n"
     ]
    },
    {
     "name": "stderr",
     "output_type": "stream",
     "text": [
      "100%|█████████████████████████████████████| 1100/1100 [00:00<00:00, 1290.03it/s]\n",
      "100%|██████████████████████████████████████| 1100/1100 [00:01<00:00, 762.75it/s]\n",
      " 15%|█████▌                                | 162/1100 [00:00<00:00, 1619.28it/s]"
     ]
    },
    {
     "name": "stdout",
     "output_type": "stream",
     "text": [
      "15 0 200 2000\n"
     ]
    },
    {
     "name": "stderr",
     "output_type": "stream",
     "text": [
      "100%|█████████████████████████████████████| 1100/1100 [00:00<00:00, 1101.86it/s]\n",
      "100%|██████████████████████████████████████| 1100/1100 [00:01<00:00, 732.23it/s]\n",
      " 14%|█████▏                                | 149/1100 [00:00<00:00, 1487.14it/s]"
     ]
    },
    {
     "name": "stdout",
     "output_type": "stream",
     "text": [
      "16 0 200 2000\n"
     ]
    },
    {
     "name": "stderr",
     "output_type": "stream",
     "text": [
      "100%|█████████████████████████████████████| 1100/1100 [00:01<00:00, 1051.18it/s]\n",
      "100%|██████████████████████████████████████| 1100/1100 [00:01<00:00, 679.92it/s]\n",
      " 12%|████▍                                 | 127/1100 [00:00<00:00, 1264.74it/s]"
     ]
    },
    {
     "name": "stdout",
     "output_type": "stream",
     "text": [
      "17 0 200 2000\n"
     ]
    },
    {
     "name": "stderr",
     "output_type": "stream",
     "text": [
      "100%|██████████████████████████████████████| 1100/1100 [00:01<00:00, 867.75it/s]\n",
      "100%|██████████████████████████████████████| 1100/1100 [00:01<00:00, 598.33it/s]\n",
      "  9%|███▌                                  | 104/1100 [00:00<00:00, 1033.58it/s]"
     ]
    },
    {
     "name": "stdout",
     "output_type": "stream",
     "text": [
      "18 0 200 2000\n"
     ]
    },
    {
     "name": "stderr",
     "output_type": "stream",
     "text": [
      "100%|██████████████████████████████████████| 1100/1100 [00:01<00:00, 808.02it/s]\n",
      "100%|██████████████████████████████████████| 1100/1100 [00:01<00:00, 609.16it/s]\n",
      "  8%|███▏                                    | 89/1100 [00:00<00:01, 885.60it/s]"
     ]
    },
    {
     "name": "stdout",
     "output_type": "stream",
     "text": [
      "19 0 200 2000\n"
     ]
    },
    {
     "name": "stderr",
     "output_type": "stream",
     "text": [
      "100%|██████████████████████████████████████| 1100/1100 [00:01<00:00, 671.73it/s]\n",
      "100%|██████████████████████████████████████| 1100/1100 [00:01<00:00, 565.41it/s]\n"
     ]
    },
    {
     "name": "stdout",
     "output_type": "stream",
     "text": [
      "20 0 200 2000\n",
      "[('train', 998000), ('val', 4698), ('test', 46620)]\n"
     ]
    }
   ],
   "source": [
    "random.seed(12306)\n",
    "max_op = 20\n",
    "max_op_train = 10\n",
    "max_value_train = 100\n",
    "max_value_test = 10000\n",
    "n_train = 100000\n",
    "n_test = 1000\n",
    "n_val = 100\n",
    "res_max_ratio = 0.05\n",
    "\n",
    "train_exprs = []\n",
    "val_exprs = []\n",
    "test_exprs = []\n",
    "\n",
    "for n_op in range(max_op + 1):\n",
    "    if n_op > max_op_train:\n",
    "        n_train = 0\n",
    "    expressions = generate_expression(n_op, n_train + n_val + n_test, max_value=max_value_train, res_max_ratio=res_max_ratio)\n",
    "    if len(expressions) < n_train:\n",
    "        print('there are not enough expressions for train set. Repeat them.')\n",
    "        if n_op == 0:\n",
    "            expressions = expressions * (20 * n_train // 1000)\n",
    "        elif n_op == 1:\n",
    "            expressions = expressions * (2 * n_train // 1000)\n",
    "        else:\n",
    "            expressions = expressions * (n_train // len(expressions) + 1)\n",
    "            expressions = expressions[:n_train]\n",
    "    \n",
    "    train_exprs_i = []\n",
    "    val_exprs_i = []\n",
    "    test_exprs_i = []\n",
    "\n",
    "    # split 'I'\n",
    "    if n_train > 0:\n",
    "        train_exprs_i.extend(expressions[:n_train])\n",
    "        val_exprs_i.extend(expressions[:len(train_exprs_i) * n_val // n_train])\n",
    "        test_exprs_i.extend(expressions[:len(train_exprs_i) * n_test // n_train])\n",
    "    \n",
    "    # split 'SS' or 'LS'\n",
    "    val_exprs_i.extend(expressions[n_train:n_train+n_val])\n",
    "    test_exprs_i.extend(expressions[n_train+n_val:])\n",
    "    \n",
    "    # split 'SL' or 'LL'\n",
    "    expressions = generate_expression(n_op, n_val + n_test, min_value=max_value_train+1, max_value=max_value_test, res_max_ratio=res_max_ratio)\n",
    "    val_exprs_i.extend(expressions[:n_val])\n",
    "    test_exprs_i.extend(expressions[n_val:n_val+n_test])\n",
    "\n",
    "    print(n_op, len(train_exprs_i), len(val_exprs_i), len(test_exprs_i))\n",
    "    train_exprs.append(train_exprs_i)\n",
    "    val_exprs.append(val_exprs_i)\n",
    "    test_exprs.append(test_exprs_i)\n",
    "\n",
    "    \n",
    "split2exprs = {'train': train_exprs, 'val': val_exprs, 'test': test_exprs}\n",
    "print([(k, sum([len(x) for x in v])) for k, v in split2exprs.items()])"
   ]
  },
  {
   "cell_type": "code",
   "execution_count": 5,
   "metadata": {},
   "outputs": [
    {
     "name": "stdout",
     "output_type": "stream",
     "text": [
      "train 998000\n",
      "val 4698\n",
      "test 46620\n"
     ]
    }
   ],
   "source": [
    "split2dataset = {}\n",
    "for split in splits:\n",
    "    sym_set = split2sym[split]\n",
    "    exprs = split2exprs[split]\n",
    "    dataset = []\n",
    "    idx = 0\n",
    "    for n_op, expr_list in enumerate(exprs):\n",
    "        for e in expr_list:\n",
    "            if split in ['val', 'test']:\n",
    "                if e[0] in train_exprs:\n",
    "                    evaluation = 'I'\n",
    "                else:\n",
    "                    max_value = max([x for x in e[3] if x is not None])\n",
    "                    evaluation = 'S' if n_op <= max_op_train else 'L'\n",
    "                    evaluation += 'S' if max_value <= max_value_train else 'L'\n",
    "            \n",
    "            img_paths = generate_img_paths(e[0], sym_set)\n",
    "            sample = {'id': '%s_%08d'%(split, idx), 'img_paths':img_paths, \n",
    "                  'expr': e[0], 'head': e[1], 'res': e[2], 'res_all': e[3]}\n",
    "            if split in ['val', 'test']:\n",
    "                sample['eval'] = evaluation\n",
    "            idx += 1\n",
    "            dataset.append(sample)\n",
    "    split2dataset[split] = dataset\n",
    "    if split == 'train':\n",
    "        train_exprs = {x['expr'] for x in dataset}\n",
    "    print(split, len(dataset))\n",
    "for split in splits:\n",
    "    json.dump(split2dataset[split], open('expr_%s.json'%split, 'w'))"
   ]
  },
  {
   "cell_type": "code",
   "execution_count": 6,
   "metadata": {
    "scrolled": true
   },
   "outputs": [
    {
     "name": "stdout",
     "output_type": "stream",
     "text": [
      "[('I', 9980, 21.41), ('LL', 10000, 21.45), ('LS', 10000, 21.45), ('SL', 8640, 18.53), ('SS', 8000, 17.16)]\n"
     ]
    }
   ],
   "source": [
    "counts = sorted(Counter([x['eval'] for x in split2dataset['test']]).items())\n",
    "total_count = sum([c for _, c in counts])\n",
    "counts = [(k, v, round(v/total_count*100, 2)) for k, v in counts]\n",
    "print(counts)"
   ]
  },
  {
   "cell_type": "code",
   "execution_count": null,
   "metadata": {},
   "outputs": [],
   "source": []
  }
 ],
 "metadata": {
  "kernelspec": {
   "display_name": "hint",
   "language": "python",
   "name": "hint"
  },
  "language_info": {
   "codemirror_mode": {
    "name": "ipython",
    "version": 3
   },
   "file_extension": ".py",
   "mimetype": "text/x-python",
   "name": "python",
   "nbconvert_exporter": "python",
   "pygments_lexer": "ipython3",
   "version": "3.8.10"
  }
 },
 "nbformat": 4,
 "nbformat_minor": 4
}
