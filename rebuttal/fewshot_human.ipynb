{
 "cells": [
  {
   "cell_type": "code",
   "execution_count": 64,
   "id": "f9391205-542a-4e19-872f-3fe0db205337",
   "metadata": {},
   "outputs": [],
   "source": [
    "import json\n",
    "import random\n",
    "import os\n",
    "from PIL import Image, ImageOps\n",
    "from itertools import product\n",
    "from tqdm import tqdm\n",
    "import math\n",
    "import matplotlib.pyplot as plt\n",
    "import numpy as np\n",
    "from collections import Counter"
   ]
  },
  {
   "cell_type": "code",
   "execution_count": 65,
   "id": "947c99e6-1d22-4eb7-b08b-909a89ee2a73",
   "metadata": {},
   "outputs": [],
   "source": [
    "# symbol_images_dir = '../data/symbol_images/'\n",
    "symbol_images_dir = './fewshot/'\n",
    "\n",
    "def render_img(img_paths):\n",
    "    # print(img_paths)\n",
    "    images = [Image.open(symbol_images_dir + x.split('/')[0] + '.jpg') for x in img_paths]\n",
    "    widths, heights = zip(*(i.size for i in images))\n",
    "\n",
    "    total_width = sum(widths)\n",
    "    max_height = max(heights)\n",
    "\n",
    "    new_im = Image.new('L', (total_width, max_height))\n",
    "\n",
    "    x_offset = 0\n",
    "    for im in images:\n",
    "        new_im.paste(im, (x_offset,0))\n",
    "        x_offset += im.size[0]\n",
    "    return new_im"
   ]
  },
  {
   "cell_type": "code",
   "execution_count": 66,
   "id": "aa64cbf6-1293-4cf5-9989-377ab9db315f",
   "metadata": {},
   "outputs": [],
   "source": [
    "dataset_ori = json.load(open('../data/fewshot_dataset.json'))"
   ]
  },
  {
   "cell_type": "code",
   "execution_count": 67,
   "id": "493074db",
   "metadata": {},
   "outputs": [
    {
     "name": "stdout",
     "output_type": "stream",
     "text": [
      "x 10 4\n",
      "y 10 4\n",
      "a 10 4\n",
      "b 10 4\n",
      "c 10 4\n",
      "d 10 4\n"
     ]
    }
   ],
   "source": [
    "train_set = []\n",
    "test_set = []\n",
    "\n",
    "max_expr_len = 5\n",
    "min_expr_len = 1\n",
    "n_per_eval = 1\n",
    "eval_splits = ['I', 'SS', 'LS', 'SL', 'LL']\n",
    "\n",
    "for fs, data in dataset_ori.items():\n",
    "\teval2data = {x: [] for x in eval_splits}\n",
    "\tfor x in data['test']:\n",
    "\t\teval2data[x['eval']].append(x)\n",
    "\ttrain_data_all = [x for x in data['train'] if len(x['expr']) >= min_expr_len and  len(x['expr']) <= max_expr_len]\n",
    "\ttrain_data = []\n",
    "\twhile not train_data:\n",
    "\t\ttrain_data = random.sample(train_data_all, k=10)\n",
    "\t\ttmp = len([1 for x in train_data if len(x['expr']) == 3]) / len(train_data)\n",
    "\t\tif fs in 'abcd' and tmp > 0.3:\n",
    "\t\t\ttrain_data = []\n",
    "\n",
    "\ttest_data = []\n",
    "\ttmp = random.sample([x for x in eval2data['SS'] if len(x['expr']) <= max_expr_len], n_per_eval)\n",
    "\ttest_data.extend(tmp)\n",
    "\ttmp = random.sample([x for x in eval2data['SS'] if len(x['expr']) > max_expr_len and len(x['expr']) <= max_expr_len + 4], n_per_eval)\n",
    "\ttest_data.extend(tmp)\n",
    "\ttmp = random.sample([x for x in eval2data['SL'] if len(x['expr']) <= max_expr_len + 2], n_per_eval)\n",
    "\ttest_data.extend(tmp)\n",
    "\ttmp = random.sample([x for x in eval2data['SL'] if len(x['expr']) > max_expr_len + 2 and len(x['expr']) <= max_expr_len + 4], n_per_eval)\n",
    "\ttest_data.extend(tmp)\n",
    "\n",
    "\ttrain_set.extend(train_data)\n",
    "\ttest_set.extend(test_data)\n",
    "\tprint(fs, len(train_data), len(test_data))"
   ]
  },
  {
   "cell_type": "code",
   "execution_count": 68,
   "id": "a3dc07de-e23d-4188-a38c-a6b823a0d435",
   "metadata": {},
   "outputs": [],
   "source": [
    "train_exprs = list(set([(x['expr'], x['res']) for x in train_set if len(x['expr']) <= 20]))\n",
    "test_exprs = list(set([(x['expr'], x['res']) for x in test_set]))"
   ]
  },
  {
   "cell_type": "code",
   "execution_count": 69,
   "id": "ffc0e239-3ad5-4c42-8cdb-81f1cf9129cb",
   "metadata": {},
   "outputs": [
    {
     "name": "stderr",
     "output_type": "stream",
     "text": [
      "100%|██████████| 60/60 [00:00<00:00, 3729.38it/s]\n",
      "100%|██████████| 24/24 [00:00<00:00, 2334.17it/s]\n"
     ]
    }
   ],
   "source": [
    "dataset = {'train': [], 'test': []}\n",
    "for split in ['train', 'test']:\n",
    "    samples = train_set if split == 'train' else test_set\n",
    "    for i, sample in enumerate(tqdm(samples)):\n",
    "        res = sample['res']\n",
    "        expr_img = render_img(sample['img_paths'])\n",
    "        # print(sample['expr'], res)\n",
    "        # display(expr_img)\n",
    "        # input()\n",
    "        file_name = f'{split}_{i:08d}.jpg'\n",
    "        expr_img.save('../docs/fewshot/images/' + file_name)\n",
    "        dataset[split].append(['fewshot/images/' + file_name, res])\n",
    "json.dump(dataset, open('../docs/fewshot/data.json', 'w'))"
   ]
  },
  {
   "cell_type": "code",
   "execution_count": 71,
   "id": "f7eec7a3",
   "metadata": {},
   "outputs": [
    {
     "name": "stdout",
     "output_type": "stream",
     "text": [
      "[13, 3, 132, 136, 20, 17, 192, 756, 28, 32, 512, 144, 0, 55, 6, 3, 0, 29, 257, 140, 0, 40, 10, 2]\n"
     ]
    }
   ],
   "source": [
    "print([x[1] for x in dataset['test']])"
   ]
  },
  {
   "cell_type": "code",
   "execution_count": null,
   "id": "d8067ffc",
   "metadata": {},
   "outputs": [],
   "source": []
  }
 ],
 "metadata": {
  "kernelspec": {
   "display_name": "hint",
   "language": "python",
   "name": "hint"
  },
  "language_info": {
   "codemirror_mode": {
    "name": "ipython",
    "version": 3
   },
   "file_extension": ".py",
   "mimetype": "text/x-python",
   "name": "python",
   "nbconvert_exporter": "python",
   "pygments_lexer": "ipython3",
   "version": "3.8.10"
  }
 },
 "nbformat": 4,
 "nbformat_minor": 5
}
