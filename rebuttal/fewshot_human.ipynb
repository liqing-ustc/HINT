{
 "cells": [
  {
   "cell_type": "code",
   "execution_count": 1,
   "id": "f9391205-542a-4e19-872f-3fe0db205337",
   "metadata": {},
   "outputs": [],
   "source": [
    "import json\n",
    "import random\n",
    "import os\n",
    "from PIL import Image, ImageOps\n",
    "from itertools import product\n",
    "from tqdm import tqdm\n",
    "import math\n",
    "import matplotlib.pyplot as plt\n",
    "import numpy as np\n",
    "from collections import Counter"
   ]
  },
  {
   "cell_type": "code",
   "execution_count": 25,
   "id": "947c99e6-1d22-4eb7-b08b-909a89ee2a73",
   "metadata": {},
   "outputs": [],
   "source": [
    "symbol_images_dir = '../data/symbol_images/'\n",
    "\n",
    "def render_img(img_paths):\n",
    "    images = [Image.open(symbol_images_dir + x) for x in img_paths]\n",
    "    widths, heights = zip(*(i.size for i in images))\n",
    "\n",
    "    total_width = sum(widths)\n",
    "    max_height = max(heights)\n",
    "\n",
    "    new_im = Image.new('L', (total_width, max_height))\n",
    "\n",
    "    x_offset = 0\n",
    "    for im in images:\n",
    "        new_im.paste(im, (x_offset,0))\n",
    "        x_offset += im.size[0]\n",
    "    return new_im"
   ]
  },
  {
   "cell_type": "code",
   "execution_count": 3,
   "id": "aa64cbf6-1293-4cf5-9989-377ab9db315f",
   "metadata": {},
   "outputs": [],
   "source": [
    "dataset = json.load(open('../data/fewshot_dataset.json'))"
   ]
  },
  {
   "cell_type": "code",
   "execution_count": 24,
   "id": "493074db",
   "metadata": {},
   "outputs": [
    {
     "name": "stdout",
     "output_type": "stream",
     "text": [
      "x 10 10\n",
      "y 10 10\n",
      "a 10 10\n",
      "b 10 10\n",
      "c 10 10\n",
      "d 10 10\n"
     ]
    }
   ],
   "source": [
    "train_set = []\n",
    "test_set = []\n",
    "\n",
    "max_expr_len = 5\n",
    "n_per_eval = 2\n",
    "eval_splits = ['I', 'SS', 'LS', 'SL', 'LL']\n",
    "\n",
    "for fs, data in dataset.items():\n",
    "\ttrain_data = [x for x in data['train'] if len(x['expr']) <= max_expr_len]\n",
    "\teval2data = {x: [] for x in eval_splits}\n",
    "\tfor x in data['test']:\n",
    "\t\teval2data[x['eval']].append(x)\n",
    "\ttest_data = []\n",
    "\t\n",
    "\tdata = random.sample([x for x in eval2data['SS'] if len(x['expr']) <= max_expr_len], n_per_eval)\n",
    "\ttest_data.extend(data)\n",
    "\tdata = random.sample([x for x in eval2data['SS'] if len(x['expr']) > max_expr_len and len(x['expr']) <= max_expr_len + 4], n_per_eval)\n",
    "\n",
    "\tfor e, d in eval2data.items():\n",
    "\t\ttest_data.extend(random.sample(d, k=n_per_eval))\n",
    "\ttrain_data = random.sample(train_data, k=10)\n",
    "\ttrain_set.extend(train_data)\n",
    "\ttest_set.extend(test_data)\n",
    "\tprint(fs, len(train_data), len(test_data))"
   ]
  },
  {
   "cell_type": "code",
   "execution_count": 106,
   "id": "a3dc07de-e23d-4188-a38c-a6b823a0d435",
   "metadata": {},
   "outputs": [],
   "source": [
    "train_exprs = list(set([(x['expr'], x['res']) for x in train_set if len(x['expr']) <= 20]))\n",
    "test_exprs = list(set([(x['expr'], x['res']) for x in test_set]))"
   ]
  },
  {
   "cell_type": "code",
   "execution_count": 31,
   "id": "ffc0e239-3ad5-4c42-8cdb-81f1cf9129cb",
   "metadata": {},
   "outputs": [
    {
     "name": "stderr",
     "output_type": "stream",
     "text": [
      "100%|██████████| 60/60 [00:00<00:00, 2685.21it/s]\n",
      "100%|██████████| 60/60 [00:00<00:00, 703.69it/s]\n"
     ]
    }
   ],
   "source": [
    "dataset = {'train': [], 'test': []}\n",
    "for split in ['train', 'test']:\n",
    "    samples = train_set if split == 'train' else test_set\n",
    "    for i, sample in enumerate(tqdm(samples)):\n",
    "        res = sample['res']\n",
    "        expr_img = render_img(sample['img_paths'])\n",
    "        # print(sample['expr'], res)\n",
    "        # display(expr_img)\n",
    "        # input()\n",
    "        file_name = f'{split}_{i:08d}.jpg'\n",
    "        expr_img.save('../docs/fewshot/images/' + file_name)\n",
    "        dataset[split].append(['fewshot/images/' + file_name, res if split == 'train' else '?'])\n",
    "json.dump(dataset, open('../docs/fewshot/data.json', 'w'))"
   ]
  },
  {
   "cell_type": "code",
   "execution_count": 125,
   "id": "cca67326-1ad1-4b95-b7a6-6a5ddd4f40f6",
   "metadata": {},
   "outputs": [
    {
     "data": {
      "image/png": "[encoded data removed]",
      "text/plain": [
       "<PIL.Image.Image image mode=L size=573x48>"
      ]
     },
     "metadata": {},
     "output_type": "display_data"
    },
    {
     "name": "stdout",
     "output_type": "stream",
     "text": [
      "0     1     2     3     4     5     6     7     8     9     +     -     *     /     (     )\n"
     ]
    }
   ],
   "source": [
    "display(render_img([str(symbols.index(x) + 1) for x in symbols]))\n",
    "print('     '.join(symbols))\n"
   ]
  },
  {
   "cell_type": "code",
   "execution_count": 127,
   "id": "a7adab0b-9714-4cfc-a0e1-055f510485a0",
   "metadata": {},
   "outputs": [
    {
     "data": {
      "text/plain": [
       "'7529/2*/+'"
      ]
     },
     "execution_count": 127,
     "metadata": {},
     "output_type": "execute_result"
    }
   ],
   "source": [
    "infixToPostfix(infix)"
   ]
  }
 ],
 "metadata": {
  "kernelspec": {
   "display_name": "hint",
   "language": "python",
   "name": "hint"
  },
  "language_info": {
   "codemirror_mode": {
    "name": "ipython",
    "version": 3
   },
   "file_extension": ".py",
   "mimetype": "text/x-python",
   "name": "python",
   "nbconvert_exporter": "python",
   "pygments_lexer": "ipython3",
   "version": "3.8.10"
  }
 },
 "nbformat": 4,
 "nbformat_minor": 5
}
