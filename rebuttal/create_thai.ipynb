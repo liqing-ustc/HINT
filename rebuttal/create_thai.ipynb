{
 "cells": [
  {
   "cell_type": "code",
   "execution_count": 1,
   "id": "f9391205-542a-4e19-872f-3fe0db205337",
   "metadata": {},
   "outputs": [],
   "source": [
    "import json\n",
    "import random\n",
    "import os\n",
    "from PIL import Image\n",
    "from itertools import product\n",
    "from tqdm import tqdm\n",
    "import math\n",
    "import matplotlib.pyplot as plt\n",
    "import numpy as np\n",
    "from collections import Counter"
   ]
  },
  {
   "cell_type": "code",
   "execution_count": 4,
   "id": "947c99e6-1d22-4eb7-b08b-909a89ee2a73",
   "metadata": {},
   "outputs": [],
   "source": [
    "images_dir = 'Thai/'\n",
    "\n",
    "def render_img(img_paths):\n",
    "    images = [Image.open(images_dir + x + '.jpg').resize((64,64)) for x in img_paths]\n",
    "    widths, heights = zip(*(i.size for i in images))\n",
    "\n",
    "    total_width = sum(widths)\n",
    "    max_height = max(heights)\n",
    "\n",
    "    new_im = Image.new('L', (total_width, max_height))\n",
    "\n",
    "    x_offset = 0\n",
    "    for im in images:\n",
    "        new_im.paste(im, (x_offset,0))\n",
    "        x_offset += im.size[0]\n",
    "    return new_im"
   ]
  },
  {
   "cell_type": "code",
   "execution_count": 6,
   "id": "aae0ea5f-c471-44db-bb56-86b7de7e7d74",
   "metadata": {},
   "outputs": [
    {
     "data": {
      "image/png": "[encoded data removed]",
      "text/plain": [
       "<PIL.Image.Image image mode=L size=576x64>"
      ]
     },
     "execution_count": 6,
     "metadata": {},
     "output_type": "execute_result"
    }
   ],
   "source": [
    "render_img(img_paths)"
   ]
  },
  {
   "cell_type": "code",
   "execution_count": 7,
   "id": "aa64cbf6-1293-4cf5-9989-377ab9db315f",
   "metadata": {},
   "outputs": [],
   "source": [
    "train_set = json.load(open('../data/expr_train.json'))\n",
    "test_set = json.load(open('../data/expr_train.json'))"
   ]
  },
  {
   "cell_type": "code",
   "execution_count": 13,
   "id": "a3dc07de-e23d-4188-a38c-a6b823a0d435",
   "metadata": {},
   "outputs": [],
   "source": [
    "train_exprs = list(set([(x['expr'], x['res']) for x in train_set]))\n",
    "test_exprs = list(set([(x['expr'], x['res']) for x in test_set]))"
   ]
  },
  {
   "cell_type": "code",
   "execution_count": 11,
   "id": "c0bfce03-5946-48f8-918c-3f60bd46597f",
   "metadata": {},
   "outputs": [
    {
     "name": "stdin",
     "output_type": "stream",
     "text": [
      "Enter infix expression  1+2*3\n"
     ]
    },
    {
     "name": "stdout",
     "output_type": "stream",
     "text": [
      "infix notation:  1+2*3\n",
      "postfix notation:  123*+\n"
     ]
    }
   ],
   "source": [
    "Operators = set(['+', '-', '*', '/', '(', ')', '^'])  # collection of Operators\n",
    "Priority = {'+':1, '-':1, '*':2, '/':2, '^':3} # dictionary having priorities of Operators\n",
    "def infixToPostfix(expression): \n",
    "    stack = [] # initialization of empty stack\n",
    "    output = '' \n",
    "    for character in expression:\n",
    "\n",
    "        if character not in Operators:  # if an operand append in postfix expression\n",
    "\n",
    "            output+= character\n",
    "\n",
    "        elif character=='(':  # else Operators push onto stack\n",
    "\n",
    "            stack.append('(')\n",
    "\n",
    "        elif character==')':\n",
    "\n",
    "            while stack and stack[-1]!= '(':\n",
    "\n",
    "                output+=stack.pop()\n",
    "\n",
    "            stack.pop()\n",
    "\n",
    "        else: \n",
    "\n",
    "            while stack and stack[-1]!='(' and Priority[character]<=Priority[stack[-1]]:\n",
    "\n",
    "                output+=stack.pop()\n",
    "\n",
    "            stack.append(character)\n",
    "\n",
    "    while stack:\n",
    "\n",
    "        output+=stack.pop()\n",
    "\n",
    "    return output\n",
    "\n",
    "expression = input('Enter infix expression ')\n",
    "print('infix notation: ',expression)\n",
    "print('postfix notation: ',infixToPostfix(expression))"
   ]
  },
  {
   "cell_type": "code",
   "execution_count": 18,
   "id": "7d6d1cd6-2f37-43f8-8575-8993e3dd5212",
   "metadata": {},
   "outputs": [],
   "source": [
    "train_samples = random.sample(train_exprs, 1000)\n",
    "test_samples = random.sample(test_exprs, 100)"
   ]
  },
  {
   "cell_type": "code",
   "execution_count": 19,
   "id": "8cc8c5cb-af35-4de8-9630-65c1fa48be2b",
   "metadata": {},
   "outputs": [],
   "source": [
    "def numberToBase(n, b):\n",
    "    if n == 0:\n",
    "        return [0]\n",
    "    digits = []\n",
    "    while n:\n",
    "        digits.append(int(n % b))\n",
    "        n //= b\n",
    "    return digits[::-1]"
   ]
  },
  {
   "cell_type": "code",
   "execution_count": 26,
   "id": "1ef2be9c-db9c-4d81-b57e-4ff334622df0",
   "metadata": {},
   "outputs": [],
   "source": [
    "num_list = list(map(str, range(0, 10)))\n",
    "op_list = ['+', '-', '*', '/']\n",
    "lps = '('\n",
    "rps = ')'\n",
    "symbols = num_list + op_list + [lps, rps]"
   ]
  },
  {
   "cell_type": "code",
   "execution_count": 41,
   "id": "ffc0e239-3ad5-4c42-8cdb-81f1cf9129cb",
   "metadata": {},
   "outputs": [
    {
     "name": "stderr",
     "output_type": "stream",
     "text": [
      "100%|██████████████████████████████████████| 1000/1000 [00:02<00:00, 489.90it/s]\n",
      "100%|████████████████████████████████████████| 100/100 [00:00<00:00, 494.35it/s]\n"
     ]
    }
   ],
   "source": [
    "base = 9\n",
    "dataset = {'train': [], 'test': []}\n",
    "for split in ['train', 'test']:\n",
    "    samples = train_samples if split == 'train' else test_samples\n",
    "    for i, sample in enumerate(tqdm(samples)):\n",
    "        infix, res = sample\n",
    "        postfix = infixToPostfix(infix)\n",
    "        postfix = [str(symbols.index(x) + 1) for x in postfix]\n",
    "        res = ''.join(map(str, numberToBase(res, base)))\n",
    "        expr_img = render_img(postfix)\n",
    "        file_name = f'{split}_{i:08d}.jpg'\n",
    "        expr_img.save('../docs/rebuttal/images/' + file_name)\n",
    "        dataset[split].append(['rebuttal/images/' + file_name, res if split == 'train' else '?'])\n",
    "json.dump(dataset, open('../docs/rebuttal/data.json', 'w'))"
   ]
  },
  {
   "cell_type": "code",
   "execution_count": null,
   "id": "cca67326-1ad1-4b95-b7a6-6a5ddd4f40f6",
   "metadata": {},
   "outputs": [],
   "source": []
  }
 ],
 "metadata": {
  "kernelspec": {
   "display_name": "hint",
   "language": "python",
   "name": "hint"
  },
  "language_info": {
   "codemirror_mode": {
    "name": "ipython",
    "version": 3
   },
   "file_extension": ".py",
   "mimetype": "text/x-python",
   "name": "python",
   "nbconvert_exporter": "python",
   "pygments_lexer": "ipython3",
   "version": "3.8.10"
  }
 },
 "nbformat": 4,
 "nbformat_minor": 5
}
