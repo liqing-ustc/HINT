{
 "cells": [
  {
   "cell_type": "code",
   "execution_count": 216,
   "id": "combined-pioneer",
   "metadata": {},
   "outputs": [],
   "source": [
    "import sys\n",
    "import os\n",
    "root_dir = '/home/qing/Desktop/Closed-Loop-Learning/HINT/'\n",
    "os.chdir(root_dir)\n",
    "from train import *\n",
    "from data.domain import OPERATORS\n",
    "import pandas as pd \n",
    "from collections import OrderedDict\n",
    "import numpy as np\n",
    "import matplotlib as mpl\n",
    "import matplotlib.pyplot as plt\n",
    "%matplotlib inline"
   ]
  },
  {
   "cell_type": "code",
   "execution_count": 2,
   "id": "reasonable-office",
   "metadata": {},
   "outputs": [
    {
     "data": {
      "text/plain": [
       "Namespace(batch_size=128, cos_sim_margin=0.2, curriculum='no', dec_layers=1, dropout=0.5, early_stop=None, emb_dim=128, enc_layers=6, epochs=10, epochs_eval=1, fewshot=None, grad_clip=5.0, hid_dim=512, input='symbol', iterations=None, iterations_eval=None, layers=1, lr=0.001, lr_scheduler='constant', main_dataset_ratio=0, max_op_train=None, max_rel_pos=15, model='TRAN.relative_universal', nhead=8, output_dir='outputs/', perception_pretrain='data/perception_pretrain/model.pth.tar_78.2_match', pos_emb_type='sin', result_encoding='decimal', resume='./models/symbol.TRAN.relative_universal/model_100000.p', save_model=False, seed=0, train_size=None, wandb='HINT', warmup_steps=100)"
      ]
     },
     "execution_count": 2,
     "metadata": {},
     "output_type": "execute_result"
    }
   ],
   "source": [
    "sys.argv = []\n",
    "args = parse_args()\n",
    "args.input = 'symbol'\n",
    "args.model = 'TRAN.relative_universal'\n",
    "args.resume = f'./models/{args.input}.{args.model}/model_100000.p'\n",
    "args.nhead = 8\n",
    "args.enc_layers = 6\n",
    "args.dec_layers = 1\n",
    "args.hid_dim = 512\n",
    "args.max_rel_pos = 15\n",
    "args"
   ]
  },
  {
   "cell_type": "code",
   "execution_count": 3,
   "id": "infectious-farming",
   "metadata": {},
   "outputs": [
    {
     "name": "stdout",
     "output_type": "stream",
     "text": [
      "train: 998000 val: 4698 test: 46620\n"
     ]
    }
   ],
   "source": [
    "train_set = HINT('train', input=args.input, fewshot=args.fewshot, \n",
    "                    n_sample=args.train_size, max_op=args.max_op_train,\n",
    "                    main_dataset_ratio=args.main_dataset_ratio)\n",
    "val_set = HINT('val', input=args.input, fewshot=args.fewshot)\n",
    "test_set = HINT('test', input=args.input, fewshot=args.fewshot)\n",
    "print('train:', len(train_set), 'val:', len(val_set), 'test:', len(test_set))\n",
    "\n",
    "args.train_set = train_set\n",
    "args.val_set = val_set\n",
    "args.test_set = test_set"
   ]
  },
  {
   "cell_type": "code",
   "execution_count": 4,
   "id": "alpha-familiar",
   "metadata": {},
   "outputs": [
    {
     "name": "stdout",
     "output_type": "stream",
     "text": [
      "Load checkpoint from ./models/symbol.TRAN.relative_universal/model_100000.p\n",
      "Num params: 8019469\n"
     ]
    }
   ],
   "source": [
    "args.res_enc = ResultEncoding(args.result_encoding)\n",
    "model = make_model(args)\n",
    "if args.resume:\n",
    "    print('Load checkpoint from ' + args.resume)\n",
    "    ckpt = torch.load(args.resume)\n",
    "    model.load_state_dict(ckpt['model_state_dict'])\n",
    "model.to(DEVICE)\n",
    "\n",
    "n_params = sum(p.numel() for p in model.parameters())\n",
    "print('Num params:', n_params)"
   ]
  },
  {
   "cell_type": "code",
   "execution_count": 5,
   "id": "divided-representative",
   "metadata": {},
   "outputs": [
    {
     "name": "stderr",
     "output_type": "stream",
     "text": [
      "100%|█████████████████████████████████████████| 729/729 [00:21<00:00, 34.71it/s]\n"
     ]
    }
   ],
   "source": [
    "dataset = args.test_set\n",
    "dataloader = torch.utils.data.DataLoader(dataset, batch_size=64,\n",
    "                                            shuffle=False, num_workers=4, collate_fn=HINT_collate)\n",
    "\n",
    "model.eval() \n",
    "res_all = []\n",
    "res_pred_all = []\n",
    "\n",
    "expr_all = []\n",
    "expr_pred_all = []\n",
    "\n",
    "dep_all = []\n",
    "dep_pred_all = []\n",
    "\n",
    "metrics = OrderedDict()\n",
    "\n",
    "with torch.no_grad():\n",
    "    for sample in tqdm(dataloader):\n",
    "        if args.input == 'image':\n",
    "            src = sample['img_seq']\n",
    "        elif args.input == 'symbol':\n",
    "            src = torch.tensor([x for s in sample['sentence'] for x in s])\n",
    "        res = sample['res']\n",
    "        if args.result_encoding == 'sin':\n",
    "            tgt = res.unsqueeze(1)\n",
    "        else:\n",
    "            tgt = torch.tensor(args.res_enc.res2seq_batch(res.numpy()))\n",
    "        expr = sample['expr']\n",
    "        dep = sample['head']\n",
    "        src_len = sample['len']\n",
    "\n",
    "        src = src.to(DEVICE)\n",
    "        tgt = tgt.to(DEVICE)\n",
    "\n",
    "        output = model(src, tgt[:, :-1], src_len)\n",
    "        pred = torch.argmax(output, -1).detach().cpu().numpy()\n",
    "        if args.result_encoding == 'sin':\n",
    "            res_pred = pred\n",
    "        else:\n",
    "            res_pred = args.res_enc.seq2res_batch(pred)\n",
    "        res_pred_all.append(res_pred)\n",
    "        res_all.append(res)\n",
    "\n",
    "        # expr_pred_all.extend(expr_preds)\n",
    "        expr_all.extend(expr)\n",
    "        # dep_pred_all.extend(dep_preds)\n",
    "        dep_all.extend(dep)\n",
    "\n",
    "res_pred_all = np.concatenate(res_pred_all, axis=0)\n",
    "res_all = np.concatenate(res_all, axis=0)\n",
    "result_acc = (res_pred_all == res_all).mean()\n",
    "metrics['result_acc/avg'] = result_acc\n",
    "\n",
    "tracked_attrs = ['length', 'symbol', 'digit', 'result', 'eval', 'tree_depth', 'ps_depth', 'max_dep']\n",
    "for attr in tracked_attrs:\n",
    "    # print(f\"result accuracy by {attr}:\")\n",
    "    attr2ids = getattr(dataloader.dataset, f'{attr}2ids')\n",
    "    for k, ids in sorted(attr2ids.items()):\n",
    "        res = res_all[ids]\n",
    "        res_pred = res_pred_all[ids]\n",
    "        res_acc = (res == res_pred).mean() if ids else 0.\n",
    "        k = 'div' if k == '/' else k\n",
    "        metrics[f'result_acc/{attr}/{k}'] = res_acc\n",
    "        # print(k, \"(%2d%%)\"%(100*len(ids)//len(dataloader.dataset)), \"%5.2f\"%(100 * res_acc))"
   ]
  },
  {
   "cell_type": "code",
   "execution_count": 53,
   "id": "quality-swift",
   "metadata": {},
   "outputs": [],
   "source": [
    "def compute_max_dep(heads):\n",
    "    return max([0] + [abs(i-h) for i, h in enumerate(heads) if h != -1])\n",
    "\n",
    "from functools import lru_cache\n",
    "def compute_tree_depth(head):\n",
    "    @lru_cache\n",
    "    def depth(i):\n",
    "        \"\"\"The depth of node i.\"\"\"\n",
    "        if head[i] == -1:\n",
    "            return 1\n",
    "        return depth(head[i]) + 1\n",
    "\n",
    "    return max(depth(i) for i in range(len(head)))\n",
    "\n",
    "lps = '('\n",
    "rps = ')'\n",
    "def compute_ps_depth(expr):\n",
    "    depth = 0\n",
    "    max_depth = 0\n",
    "    for x in expr:\n",
    "        if x == lps:\n",
    "            c = 1\n",
    "        elif x == rps:\n",
    "            c = -1\n",
    "        else:\n",
    "            c = 0\n",
    "        depth += c\n",
    "        if depth > max_depth:\n",
    "            max_depth = depth\n",
    "    return max_depth\n",
    "\n",
    "def compute_n_op(expr):\n",
    "    return len([1 for x in expr if x in OPERATORS])\n",
    "\n",
    "tracked_attrs = ['eval', 'length', 'tree_depth', 'ps_depth', 'max_dep', 'n_op', 'result']\n",
    "attr2data = {}\n",
    "for attr in tracked_attrs:\n",
    "    data = []\n",
    "    for sample in dataset:\n",
    "        if attr == 'length':\n",
    "            d = len(sample['expr'])\n",
    "        elif attr == 'result':\n",
    "            d = sample['res']\n",
    "        elif attr == 'tree_depth':\n",
    "            d = compute_tree_depth(sample['head'])\n",
    "        elif attr == 'max_dep':\n",
    "            d = compute_max_dep(sample['head'])\n",
    "        elif attr == 'ps_depth':\n",
    "            d = compute_ps_depth(sample['expr'])\n",
    "        elif attr == 'n_op':\n",
    "            d = compute_n_op(sample['expr'])\n",
    "        elif attr == 'eval':\n",
    "            d = sample['eval']\n",
    "        else:\n",
    "            assert False\n",
    "        data.append(d)\n",
    "    attr2data[attr] = data\n",
    "attr2data['pred'] = res_pred_all == res_all"
   ]
  },
  {
   "cell_type": "code",
   "execution_count": 54,
   "id": "homeless-powder",
   "metadata": {},
   "outputs": [
    {
     "data": {
      "text/html": [
       "<div>\n",
       "<style scoped>\n",
       "    .dataframe tbody tr th:only-of-type {\n",
       "        vertical-align: middle;\n",
       "    }\n",
       "\n",
       "    .dataframe tbody tr th {\n",
       "        vertical-align: top;\n",
       "    }\n",
       "\n",
       "    .dataframe thead th {\n",
       "        text-align: right;\n",
       "    }\n",
       "</style>\n",
       "<table border=\"1\" class=\"dataframe\">\n",
       "  <thead>\n",
       "    <tr style=\"text-align: right;\">\n",
       "      <th></th>\n",
       "      <th>eval</th>\n",
       "      <th>length</th>\n",
       "      <th>result</th>\n",
       "      <th>tree_depth</th>\n",
       "      <th>ps_depth</th>\n",
       "      <th>max_dep</th>\n",
       "      <th>n_op</th>\n",
       "      <th>pred</th>\n",
       "    </tr>\n",
       "  </thead>\n",
       "  <tbody>\n",
       "    <tr>\n",
       "      <th>0</th>\n",
       "      <td>I</td>\n",
       "      <td>1</td>\n",
       "      <td>7</td>\n",
       "      <td>1</td>\n",
       "      <td>0</td>\n",
       "      <td>0</td>\n",
       "      <td>0</td>\n",
       "      <td>True</td>\n",
       "    </tr>\n",
       "    <tr>\n",
       "      <th>1</th>\n",
       "      <td>I</td>\n",
       "      <td>1</td>\n",
       "      <td>1</td>\n",
       "      <td>1</td>\n",
       "      <td>0</td>\n",
       "      <td>0</td>\n",
       "      <td>0</td>\n",
       "      <td>True</td>\n",
       "    </tr>\n",
       "    <tr>\n",
       "      <th>2</th>\n",
       "      <td>I</td>\n",
       "      <td>1</td>\n",
       "      <td>0</td>\n",
       "      <td>1</td>\n",
       "      <td>0</td>\n",
       "      <td>0</td>\n",
       "      <td>0</td>\n",
       "      <td>True</td>\n",
       "    </tr>\n",
       "    <tr>\n",
       "      <th>3</th>\n",
       "      <td>I</td>\n",
       "      <td>1</td>\n",
       "      <td>6</td>\n",
       "      <td>1</td>\n",
       "      <td>0</td>\n",
       "      <td>0</td>\n",
       "      <td>0</td>\n",
       "      <td>True</td>\n",
       "    </tr>\n",
       "    <tr>\n",
       "      <th>4</th>\n",
       "      <td>I</td>\n",
       "      <td>1</td>\n",
       "      <td>4</td>\n",
       "      <td>1</td>\n",
       "      <td>0</td>\n",
       "      <td>0</td>\n",
       "      <td>0</td>\n",
       "      <td>True</td>\n",
       "    </tr>\n",
       "    <tr>\n",
       "      <th>...</th>\n",
       "      <td>...</td>\n",
       "      <td>...</td>\n",
       "      <td>...</td>\n",
       "      <td>...</td>\n",
       "      <td>...</td>\n",
       "      <td>...</td>\n",
       "      <td>...</td>\n",
       "      <td>...</td>\n",
       "    </tr>\n",
       "    <tr>\n",
       "      <th>46615</th>\n",
       "      <td>LL</td>\n",
       "      <td>67</td>\n",
       "      <td>3</td>\n",
       "      <td>10</td>\n",
       "      <td>6</td>\n",
       "      <td>44</td>\n",
       "      <td>20</td>\n",
       "      <td>False</td>\n",
       "    </tr>\n",
       "    <tr>\n",
       "      <th>46616</th>\n",
       "      <td>LL</td>\n",
       "      <td>61</td>\n",
       "      <td>1638</td>\n",
       "      <td>8</td>\n",
       "      <td>4</td>\n",
       "      <td>30</td>\n",
       "      <td>20</td>\n",
       "      <td>False</td>\n",
       "    </tr>\n",
       "    <tr>\n",
       "      <th>46617</th>\n",
       "      <td>LL</td>\n",
       "      <td>61</td>\n",
       "      <td>1</td>\n",
       "      <td>9</td>\n",
       "      <td>4</td>\n",
       "      <td>47</td>\n",
       "      <td>20</td>\n",
       "      <td>True</td>\n",
       "    </tr>\n",
       "    <tr>\n",
       "      <th>46618</th>\n",
       "      <td>LL</td>\n",
       "      <td>55</td>\n",
       "      <td>5</td>\n",
       "      <td>9</td>\n",
       "      <td>2</td>\n",
       "      <td>28</td>\n",
       "      <td>20</td>\n",
       "      <td>False</td>\n",
       "    </tr>\n",
       "    <tr>\n",
       "      <th>46619</th>\n",
       "      <td>LL</td>\n",
       "      <td>61</td>\n",
       "      <td>7</td>\n",
       "      <td>7</td>\n",
       "      <td>3</td>\n",
       "      <td>18</td>\n",
       "      <td>20</td>\n",
       "      <td>True</td>\n",
       "    </tr>\n",
       "  </tbody>\n",
       "</table>\n",
       "<p>46620 rows × 8 columns</p>\n",
       "</div>"
      ],
      "text/plain": [
       "      eval  length  result  tree_depth  ps_depth  max_dep  n_op   pred\n",
       "0        I       1       7           1         0        0     0   True\n",
       "1        I       1       1           1         0        0     0   True\n",
       "2        I       1       0           1         0        0     0   True\n",
       "3        I       1       6           1         0        0     0   True\n",
       "4        I       1       4           1         0        0     0   True\n",
       "...    ...     ...     ...         ...       ...      ...   ...    ...\n",
       "46615   LL      67       3          10         6       44    20  False\n",
       "46616   LL      61    1638           8         4       30    20  False\n",
       "46617   LL      61       1           9         4       47    20   True\n",
       "46618   LL      55       5           9         2       28    20  False\n",
       "46619   LL      61       7           7         3       18    20   True\n",
       "\n",
       "[46620 rows x 8 columns]"
      ]
     },
     "execution_count": 54,
     "metadata": {},
     "output_type": "execute_result"
    }
   ],
   "source": [
    "df = pd.DataFrame(attr2data)\n",
    "df"
   ]
  },
  {
   "cell_type": "code",
   "execution_count": 120,
   "id": "genetic-reunion",
   "metadata": {},
   "outputs": [
    {
     "ename": "KeyError",
     "evalue": "(35, 15, 10)",
     "output_type": "error",
     "traceback": [
      "\u001b[0;31m---------------------------------------------------------------------------\u001b[0m",
      "\u001b[0;31mKeyError\u001b[0m                                  Traceback (most recent call last)",
      "Input \u001b[0;32mIn [120]\u001b[0m, in \u001b[0;36m<cell line: 2>\u001b[0;34m()\u001b[0m\n\u001b[1;32m      1\u001b[0m df_filter \u001b[38;5;241m=\u001b[39m df[df[\u001b[38;5;124m'\u001b[39m\u001b[38;5;124meval\u001b[39m\u001b[38;5;124m'\u001b[39m] \u001b[38;5;241m!=\u001b[39m \u001b[38;5;124m'\u001b[39m\u001b[38;5;124mI\u001b[39m\u001b[38;5;124m'\u001b[39m]\n\u001b[0;32m----> 2\u001b[0m \u001b[43mdf_filter\u001b[49m\u001b[38;5;241;43m.\u001b[39;49m\u001b[43mgroupby\u001b[49m\u001b[43m(\u001b[49m\u001b[43m[\u001b[49m\u001b[38;5;124;43m'\u001b[39;49m\u001b[38;5;124;43mlength\u001b[39;49m\u001b[38;5;124;43m'\u001b[39;49m\u001b[43m,\u001b[49m\u001b[43m \u001b[49m\u001b[38;5;124;43m'\u001b[39;49m\u001b[38;5;124;43mn_op\u001b[39;49m\u001b[38;5;124;43m'\u001b[39;49m\u001b[43m,\u001b[49m\u001b[43m \u001b[49m\u001b[38;5;124;43m'\u001b[39;49m\u001b[38;5;124;43mresult\u001b[39;49m\u001b[38;5;124;43m'\u001b[39;49m\u001b[43m]\u001b[49m\u001b[43m)\u001b[49m\u001b[38;5;241;43m.\u001b[39;49m\u001b[43mget_group\u001b[49m\u001b[43m(\u001b[49m\u001b[43m(\u001b[49m\u001b[38;5;241;43m35\u001b[39;49m\u001b[43m,\u001b[49m\u001b[43m \u001b[49m\u001b[38;5;241;43m15\u001b[39;49m\u001b[43m,\u001b[49m\u001b[43m \u001b[49m\u001b[38;5;241;43m10\u001b[39;49m\u001b[43m)\u001b[49m\u001b[43m)\u001b[49m\u001b[38;5;241m.\u001b[39mgroupby([\u001b[38;5;124m'\u001b[39m\u001b[38;5;124mmax_dep\u001b[39m\u001b[38;5;124m'\u001b[39m, \u001b[38;5;124m'\u001b[39m\u001b[38;5;124mtree_depth\u001b[39m\u001b[38;5;124m'\u001b[39m])[\u001b[38;5;124m'\u001b[39m\u001b[38;5;124mpred\u001b[39m\u001b[38;5;124m'\u001b[39m]\u001b[38;5;241m.\u001b[39mmean()\n",
      "File \u001b[0;32m~/.virtualenvs/hint/lib/python3.8/site-packages/pandas/core/groupby/groupby.py:747\u001b[0m, in \u001b[0;36mBaseGroupBy.get_group\u001b[0;34m(self, name, obj)\u001b[0m\n\u001b[1;32m    745\u001b[0m inds \u001b[38;5;241m=\u001b[39m \u001b[38;5;28mself\u001b[39m\u001b[38;5;241m.\u001b[39m_get_index(name)\n\u001b[1;32m    746\u001b[0m \u001b[38;5;28;01mif\u001b[39;00m \u001b[38;5;129;01mnot\u001b[39;00m \u001b[38;5;28mlen\u001b[39m(inds):\n\u001b[0;32m--> 747\u001b[0m     \u001b[38;5;28;01mraise\u001b[39;00m \u001b[38;5;167;01mKeyError\u001b[39;00m(name)\n\u001b[1;32m    749\u001b[0m \u001b[38;5;28;01mreturn\u001b[39;00m obj\u001b[38;5;241m.\u001b[39m_take_with_is_copy(inds, axis\u001b[38;5;241m=\u001b[39m\u001b[38;5;28mself\u001b[39m\u001b[38;5;241m.\u001b[39maxis)\n",
      "\u001b[0;31mKeyError\u001b[0m: (35, 15, 10)"
     ]
    }
   ],
   "source": [
    "df_filter = df[df['eval'] != 'I']\n",
    "df_filter.groupby(['length', 'n_op', 'result']).get_group((35, 15, 10)).groupby(['max_dep', 'tree_depth'])['pred'].mean()"
   ]
  },
  {
   "cell_type": "code",
   "execution_count": 254,
   "id": "optical-sweden",
   "metadata": {},
   "outputs": [
    {
     "data": {
      "image/png": "[encoded data removed]",
      "text/plain": [
       "<Figure size 1440x360 with 5 Axes>"
      ]
     },
     "metadata": {
      "needs_background": "light"
     },
     "output_type": "display_data"
    }
   ],
   "source": [
    "df_filter = df\n",
    "fontsize = 20\n",
    "columns = [x for x in tracked_attrs if x not in ['ps_depth', 'eval']]\n",
    "name_mapping = {'tree_depth': 'depth', 'max_dep': 'dependency', 'n_op': 'operators'}\n",
    "fig, axs = plt.subplots(1, 5, figsize=(20, 5), sharey=True)\n",
    "for i, attr in enumerate(columns):\n",
    "    gb = df_filter.groupby(attr)\n",
    "    means, stds = gb.mean()['pred'], gb.std()['pred']\n",
    "    groups = means.index.get_level_values(0)\n",
    "    x = np.array(groups)\n",
    "    y = np.array(means)\n",
    "    axs[i].plot(x, y)\n",
    "    if attr == 'result':\n",
    "        axs[i].set_xscale('log')\n",
    "    axs[i].set_xlabel(name_mapping.get(attr, attr), fontsize=fontsize)\n",
    "axs[0].set_ylabel('Accuracy', fontsize=fontsize)\n",
    "plt.savefig('results/figures/acc_property.pdf', dpi=300, bbox_inches='tight')\n",
    "plt.show()"
   ]
  },
  {
   "cell_type": "code",
   "execution_count": 237,
   "id": "democratic-sitting",
   "metadata": {},
   "outputs": [],
   "source": [
    "def bar_plot(ax, data, colors=None, total_width=0.8, single_width=1):\n",
    "    \"\"\"Draws a bar plot with multiple bars per data point.\n",
    "\n",
    "    Parameters\n",
    "    ----------\n",
    "    ax : matplotlib.pyplot.axis\n",
    "        The axis we want to draw our plot on.\n",
    "\n",
    "    data: dictionary\n",
    "        A dictionary containing the data we want to plot. Keys are the names of the\n",
    "        data, the items is a list of the values.\n",
    "\n",
    "        Example:\n",
    "        data = {\n",
    "            \"x\":[1,2,3],\n",
    "            \"y\":[1,2,3],\n",
    "            \"z\":[1,2,3],\n",
    "        }\n",
    "\n",
    "    colors : array-like, optional\n",
    "        A list of colors which are used for the bars. If None, the colors\n",
    "        will be the standard matplotlib color cyle. (default: None)\n",
    "\n",
    "    total_width : float, optional, default: 0.8\n",
    "        The width of a bar group. 0.8 means that 80% of the x-axis is covered\n",
    "        by bars and 20% will be spaces between the bars.\n",
    "\n",
    "    single_width: float, optional, default: 1\n",
    "        The relative width of a single bar within a group. 1 means the bars\n",
    "        will touch eachother within a group, values less than 1 will make\n",
    "        these bars thinner.\n",
    "\n",
    "    \"\"\"\n",
    "\n",
    "    # Check if colors where provided, otherwhise use the default color cycle\n",
    "    if colors is None:\n",
    "        colors = plt.rcParams['axes.prop_cycle'].by_key()['color']\n",
    "\n",
    "    # Number of bars per group\n",
    "    n_bars = len(data)\n",
    "\n",
    "    # The width of a single bar\n",
    "    bar_width = total_width / n_bars\n",
    "\n",
    "    # List containing handles for the drawn bars, used for the legend\n",
    "    bars = []\n",
    "\n",
    "    # Iterate over all data\n",
    "    for i, (name, values) in enumerate(data.items()):\n",
    "        if isinstance(values, tuple):\n",
    "            values, stds = values\n",
    "        else:\n",
    "            stds = None\n",
    "        \n",
    "        # The offset in x direction of that bar\n",
    "        offset = (i - n_bars / 2) * bar_width + bar_width / 2\n",
    "        x = np.arange(len(values)) + offset \n",
    "\n",
    "        if stds is not None:\n",
    "            ax.bar(x, values, yerr=stds, width=bar_width * single_width, color=colors[i % len(colors)], label=name)\n",
    "        else:\n",
    "            ax.bar(x, values, width=bar_width * single_width, color=colors[i % len(colors)], label=name)"
   ]
  },
  {
   "cell_type": "code",
   "execution_count": 238,
   "id": "narrow-contest",
   "metadata": {
    "collapsed": true,
    "jupyter": {
     "outputs_hidden": true
    }
   },
   "outputs": [
    {
     "name": "stderr",
     "output_type": "stream",
     "text": [
      "/tmp/ipykernel_164657/548300733.py:16: SettingWithCopyWarning: \n",
      "A value is trying to be set on a copy of a slice from a DataFrame.\n",
      "Try using .loc[row_indexer,col_indexer] = value instead\n",
      "\n",
      "See the caveats in the documentation: https://pandas.pydata.org/pandas-docs/stable/user_guide/indexing.html#returning-a-view-versus-a-copy\n",
      "  X['result'] = np.log(X['result']+1e-6)\n"
     ]
    },
    {
     "name": "stdout",
     "output_type": "stream",
     "text": [
      "Fit accuracy:  0.9817635270541082\n",
      "Feature: length, Score: 0.35647 +/- 0.05240\n",
      "Feature: tree_depth, Score: 0.15197 +/- 0.03677\n",
      "Feature: max_dep, Score: 0.19137 +/- 0.04050\n",
      "Feature: n_op, Score: 0.10319 +/- 0.03408\n",
      "Feature: result, Score: 0.19700 +/- 0.02298\n",
      "Fit accuracy:  0.972875\n"
     ]
    },
    {
     "name": "stderr",
     "output_type": "stream",
     "text": [
      "/tmp/ipykernel_164657/548300733.py:16: SettingWithCopyWarning: \n",
      "A value is trying to be set on a copy of a slice from a DataFrame.\n",
      "Try using .loc[row_indexer,col_indexer] = value instead\n",
      "\n",
      "See the caveats in the documentation: https://pandas.pydata.org/pandas-docs/stable/user_guide/indexing.html#returning-a-view-versus-a-copy\n",
      "  X['result'] = np.log(X['result']+1e-6)\n"
     ]
    },
    {
     "name": "stdout",
     "output_type": "stream",
     "text": [
      "Feature: length, Score: 0.15719 +/- 0.02448\n",
      "Feature: tree_depth, Score: 0.14389 +/- 0.01965\n",
      "Feature: max_dep, Score: 0.22249 +/- 0.04531\n",
      "Feature: n_op, Score: 0.23337 +/- 0.02877\n",
      "Feature: result, Score: 0.24305 +/- 0.02897\n"
     ]
    },
    {
     "name": "stderr",
     "output_type": "stream",
     "text": [
      "/tmp/ipykernel_164657/548300733.py:16: SettingWithCopyWarning: \n",
      "A value is trying to be set on a copy of a slice from a DataFrame.\n",
      "Try using .loc[row_indexer,col_indexer] = value instead\n",
      "\n",
      "See the caveats in the documentation: https://pandas.pydata.org/pandas-docs/stable/user_guide/indexing.html#returning-a-view-versus-a-copy\n",
      "  X['result'] = np.log(X['result']+1e-6)\n"
     ]
    },
    {
     "name": "stdout",
     "output_type": "stream",
     "text": [
      "Fit accuracy:  0.8506\n",
      "Feature: length, Score: 0.18724 +/- 0.00518\n",
      "Feature: tree_depth, Score: 0.20293 +/- 0.00524\n",
      "Feature: max_dep, Score: 0.20685 +/- 0.00351\n",
      "Feature: n_op, Score: 0.19307 +/- 0.00462\n",
      "Feature: result, Score: 0.20991 +/- 0.00956\n",
      "Fit accuracy:  0.9834490740740741\n"
     ]
    },
    {
     "name": "stderr",
     "output_type": "stream",
     "text": [
      "/tmp/ipykernel_164657/548300733.py:16: SettingWithCopyWarning: \n",
      "A value is trying to be set on a copy of a slice from a DataFrame.\n",
      "Try using .loc[row_indexer,col_indexer] = value instead\n",
      "\n",
      "See the caveats in the documentation: https://pandas.pydata.org/pandas-docs/stable/user_guide/indexing.html#returning-a-view-versus-a-copy\n",
      "  X['result'] = np.log(X['result']+1e-6)\n"
     ]
    },
    {
     "name": "stdout",
     "output_type": "stream",
     "text": [
      "Feature: length, Score: 0.05023 +/- 0.00236\n",
      "Feature: tree_depth, Score: 0.07054 +/- 0.00333\n",
      "Feature: max_dep, Score: 0.09276 +/- 0.00383\n",
      "Feature: n_op, Score: 0.04683 +/- 0.00293\n",
      "Feature: result, Score: 0.73964 +/- 0.00946\n"
     ]
    },
    {
     "name": "stderr",
     "output_type": "stream",
     "text": [
      "/tmp/ipykernel_164657/548300733.py:16: SettingWithCopyWarning: \n",
      "A value is trying to be set on a copy of a slice from a DataFrame.\n",
      "Try using .loc[row_indexer,col_indexer] = value instead\n",
      "\n",
      "See the caveats in the documentation: https://pandas.pydata.org/pandas-docs/stable/user_guide/indexing.html#returning-a-view-versus-a-copy\n",
      "  X['result'] = np.log(X['result']+1e-6)\n"
     ]
    },
    {
     "name": "stdout",
     "output_type": "stream",
     "text": [
      "Fit accuracy:  0.9259\n",
      "Feature: length, Score: 0.10543 +/- 0.00608\n",
      "Feature: tree_depth, Score: 0.09469 +/- 0.00434\n",
      "Feature: max_dep, Score: 0.09781 +/- 0.00295\n",
      "Feature: n_op, Score: 0.09875 +/- 0.00362\n",
      "Feature: result, Score: 0.60331 +/- 0.00425\n"
     ]
    },
    {
     "data": {
      "image/png": "[encoded data removed]",
      "text/plain": [
       "<Figure size 1800x360 with 1 Axes>"
      ]
     },
     "metadata": {
      "needs_background": "light"
     },
     "output_type": "display_data"
    }
   ],
   "source": [
    "# permutation feature importance with knn for classification\n",
    "from sklearn.neighbors import KNeighborsClassifier\n",
    "from sklearn.inspection import permutation_importance\n",
    "\n",
    "evaluations = ['I', 'SS', 'LS', 'SL', 'LL']\n",
    "\n",
    "\n",
    "# define dataset\n",
    "columns = [x for x in tracked_attrs if x not in ['ps_depth', 'eval']]\n",
    "\n",
    "data_bars = OrderedDict()\n",
    "for i, e in enumerate(evaluations):\n",
    "    df_filter = df[df['eval'] == e]\n",
    "    X = df_filter[columns]\n",
    "    X['result'] = np.log(X['result']+1e-6)\n",
    "    X = (X - X.mean()) / X.std()\n",
    "    y = df_filter['pred']\n",
    "    # define the model\n",
    "    model = KNeighborsClassifier(n_neighbors=3)\n",
    "    # fit the model\n",
    "    model.fit(X, y)\n",
    "    print('Fit accuracy: ', model.score(X, y))\n",
    "    # perform permutation importance\n",
    "    results = permutation_importance(model, X, y, scoring='accuracy')\n",
    "    # get importance\n",
    "    importance = results.importances_mean\n",
    "    importance_std = results.importances_std\n",
    "    importance_std /= importance.sum()\n",
    "    importance /= importance.sum()\n",
    "    # summarize feature importance\n",
    "    for attr,v,d in zip(columns, importance, importance_std):\n",
    "        print('Feature: %s, Score: %.5f +/- %.5f' % (attr,v, d))\n",
    "    # plot feature importance\n",
    "    data_bars[e] = (importance, importance_std)"
   ]
  },
  {
   "cell_type": "code",
   "execution_count": 251,
   "id": "monetary-tuner",
   "metadata": {},
   "outputs": [
    {
     "data": {
      "image/png": "[encoded data removed]",
      "text/plain": [
       "<Figure size 1080x360 with 1 Axes>"
      ]
     },
     "metadata": {
      "needs_background": "light"
     },
     "output_type": "display_data"
    }
   ],
   "source": [
    "fig, ax = plt.subplots(figsize=(15, 5))\n",
    "fontsize = 25\n",
    "bar_plot(ax, data_bars)\n",
    "# ax.spines['right'].set_visible(False)\n",
    "# ax.spines['top'].set_visible(False)\n",
    "pos = np.arange(len(columns))\n",
    "plt.yticks([])\n",
    "plt.xticks(pos, [name_mapping.get(x,x) for x in columns], fontsize=fontsize)\n",
    "# plt.xlabel('Symbol')\n",
    "plt.ylabel('Importance', fontsize=fontsize)\n",
    "\n",
    "# ax.yaxis.set_major_formatter(FormatStrFormatter('%.3f'))\n",
    "plt.legend(ncol=len(columns), fontsize=fontsize)\n",
    "\n",
    "plt.savefig('results/figures/importance.pdf', dpi=300, bbox_inches='tight')\n",
    "plt.show()"
   ]
  },
  {
   "cell_type": "code",
   "execution_count": 7,
   "id": "worth-transportation",
   "metadata": {},
   "outputs": [],
   "source": [
    "error_ids = [i for i, (x, y) in enumerate(zip(res_all, res_pred_all)) if x != y ]"
   ]
  },
  {
   "cell_type": "code",
   "execution_count": 21,
   "id": "characteristic-facility",
   "metadata": {},
   "outputs": [],
   "source": [
    "symbol_images_dir = root_dir + 'data/symbol_images/'\n",
    "def render_img(img_paths):\n",
    "    images = [Image.open(symbol_images_dir + x) for x in img_paths]\n",
    "    widths, heights = zip(*(i.size for i in images))\n",
    "\n",
    "    total_width = sum(widths)\n",
    "    max_height = max(heights)\n",
    "\n",
    "    new_im = Image.new('L', (total_width, max_height))\n",
    "\n",
    "    x_offset = 0\n",
    "    for im in images:\n",
    "        new_im.paste(im, (x_offset,0))\n",
    "        x_offset += im.size[0]\n",
    "    return new_im\n",
    "\n",
    "def show_sample(sample, show_image=True):\n",
    "    print(sample['expr'], len(sample['expr']))\n",
    "    if show_image:\n",
    "        img = render_img(sample['img_paths'])\n",
    "        display(img)"
   ]
  },
  {
   "cell_type": "code",
   "execution_count": 25,
   "id": "hidden-enough",
   "metadata": {},
   "outputs": [
    {
     "name": "stdout",
     "output_type": "stream",
     "text": [
      "8*(8*9) 7 576\n",
      "576 64\n"
     ]
    },
    {
     "name": "stdin",
     "output_type": "stream",
     "text": [
      " \n"
     ]
    },
    {
     "name": "stdout",
     "output_type": "stream",
     "text": [
      "6*(9+9) 7 108\n",
      "108 98\n"
     ]
    },
    {
     "name": "stdin",
     "output_type": "stream",
     "text": [
      " \n"
     ]
    },
    {
     "name": "stdout",
     "output_type": "stream",
     "text": [
      "6*(9+8) 7 102\n",
      "102 92\n"
     ]
    },
    {
     "name": "stdin",
     "output_type": "stream",
     "text": [
      " \n"
     ]
    },
    {
     "name": "stdout",
     "output_type": "stream",
     "text": [
      "9*(2*7) 7 126\n",
      "126 36\n"
     ]
    },
    {
     "name": "stdin",
     "output_type": "stream",
     "text": [
      " \n"
     ]
    },
    {
     "name": "stdout",
     "output_type": "stream",
     "text": [
      "8*8*2 5 128\n",
      "128 64\n"
     ]
    },
    {
     "name": "stdin",
     "output_type": "stream",
     "text": [
      " \n"
     ]
    },
    {
     "name": "stdout",
     "output_type": "stream",
     "text": [
      "(9+5)*8 7 112\n",
      "112 96\n"
     ]
    },
    {
     "name": "stdin",
     "output_type": "stream",
     "text": [
      " \n"
     ]
    },
    {
     "name": "stdout",
     "output_type": "stream",
     "text": [
      "8*7*6 5 336\n",
      "336 56\n"
     ]
    },
    {
     "name": "stdin",
     "output_type": "stream",
     "text": [
      " \n"
     ]
    },
    {
     "name": "stdout",
     "output_type": "stream",
     "text": [
      "9*4*9 5 324\n",
      "324 36\n"
     ]
    },
    {
     "name": "stdin",
     "output_type": "stream",
     "text": [
      " \n"
     ]
    },
    {
     "name": "stdout",
     "output_type": "stream",
     "text": [
      "9*(5*6) 7 270\n",
      "270 90\n"
     ]
    },
    {
     "name": "stdin",
     "output_type": "stream",
     "text": [
      " \n"
     ]
    },
    {
     "name": "stdout",
     "output_type": "stream",
     "text": [
      "8*3*6 5 144\n",
      "144 84\n"
     ]
    },
    {
     "name": "stdin",
     "output_type": "stream",
     "text": [
      " \n"
     ]
    },
    {
     "name": "stdout",
     "output_type": "stream",
     "text": [
      "8*(6+8) 7 112\n",
      "112 96\n"
     ]
    },
    {
     "name": "stdin",
     "output_type": "stream",
     "text": [
      " \n"
     ]
    },
    {
     "name": "stdout",
     "output_type": "stream",
     "text": [
      "7*5*7 5 245\n",
      "245 35\n"
     ]
    },
    {
     "name": "stdin",
     "output_type": "stream",
     "text": [
      " \n"
     ]
    },
    {
     "name": "stdout",
     "output_type": "stream",
     "text": [
      "7*5*8 5 280\n",
      "280 70\n"
     ]
    },
    {
     "name": "stdin",
     "output_type": "stream",
     "text": [
      " \n"
     ]
    },
    {
     "name": "stdout",
     "output_type": "stream",
     "text": [
      "(8+9)*9 7 153\n",
      "153 63\n"
     ]
    },
    {
     "name": "stdin",
     "output_type": "stream",
     "text": [
      " \n"
     ]
    },
    {
     "name": "stdout",
     "output_type": "stream",
     "text": [
      "7*(3*5) 7 105\n",
      "105 95\n"
     ]
    },
    {
     "name": "stdin",
     "output_type": "stream",
     "text": [
      " \n"
     ]
    },
    {
     "name": "stdout",
     "output_type": "stream",
     "text": [
      "2*6*9 5 108\n",
      "108 78\n"
     ]
    },
    {
     "name": "stdin",
     "output_type": "stream",
     "text": [
      " \n"
     ]
    },
    {
     "name": "stdout",
     "output_type": "stream",
     "text": [
      "9*4*6 5 216\n",
      "216 96\n"
     ]
    },
    {
     "name": "stdin",
     "output_type": "stream",
     "text": [
      " \n"
     ]
    },
    {
     "name": "stdout",
     "output_type": "stream",
     "text": [
      "5*8*9 5 360\n",
      "360 90\n"
     ]
    },
    {
     "name": "stdin",
     "output_type": "stream",
     "text": [
      " \n"
     ]
    },
    {
     "name": "stdout",
     "output_type": "stream",
     "text": [
      "7*2*8 5 112\n",
      "112 96\n"
     ]
    },
    {
     "name": "stdin",
     "output_type": "stream",
     "text": [
      " \n"
     ]
    },
    {
     "name": "stdout",
     "output_type": "stream",
     "text": [
      "9*8*8 5 576\n",
      "576 64\n"
     ]
    },
    {
     "name": "stdin",
     "output_type": "stream",
     "text": [
      " \n"
     ]
    },
    {
     "name": "stdout",
     "output_type": "stream",
     "text": [
      "6*(6*8) 7 288\n",
      "288 48\n"
     ]
    },
    {
     "name": "stdin",
     "output_type": "stream",
     "text": [
      " \n"
     ]
    },
    {
     "name": "stdout",
     "output_type": "stream",
     "text": [
      "6*(5*5) 7 150\n",
      "150 90\n"
     ]
    },
    {
     "name": "stdin",
     "output_type": "stream",
     "text": [
      " \n"
     ]
    },
    {
     "name": "stdout",
     "output_type": "stream",
     "text": [
      "6*7*8 5 336\n",
      "336 96\n"
     ]
    },
    {
     "name": "stdin",
     "output_type": "stream",
     "text": [
      " \n"
     ]
    },
    {
     "name": "stdout",
     "output_type": "stream",
     "text": [
      "5*7*9 5 315\n",
      "315 95\n"
     ]
    },
    {
     "name": "stdin",
     "output_type": "stream",
     "text": [
      " \n"
     ]
    },
    {
     "name": "stdout",
     "output_type": "stream",
     "text": [
      "(6+9)*8 7 120\n",
      "120 90\n"
     ]
    },
    {
     "name": "stdin",
     "output_type": "stream",
     "text": [
      " \n"
     ]
    },
    {
     "name": "stdout",
     "output_type": "stream",
     "text": [
      "6*4*8 5 192\n",
      "192 96\n"
     ]
    },
    {
     "name": "stdin",
     "output_type": "stream",
     "text": [
      " \n"
     ]
    },
    {
     "name": "stdout",
     "output_type": "stream",
     "text": [
      "(8+9)*8 7 136\n",
      "136 96\n"
     ]
    },
    {
     "name": "stdin",
     "output_type": "stream",
     "text": [
      " \n"
     ]
    },
    {
     "name": "stdout",
     "output_type": "stream",
     "text": [
      "(6+9)*7 7 105\n",
      "105 95\n"
     ]
    },
    {
     "name": "stdin",
     "output_type": "stream",
     "text": [
      " \n"
     ]
    },
    {
     "name": "stdout",
     "output_type": "stream",
     "text": [
      "9*(5*3) 7 135\n",
      "135 15\n"
     ]
    },
    {
     "name": "stdin",
     "output_type": "stream",
     "text": [
      " \n"
     ]
    },
    {
     "name": "stdout",
     "output_type": "stream",
     "text": [
      "9*(9+9) 7 162\n",
      "162 72\n"
     ]
    },
    {
     "name": "stdin",
     "output_type": "stream",
     "text": [
      " \n"
     ]
    },
    {
     "name": "stdout",
     "output_type": "stream",
     "text": [
      "(6+7)*8 7 104\n",
      "104 94\n"
     ]
    },
    {
     "name": "stdin",
     "output_type": "stream",
     "text": [
      " \n"
     ]
    },
    {
     "name": "stdout",
     "output_type": "stream",
     "text": [
      "6*9*6 5 324\n",
      "324 54\n"
     ]
    },
    {
     "name": "stdin",
     "output_type": "stream",
     "text": [
      " \n"
     ]
    },
    {
     "name": "stdout",
     "output_type": "stream",
     "text": [
      "5*9*8 5 360\n",
      "360 80\n"
     ]
    },
    {
     "name": "stdin",
     "output_type": "stream",
     "text": [
      " \n"
     ]
    },
    {
     "name": "stdout",
     "output_type": "stream",
     "text": [
      "8*7*7 5 392\n",
      "392 56\n"
     ]
    },
    {
     "name": "stdin",
     "output_type": "stream",
     "text": [
      " \n"
     ]
    },
    {
     "name": "stdout",
     "output_type": "stream",
     "text": [
      "7*(6*8) 7 336\n",
      "336 56\n"
     ]
    },
    {
     "name": "stdin",
     "output_type": "stream",
     "text": [
      " \n"
     ]
    },
    {
     "name": "stdout",
     "output_type": "stream",
     "text": [
      "4*(9*4) 7 144\n",
      "144 36\n"
     ]
    },
    {
     "name": "stdin",
     "output_type": "stream",
     "text": [
      " \n"
     ]
    },
    {
     "name": "stdout",
     "output_type": "stream",
     "text": [
      "8*(7+8) 7 120\n",
      "120 90\n"
     ]
    },
    {
     "name": "stdin",
     "output_type": "stream",
     "text": [
      " \n"
     ]
    },
    {
     "name": "stdout",
     "output_type": "stream",
     "text": [
      "4*(4*7) 7 112\n",
      "112 96\n"
     ]
    },
    {
     "name": "stdin",
     "output_type": "stream",
     "text": [
      " \n"
     ]
    },
    {
     "name": "stdout",
     "output_type": "stream",
     "text": [
      "4*4*7 5 112\n",
      "112 96\n"
     ]
    },
    {
     "name": "stdin",
     "output_type": "stream",
     "text": [
      " \n"
     ]
    },
    {
     "name": "stdout",
     "output_type": "stream",
     "text": [
      "7*9*7 5 441\n",
      "441 63\n"
     ]
    },
    {
     "name": "stdin",
     "output_type": "stream",
     "text": [
      " \n"
     ]
    },
    {
     "name": "stdout",
     "output_type": "stream",
     "text": [
      "6*(6*7) 7 252\n",
      "252 42\n"
     ]
    },
    {
     "name": "stdin",
     "output_type": "stream",
     "text": [
      " \n"
     ]
    },
    {
     "name": "stdout",
     "output_type": "stream",
     "text": [
      "9*(4*4) 7 144\n",
      "144 54\n"
     ]
    },
    {
     "name": "stdin",
     "output_type": "stream",
     "text": [
      " \n"
     ]
    },
    {
     "name": "stdout",
     "output_type": "stream",
     "text": [
      "7*4*5 5 140\n",
      "140 100\n"
     ]
    },
    {
     "name": "stdin",
     "output_type": "stream",
     "text": [
      " \n"
     ]
    },
    {
     "name": "stdout",
     "output_type": "stream",
     "text": [
      "9*7*8 5 504\n",
      "504 64\n"
     ]
    },
    {
     "name": "stdin",
     "output_type": "stream",
     "text": [
      " \n"
     ]
    },
    {
     "name": "stdout",
     "output_type": "stream",
     "text": [
      "9*(6*9) 7 486\n",
      "486 54\n"
     ]
    },
    {
     "name": "stdin",
     "output_type": "stream",
     "text": [
      " \n"
     ]
    },
    {
     "name": "stdout",
     "output_type": "stream",
     "text": [
      "3*9*9 5 243\n",
      "243 81\n"
     ]
    },
    {
     "name": "stdin",
     "output_type": "stream",
     "text": [
      " \n"
     ]
    },
    {
     "name": "stdout",
     "output_type": "stream",
     "text": [
      "7*(7*9) 7 441\n",
      "441 63\n"
     ]
    },
    {
     "name": "stdin",
     "output_type": "stream",
     "text": [
      " \n"
     ]
    },
    {
     "name": "stdout",
     "output_type": "stream",
     "text": [
      "9*4*7 5 252\n",
      "252 72\n"
     ]
    },
    {
     "name": "stdin",
     "output_type": "stream",
     "text": [
      " \n"
     ]
    },
    {
     "name": "stdout",
     "output_type": "stream",
     "text": [
      "6*(9*6) 7 324\n",
      "324 54\n"
     ]
    },
    {
     "name": "stdin",
     "output_type": "stream",
     "text": [
      " \n"
     ]
    },
    {
     "name": "stdout",
     "output_type": "stream",
     "text": [
      "6*(9*3) 7 162\n",
      "162 72\n"
     ]
    },
    {
     "name": "stdin",
     "output_type": "stream",
     "text": [
      " \n"
     ]
    },
    {
     "name": "stdout",
     "output_type": "stream",
     "text": [
      "8*(7*7) 7 392\n",
      "392 96\n"
     ]
    },
    {
     "name": "stdin",
     "output_type": "stream",
     "text": [
      " \n"
     ]
    },
    {
     "name": "stdout",
     "output_type": "stream",
     "text": [
      "8*(9*5) 7 360\n",
      "360 90\n"
     ]
    },
    {
     "name": "stdin",
     "output_type": "stream",
     "text": [
      " \n"
     ]
    },
    {
     "name": "stdout",
     "output_type": "stream",
     "text": [
      "(9+9)*9 7 162\n",
      "162 72\n"
     ]
    },
    {
     "name": "stdin",
     "output_type": "stream",
     "text": [
      " \n"
     ]
    },
    {
     "name": "stdout",
     "output_type": "stream",
     "text": [
      "9*(7*5) 7 315\n",
      "315 35\n"
     ]
    },
    {
     "name": "stdin",
     "output_type": "stream",
     "text": [
      " \n"
     ]
    },
    {
     "name": "stdout",
     "output_type": "stream",
     "text": [
      "7*5*3 5 105\n",
      "105 95\n"
     ]
    },
    {
     "name": "stdin",
     "output_type": "stream",
     "text": [
      " \n"
     ]
    },
    {
     "name": "stdout",
     "output_type": "stream",
     "text": [
      "4*5*6 5 120\n",
      "120 90\n"
     ]
    },
    {
     "name": "stdin",
     "output_type": "stream",
     "text": [
      " \n"
     ]
    },
    {
     "name": "stdout",
     "output_type": "stream",
     "text": [
      "8*(8+9) 7 136\n",
      "136 56\n"
     ]
    },
    {
     "name": "stdin",
     "output_type": "stream",
     "text": [
      " \n"
     ]
    },
    {
     "name": "stdout",
     "output_type": "stream",
     "text": [
      "4*9*6 5 216\n",
      "216 96\n"
     ]
    },
    {
     "name": "stdin",
     "output_type": "stream",
     "text": [
      " \n"
     ]
    },
    {
     "name": "stdout",
     "output_type": "stream",
     "text": [
      "3*8*9 5 216\n",
      "216 36\n"
     ]
    },
    {
     "name": "stdin",
     "output_type": "stream",
     "text": [
      " \n"
     ]
    },
    {
     "name": "stdout",
     "output_type": "stream",
     "text": [
      "6*4*7 5 168\n",
      "168 98\n"
     ]
    },
    {
     "name": "stdin",
     "output_type": "stream",
     "text": [
      " \n"
     ]
    },
    {
     "name": "stdout",
     "output_type": "stream",
     "text": [
      "8*(6+9) 7 120\n",
      "120 90\n"
     ]
    },
    {
     "name": "stdin",
     "output_type": "stream",
     "text": [
      " \n"
     ]
    },
    {
     "name": "stdout",
     "output_type": "stream",
     "text": [
      "9*(4*6) 7 216\n",
      "216 36\n"
     ]
    },
    {
     "name": "stdin",
     "output_type": "stream",
     "text": [
      " \n"
     ]
    },
    {
     "name": "stdout",
     "output_type": "stream",
     "text": [
      "9*(6*8) 7 432\n",
      "432 72\n"
     ]
    },
    {
     "name": "stdin",
     "output_type": "stream",
     "text": [
      " \n"
     ]
    },
    {
     "name": "stdout",
     "output_type": "stream",
     "text": [
      "3*9*8 5 216\n",
      "216 64\n"
     ]
    },
    {
     "name": "stdin",
     "output_type": "stream",
     "text": [
      " \n"
     ]
    },
    {
     "name": "stdout",
     "output_type": "stream",
     "text": [
      "6*(7*8) 7 336\n",
      "336 96\n"
     ]
    },
    {
     "name": "stdin",
     "output_type": "stream",
     "text": [
      " \n"
     ]
    },
    {
     "name": "stdout",
     "output_type": "stream",
     "text": [
      "6*(5*7) 7 210\n",
      "210 90\n"
     ]
    },
    {
     "name": "stdin",
     "output_type": "stream",
     "text": [
      " \n"
     ]
    },
    {
     "name": "stdout",
     "output_type": "stream",
     "text": [
      "8*(7*4) 7 224\n",
      "224 56\n"
     ]
    },
    {
     "name": "stdin",
     "output_type": "stream",
     "text": [
      " \n"
     ]
    },
    {
     "name": "stdout",
     "output_type": "stream",
     "text": [
      "8*8*7 5 448\n",
      "448 56\n"
     ]
    },
    {
     "name": "stdin",
     "output_type": "stream",
     "text": [
      " \n"
     ]
    },
    {
     "name": "stdout",
     "output_type": "stream",
     "text": [
      "8*(9+8) 7 136\n",
      "136 56\n"
     ]
    },
    {
     "name": "stdin",
     "output_type": "stream",
     "text": [
      " \n"
     ]
    },
    {
     "name": "stdout",
     "output_type": "stream",
     "text": [
      "8*(8+5) 7 104\n",
      "104 94\n"
     ]
    },
    {
     "name": "stdin",
     "output_type": "stream",
     "text": [
      " \n"
     ]
    },
    {
     "name": "stdout",
     "output_type": "stream",
     "text": [
      "4*8*8 5 256\n",
      "256 96\n"
     ]
    },
    {
     "name": "stdin",
     "output_type": "stream",
     "text": [
      " \n"
     ]
    },
    {
     "name": "stdout",
     "output_type": "stream",
     "text": [
      "(8+4)*9 7 108\n",
      "108 72\n"
     ]
    },
    {
     "name": "stdin",
     "output_type": "stream",
     "text": [
      " \n"
     ]
    },
    {
     "name": "stdout",
     "output_type": "stream",
     "text": [
      "9*(7*4) 7 252\n",
      "252 72\n"
     ]
    },
    {
     "name": "stdin",
     "output_type": "stream",
     "text": [
      " \n"
     ]
    },
    {
     "name": "stdout",
     "output_type": "stream",
     "text": [
      "9*(6*5) 7 270\n",
      "270 90\n"
     ]
    },
    {
     "ename": "KeyboardInterrupt",
     "evalue": "Interrupted by user",
     "output_type": "error",
     "traceback": [
      "\u001b[0;31m---------------------------------------------------------------------------\u001b[0m",
      "\u001b[0;31mKeyboardInterrupt\u001b[0m                         Traceback (most recent call last)",
      "Input \u001b[0;32mIn [25]\u001b[0m, in \u001b[0;36m<cell line: 1>\u001b[0;34m()\u001b[0m\n\u001b[1;32m      5\u001b[0m \u001b[38;5;28mprint\u001b[39m(sample[\u001b[38;5;124m'\u001b[39m\u001b[38;5;124mexpr\u001b[39m\u001b[38;5;124m'\u001b[39m], \u001b[38;5;28mlen\u001b[39m(sample[\u001b[38;5;124m'\u001b[39m\u001b[38;5;124mexpr\u001b[39m\u001b[38;5;124m'\u001b[39m]), \u001b[38;5;28mmax\u001b[39m(sample[\u001b[38;5;124m'\u001b[39m\u001b[38;5;124mres_all\u001b[39m\u001b[38;5;124m'\u001b[39m]))\n\u001b[1;32m      6\u001b[0m \u001b[38;5;28mprint\u001b[39m(res_all[i], res_pred_all[i])\n\u001b[0;32m----> 7\u001b[0m \u001b[38;5;28;43minput\u001b[39;49m\u001b[43m(\u001b[49m\u001b[43m)\u001b[49m\n",
      "File \u001b[0;32m~/.virtualenvs/hint/lib/python3.8/site-packages/ipykernel/kernelbase.py:1161\u001b[0m, in \u001b[0;36mKernel.raw_input\u001b[0;34m(self, prompt)\u001b[0m\n\u001b[1;32m   1157\u001b[0m \u001b[38;5;28;01mif\u001b[39;00m \u001b[38;5;129;01mnot\u001b[39;00m \u001b[38;5;28mself\u001b[39m\u001b[38;5;241m.\u001b[39m_allow_stdin:\n\u001b[1;32m   1158\u001b[0m     \u001b[38;5;28;01mraise\u001b[39;00m StdinNotImplementedError(\n\u001b[1;32m   1159\u001b[0m         \u001b[38;5;124m\"\u001b[39m\u001b[38;5;124mraw_input was called, but this frontend does not support input requests.\u001b[39m\u001b[38;5;124m\"\u001b[39m\n\u001b[1;32m   1160\u001b[0m     )\n\u001b[0;32m-> 1161\u001b[0m \u001b[38;5;28;01mreturn\u001b[39;00m \u001b[38;5;28;43mself\u001b[39;49m\u001b[38;5;241;43m.\u001b[39;49m\u001b[43m_input_request\u001b[49m\u001b[43m(\u001b[49m\n\u001b[1;32m   1162\u001b[0m \u001b[43m    \u001b[49m\u001b[38;5;28;43mstr\u001b[39;49m\u001b[43m(\u001b[49m\u001b[43mprompt\u001b[49m\u001b[43m)\u001b[49m\u001b[43m,\u001b[49m\n\u001b[1;32m   1163\u001b[0m \u001b[43m    \u001b[49m\u001b[38;5;28;43mself\u001b[39;49m\u001b[38;5;241;43m.\u001b[39;49m\u001b[43m_parent_ident\u001b[49m\u001b[43m[\u001b[49m\u001b[38;5;124;43m\"\u001b[39;49m\u001b[38;5;124;43mshell\u001b[39;49m\u001b[38;5;124;43m\"\u001b[39;49m\u001b[43m]\u001b[49m\u001b[43m,\u001b[49m\n\u001b[1;32m   1164\u001b[0m \u001b[43m    \u001b[49m\u001b[38;5;28;43mself\u001b[39;49m\u001b[38;5;241;43m.\u001b[39;49m\u001b[43mget_parent\u001b[49m\u001b[43m(\u001b[49m\u001b[38;5;124;43m\"\u001b[39;49m\u001b[38;5;124;43mshell\u001b[39;49m\u001b[38;5;124;43m\"\u001b[39;49m\u001b[43m)\u001b[49m\u001b[43m,\u001b[49m\n\u001b[1;32m   1165\u001b[0m \u001b[43m    \u001b[49m\u001b[43mpassword\u001b[49m\u001b[38;5;241;43m=\u001b[39;49m\u001b[38;5;28;43;01mFalse\u001b[39;49;00m\u001b[43m,\u001b[49m\n\u001b[1;32m   1166\u001b[0m \u001b[43m\u001b[49m\u001b[43m)\u001b[49m\n",
      "File \u001b[0;32m~/.virtualenvs/hint/lib/python3.8/site-packages/ipykernel/kernelbase.py:1205\u001b[0m, in \u001b[0;36mKernel._input_request\u001b[0;34m(self, prompt, ident, parent, password)\u001b[0m\n\u001b[1;32m   1202\u001b[0m             \u001b[38;5;28;01mbreak\u001b[39;00m\n\u001b[1;32m   1203\u001b[0m \u001b[38;5;28;01mexcept\u001b[39;00m \u001b[38;5;167;01mKeyboardInterrupt\u001b[39;00m:\n\u001b[1;32m   1204\u001b[0m     \u001b[38;5;66;03m# re-raise KeyboardInterrupt, to truncate traceback\u001b[39;00m\n\u001b[0;32m-> 1205\u001b[0m     \u001b[38;5;28;01mraise\u001b[39;00m \u001b[38;5;167;01mKeyboardInterrupt\u001b[39;00m(\u001b[38;5;124m\"\u001b[39m\u001b[38;5;124mInterrupted by user\u001b[39m\u001b[38;5;124m\"\u001b[39m) \u001b[38;5;28;01mfrom\u001b[39;00m \u001b[38;5;28mNone\u001b[39m\n\u001b[1;32m   1206\u001b[0m \u001b[38;5;28;01mexcept\u001b[39;00m \u001b[38;5;167;01mException\u001b[39;00m:\n\u001b[1;32m   1207\u001b[0m     \u001b[38;5;28mself\u001b[39m\u001b[38;5;241m.\u001b[39mlog\u001b[38;5;241m.\u001b[39mwarning(\u001b[38;5;124m\"\u001b[39m\u001b[38;5;124mInvalid Message:\u001b[39m\u001b[38;5;124m\"\u001b[39m, exc_info\u001b[38;5;241m=\u001b[39m\u001b[38;5;28;01mTrue\u001b[39;00m)\n",
      "\u001b[0;31mKeyboardInterrupt\u001b[0m: Interrupted by user"
     ]
    }
   ],
   "source": [
    "for i in range(len(dataset)):\n",
    "    sample = dataset.dataset[i]\n",
    "#     if sample['eval'] not in ['LL']: continue\n",
    "    if sample['res'] < 100: continue\n",
    "    print(sample['expr'], len(sample['expr']), max(sample['res_all']))\n",
    "    print(res_all[i], res_pred_all[i])\n",
    "    input()"
   ]
  },
  {
   "cell_type": "code",
   "execution_count": null,
   "id": "consistent-estimate",
   "metadata": {},
   "outputs": [],
   "source": []
  },
  {
   "cell_type": "code",
   "execution_count": null,
   "id": "fallen-philadelphia",
   "metadata": {},
   "outputs": [],
   "source": []
  }
 ],
 "metadata": {
  "kernelspec": {
   "display_name": "hint",
   "language": "python",
   "name": "hint"
  },
  "language_info": {
   "codemirror_mode": {
    "name": "ipython",
    "version": 3
   },
   "file_extension": ".py",
   "mimetype": "text/x-python",
   "name": "python",
   "nbconvert_exporter": "python",
   "pygments_lexer": "ipython3",
   "version": "3.8.5"
  }
 },
 "nbformat": 4,
 "nbformat_minor": 5
}
