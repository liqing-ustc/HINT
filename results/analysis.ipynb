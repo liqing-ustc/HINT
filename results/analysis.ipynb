{
 "cells": [
  {
   "cell_type": "code",
   "execution_count": 1,
   "id": "collect-bulletin",
   "metadata": {},
   "outputs": [],
   "source": [
    "import sys\n",
    "import os\n",
    "root_dir = '/home/qing/Desktop/Closed-Loop-Learning/HINT/'\n",
    "os.chdir(root_dir)\n",
    "from train import *"
   ]
  },
  {
   "cell_type": "code",
   "execution_count": 2,
   "id": "widespread-memphis",
   "metadata": {},
   "outputs": [
    {
     "data": {
      "text/plain": [
       "Namespace(batch_size=128, cos_sim_margin=0.2, curriculum='no', dec_layers=1, dropout=0.5, early_stop=None, emb_dim=128, enc_layers=6, epochs=10, epochs_eval=1, fewshot=None, grad_clip=5.0, hid_dim=512, input='symbol', iterations=None, iterations_eval=None, layers=1, lr=0.001, lr_scheduler='constant', main_dataset_ratio=0, max_op_train=None, max_rel_pos=15, model='TRAN.relative_universal', nhead=8, output_dir='outputs/', perception_pretrain='data/perception_pretrain/model.pth.tar_78.2_match', pos_emb_type='sin', result_encoding='decimal', resume='./models/symbol.TRAN.relative_universal/model_100000.p', save_model=False, seed=0, train_size=None, wandb='HINT', warmup_steps=100)"
      ]
     },
     "execution_count": 2,
     "metadata": {},
     "output_type": "execute_result"
    }
   ],
   "source": [
    "sys.argv = []\n",
    "args = parse_args()\n",
    "args.input = 'symbol'\n",
    "args.model = 'TRAN.relative_universal'\n",
    "args.resume = f'./models/{args.input}.{args.model}/model_100000.p'\n",
    "args.nhead = 8\n",
    "args.enc_layers = 6\n",
    "args.dec_layers = 1\n",
    "args.hid_dim = 512\n",
    "args.max_rel_pos = 15\n",
    "args"
   ]
  },
  {
   "cell_type": "code",
   "execution_count": null,
   "id": "literary-classic",
   "metadata": {},
   "outputs": [],
   "source": [
    "train_set = HINT('train', input=args.input, fewshot=args.fewshot, \n",
    "                    n_sample=args.train_size, max_op=args.max_op_train,\n",
    "                    main_dataset_ratio=args.main_dataset_ratio)\n",
    "val_set = HINT('val', input=args.input, fewshot=args.fewshot)\n",
    "test_set = HINT('test', input=args.input, fewshot=args.fewshot)\n",
    "print('train:', len(train_set), 'val:', len(val_set), 'test:', len(test_set))\n",
    "\n",
    "args.train_set = train_set\n",
    "args.val_set = val_set\n",
    "args.test_set = test_set"
   ]
  }
 ],
 "metadata": {
  "kernelspec": {
   "display_name": "hint",
   "language": "python",
   "name": "hint"
  },
  "language_info": {
   "codemirror_mode": {
    "name": "ipython",
    "version": 3
   },
   "file_extension": ".py",
   "mimetype": "text/x-python",
   "name": "python",
   "nbconvert_exporter": "python",
   "pygments_lexer": "ipython3",
   "version": "3.8.5"
  }
 },
 "nbformat": 4,
 "nbformat_minor": 5
}
