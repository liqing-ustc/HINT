{
 "cells": [
  {
   "cell_type": "code",
   "execution_count": 1,
   "id": "familiar-project",
   "metadata": {},
   "outputs": [],
   "source": [
    "import sys\n",
    "import os\n",
    "root_dir = '/home/qing/Desktop/Closed-Loop-Learning/HINT/'\n",
    "os.chdir(root_dir)\n",
    "from train import *"
   ]
  },
  {
   "cell_type": "code",
   "execution_count": 2,
   "id": "mysterious-article",
   "metadata": {},
   "outputs": [
    {
     "data": {
      "text/plain": [
       "Namespace(batch_size=128, cos_sim_margin=0.2, curriculum='no', dec_layers=1, dropout=0.5, early_stop=None, emb_dim=128, enc_layers=6, epochs=10, epochs_eval=1, fewshot=None, grad_clip=5.0, hid_dim=512, input='symbol', iterations=None, iterations_eval=None, layers=1, lr=0.001, lr_scheduler='constant', main_dataset_ratio=0, max_op_train=None, max_rel_pos=15, model='TRAN.relative_universal', nhead=8, output_dir='outputs/', perception_pretrain='data/perception_pretrain/model.pth.tar_78.2_match', pos_emb_type='sin', result_encoding='decimal', resume='./models/symbol.TRAN.relative_universal/model_100000.p', save_model=False, seed=0, train_size=None, wandb='HINT', warmup_steps=100)"
      ]
     },
     "execution_count": 2,
     "metadata": {},
     "output_type": "execute_result"
    }
   ],
   "source": [
    "sys.argv = []\n",
    "args = parse_args()\n",
    "args.input = 'symbol'\n",
    "args.model = 'TRAN.relative_universal'\n",
    "args.resume = f'./models/{args.input}.{args.model}/model_100000.p'\n",
    "args.nhead = 8\n",
    "args.enc_layers = 6\n",
    "args.dec_layers = 1\n",
    "args.hid_dim = 512\n",
    "args.max_rel_pos = 15\n",
    "args"
   ]
  },
  {
   "cell_type": "code",
   "execution_count": 3,
   "id": "monthly-angle",
   "metadata": {},
   "outputs": [
    {
     "name": "stdout",
     "output_type": "stream",
     "text": [
      "train: 998000 val: 4698 test: 46620\n"
     ]
    }
   ],
   "source": [
    "train_set = HINT('train', input=args.input, fewshot=args.fewshot, \n",
    "                    n_sample=args.train_size, max_op=args.max_op_train,\n",
    "                    main_dataset_ratio=args.main_dataset_ratio)\n",
    "val_set = HINT('val', input=args.input, fewshot=args.fewshot)\n",
    "test_set = HINT('test', input=args.input, fewshot=args.fewshot)\n",
    "print('train:', len(train_set), 'val:', len(val_set), 'test:', len(test_set))\n",
    "\n",
    "args.train_set = train_set\n",
    "args.val_set = val_set\n",
    "args.test_set = test_set"
   ]
  },
  {
   "cell_type": "code",
   "execution_count": 4,
   "id": "negative-frequency",
   "metadata": {},
   "outputs": [
    {
     "name": "stdout",
     "output_type": "stream",
     "text": [
      "Load checkpoint from ./models/symbol.TRAN.relative_universal/model_100000.p\n",
      "Num params: 8019469\n"
     ]
    }
   ],
   "source": [
    "args.res_enc = ResultEncoding(args.result_encoding)\n",
    "model = make_model(args)\n",
    "if args.resume:\n",
    "    print('Load checkpoint from ' + args.resume)\n",
    "    ckpt = torch.load(args.resume)\n",
    "    model.load_state_dict(ckpt['model_state_dict'])\n",
    "model.to(DEVICE)\n",
    "\n",
    "n_params = sum(p.numel() for p in model.parameters())\n",
    "print('Num params:', n_params)"
   ]
  },
  {
   "cell_type": "code",
   "execution_count": 5,
   "id": "apparent-compression",
   "metadata": {},
   "outputs": [
    {
     "name": "stderr",
     "output_type": "stream",
     "text": [
      "100%|█████████████████████████████████████████| 729/729 [00:21<00:00, 34.71it/s]\n"
     ]
    }
   ],
   "source": [
    "dataset = args.test_set\n",
    "dataloader = torch.utils.data.DataLoader(dataset, batch_size=64,\n",
    "                                            shuffle=False, num_workers=4, collate_fn=HINT_collate)\n",
    "\n",
    "model.eval() \n",
    "res_all = []\n",
    "res_pred_all = []\n",
    "\n",
    "expr_all = []\n",
    "expr_pred_all = []\n",
    "\n",
    "dep_all = []\n",
    "dep_pred_all = []\n",
    "\n",
    "metrics = OrderedDict()\n",
    "\n",
    "with torch.no_grad():\n",
    "    for sample in tqdm(dataloader):\n",
    "        if args.input == 'image':\n",
    "            src = sample['img_seq']\n",
    "        elif args.input == 'symbol':\n",
    "            src = torch.tensor([x for s in sample['sentence'] for x in s])\n",
    "        res = sample['res']\n",
    "        if args.result_encoding == 'sin':\n",
    "            tgt = res.unsqueeze(1)\n",
    "        else:\n",
    "            tgt = torch.tensor(args.res_enc.res2seq_batch(res.numpy()))\n",
    "        expr = sample['expr']\n",
    "        dep = sample['head']\n",
    "        src_len = sample['len']\n",
    "\n",
    "        src = src.to(DEVICE)\n",
    "        tgt = tgt.to(DEVICE)\n",
    "\n",
    "        output = model(src, tgt[:, :-1], src_len)\n",
    "        pred = torch.argmax(output, -1).detach().cpu().numpy()\n",
    "        if args.result_encoding == 'sin':\n",
    "            res_pred = pred\n",
    "        else:\n",
    "            res_pred = args.res_enc.seq2res_batch(pred)\n",
    "        res_pred_all.append(res_pred)\n",
    "        res_all.append(res)\n",
    "\n",
    "        # expr_pred_all.extend(expr_preds)\n",
    "        expr_all.extend(expr)\n",
    "        # dep_pred_all.extend(dep_preds)\n",
    "        dep_all.extend(dep)\n",
    "\n",
    "res_pred_all = np.concatenate(res_pred_all, axis=0)\n",
    "res_all = np.concatenate(res_all, axis=0)\n",
    "result_acc = (res_pred_all == res_all).mean()\n",
    "metrics['result_acc/avg'] = result_acc\n",
    "\n",
    "tracked_attrs = ['length', 'symbol', 'digit', 'result', 'eval', 'tree_depth', 'ps_depth', 'max_dep']\n",
    "for attr in tracked_attrs:\n",
    "    # print(f\"result accuracy by {attr}:\")\n",
    "    attr2ids = getattr(dataloader.dataset, f'{attr}2ids')\n",
    "    for k, ids in sorted(attr2ids.items()):\n",
    "        res = res_all[ids]\n",
    "        res_pred = res_pred_all[ids]\n",
    "        res_acc = (res == res_pred).mean() if ids else 0.\n",
    "        k = 'div' if k == '/' else k\n",
    "        metrics[f'result_acc/{attr}/{k}'] = res_acc\n",
    "        # print(k, \"(%2d%%)\"%(100*len(ids)//len(dataloader.dataset)), \"%5.2f\"%(100 * res_acc))"
   ]
  },
  {
   "cell_type": "code",
   "execution_count": 6,
   "id": "remarkable-weight",
   "metadata": {},
   "outputs": [
    {
     "data": {
      "text/plain": [
       "OrderedDict([('result_acc/avg', 0.6153367653367653),\n",
       "             ('result_acc/length/1', 1.0),\n",
       "             ('result_acc/length/3', 1.0),\n",
       "             ('result_acc/length/5', 0.6381842456608812),\n",
       "             ('result_acc/length/7', 0.6783124588002637),\n",
       "             ('result_acc/length/9', 0.6769383697813122),\n",
       "             ('result_acc/length/11', 0.7019230769230769),\n",
       "             ('result_acc/length/13', 0.6765420106847985),\n",
       "             ('result_acc/length/15', 0.6767028627838104),\n",
       "             ('result_acc/length/17', 0.6827348745696016),\n",
       "             ('result_acc/length/19', 0.7092511013215859),\n",
       "             ('result_acc/length/21', 0.6781888997078871),\n",
       "             ('result_acc/length/23', 0.6896039603960396),\n",
       "             ('result_acc/length/25', 0.6877783275606135),\n",
       "             ('result_acc/length/27', 0.6927680798004987),\n",
       "             ('result_acc/length/29', 0.6830168776371308),\n",
       "             ('result_acc/length/31', 0.650210716435882),\n",
       "             ('result_acc/length/33', 0.6063902107409925),\n",
       "             ('result_acc/length/35', 0.5920471281296024),\n",
       "             ('result_acc/length/37', 0.5732436472346786),\n",
       "             ('result_acc/length/39', 0.5581912527798369),\n",
       "             ('result_acc/length/41', 0.5543154761904762),\n",
       "             ('result_acc/length/43', 0.5416666666666666),\n",
       "             ('result_acc/length/45', 0.5333333333333333),\n",
       "             ('result_acc/length/47', 0.5045523520485584),\n",
       "             ('result_acc/length/49', 0.4803030303030303),\n",
       "             ('result_acc/length/51', 0.4598278335724534),\n",
       "             ('result_acc/length/53', 0.47095274980635166),\n",
       "             ('result_acc/length/55', 0.4394409937888199),\n",
       "             ('result_acc/length/57', 0.43330571665285833),\n",
       "             ('result_acc/length/59', 0.4051172707889126),\n",
       "             ('result_acc/length/61', 0.3746268656716418),\n",
       "             ('result_acc/length/63', 0.4117647058823529),\n",
       "             ('result_acc/length/65', 0.3383458646616541),\n",
       "             ('result_acc/length/67', 0.2631578947368421),\n",
       "             ('result_acc/length/69', 0.125),\n",
       "             ('result_acc/symbol/(', 0.6017327861377109),\n",
       "             ('result_acc/symbol/)', 0.6017327861377109),\n",
       "             ('result_acc/symbol/*', 0.5743320338499572),\n",
       "             ('result_acc/symbol/+', 0.6097409721890951),\n",
       "             ('result_acc/symbol/-', 0.626290340106487),\n",
       "             ('result_acc/symbol/div', 0.6332542345143606),\n",
       "             ('result_acc/symbol/0', 0.6243068774311016),\n",
       "             ('result_acc/symbol/1', 0.6112270379365785),\n",
       "             ('result_acc/symbol/2', 0.6013527223537369),\n",
       "             ('result_acc/symbol/3', 0.5945829608291117),\n",
       "             ('result_acc/symbol/4', 0.5900542974440471),\n",
       "             ('result_acc/symbol/5', 0.5854958294717331),\n",
       "             ('result_acc/symbol/6', 0.5805080589793049),\n",
       "             ('result_acc/symbol/7', 0.5765382854900936),\n",
       "             ('result_acc/symbol/8', 0.5746181724048667),\n",
       "             ('result_acc/symbol/9', 0.5705823325672482),\n",
       "             ('result_acc/digit/0', 1.0),\n",
       "             ('result_acc/digit/1', 1.0),\n",
       "             ('result_acc/digit/2', 1.0),\n",
       "             ('result_acc/digit/3', 1.0),\n",
       "             ('result_acc/digit/4', 1.0),\n",
       "             ('result_acc/digit/5', 1.0),\n",
       "             ('result_acc/digit/6', 1.0),\n",
       "             ('result_acc/digit/7', 1.0),\n",
       "             ('result_acc/digit/8', 1.0),\n",
       "             ('result_acc/digit/9', 1.0),\n",
       "             ('result_acc/result/0', 1.0),\n",
       "             ('result_acc/result/1', 0.9332777314428691),\n",
       "             ('result_acc/result/2', 0.9230346344145135),\n",
       "             ('result_acc/result/3', 0.8781869688385269),\n",
       "             ('result_acc/result/4', 0.9010856453558505),\n",
       "             ('result_acc/result/5', 0.896640826873385),\n",
       "             ('result_acc/result/6', 0.8994845360824743),\n",
       "             ('result_acc/result/7', 0.9226027397260274),\n",
       "             ('result_acc/result/8', 0.9071702944942381),\n",
       "             ('result_acc/result/9', 0.9137813985064495),\n",
       "             ('result_acc/result/10', 0.8799479919098526),\n",
       "             ('result_acc/result/20', 0.829051044878383),\n",
       "             ('result_acc/result/30', 0.790135883241067),\n",
       "             ('result_acc/result/40', 0.8159547738693468),\n",
       "             ('result_acc/result/50', 0.7578671328671329),\n",
       "             ('result_acc/result/60', 0.7660044150110376),\n",
       "             ('result_acc/result/70', 0.771838331160365),\n",
       "             ('result_acc/result/80', 0.7150259067357513),\n",
       "             ('result_acc/result/90', 0.7226277372262774),\n",
       "             ('result_acc/result/100', 0.0030207028659839387),\n",
       "             ('result_acc/eval/I', 0.981062124248497),\n",
       "             ('result_acc/eval/LL', 0.2239),\n",
       "             ('result_acc/eval/LS', 0.79),\n",
       "             ('result_acc/eval/SL', 0.11423611111111111),\n",
       "             ('result_acc/eval/SS', 0.97125),\n",
       "             ('result_acc/tree_depth/1', 1.0),\n",
       "             ('result_acc/tree_depth/2', 1.0),\n",
       "             ('result_acc/tree_depth/3', 0.640282131661442),\n",
       "             ('result_acc/tree_depth/4', 0.6782316731952994),\n",
       "             ('result_acc/tree_depth/5', 0.6801782978130659),\n",
       "             ('result_acc/tree_depth/6', 0.6531064226599836),\n",
       "             ('result_acc/tree_depth/7', 0.5938226502822982),\n",
       "             ('result_acc/tree_depth/8', 0.5415375950436496),\n",
       "             ('result_acc/tree_depth/9', 0.48913896885632036),\n",
       "             ('result_acc/tree_depth/10', 0.4505420054200542),\n",
       "             ('result_acc/tree_depth/11', 0.40476190476190477),\n",
       "             ('result_acc/tree_depth/12', 0.3235294117647059),\n",
       "             ('result_acc/tree_depth/13', 0.3076923076923077),\n",
       "             ('result_acc/tree_depth/14', 0.0),\n",
       "             ('result_acc/tree_depth/15', 0.0),\n",
       "             ('result_acc/ps_depth/0', 0.8315217391304348),\n",
       "             ('result_acc/ps_depth/1', 0.6781156954487452),\n",
       "             ('result_acc/ps_depth/2', 0.633865185914107),\n",
       "             ('result_acc/ps_depth/3', 0.5758226037195995),\n",
       "             ('result_acc/ps_depth/4', 0.506257500428596),\n",
       "             ('result_acc/ps_depth/5', 0.4483457123565159),\n",
       "             ('result_acc/ps_depth/6', 0.4131944444444444),\n",
       "             ('result_acc/ps_depth/7', 0.39473684210526316),\n",
       "             ('result_acc/ps_depth/8', 0.2),\n",
       "             ('result_acc/ps_depth/9', 0.0),\n",
       "             ('result_acc/max_dep/0', 1.0),\n",
       "             ('result_acc/max_dep/1', 1.0),\n",
       "             ('result_acc/max_dep/2', 0.7111426543647977),\n",
       "             ('result_acc/max_dep/3', 0.6289893617021277),\n",
       "             ('result_acc/max_dep/4', 0.7227626459143969),\n",
       "             ('result_acc/max_dep/5', 0.6635354397950469),\n",
       "             ('result_acc/max_dep/6', 0.6846566826787228),\n",
       "             ('result_acc/max_dep/7', 0.6251089799476897),\n",
       "             ('result_acc/max_dep/8', 0.70777088653776),\n",
       "             ('result_acc/max_dep/9', 0.6388692579505301),\n",
       "             ('result_acc/max_dep/10', 0.6624203821656051),\n",
       "             ('result_acc/max_dep/11', 0.6089015151515151),\n",
       "             ('result_acc/max_dep/12', 0.6562860438292965),\n",
       "             ('result_acc/max_dep/13', 0.637291280148423),\n",
       "             ('result_acc/max_dep/14', 0.6366267052501033),\n",
       "             ('result_acc/max_dep/15', 0.5911379657603223),\n",
       "             ('result_acc/max_dep/16', 0.6339779005524862),\n",
       "             ('result_acc/max_dep/17', 0.5661846496106785),\n",
       "             ('result_acc/max_dep/18', 0.6123567513702043),\n",
       "             ('result_acc/max_dep/19', 0.559748427672956),\n",
       "             ('result_acc/max_dep/20', 0.569012547735952),\n",
       "             ('result_acc/max_dep/21', 0.5244956772334294),\n",
       "             ('result_acc/max_dep/22', 0.5595890410958904),\n",
       "             ('result_acc/max_dep/23', 0.5080128205128205),\n",
       "             ('result_acc/max_dep/24', 0.5888634630053394),\n",
       "             ('result_acc/max_dep/25', 0.5036363636363637),\n",
       "             ('result_acc/max_dep/26', 0.5446428571428571),\n",
       "             ('result_acc/max_dep/27', 0.4543524416135881),\n",
       "             ('result_acc/max_dep/28', 0.5397923875432526),\n",
       "             ('result_acc/max_dep/29', 0.40966921119592875),\n",
       "             ('result_acc/max_dep/30', 0.5102599179206566),\n",
       "             ('result_acc/max_dep/31', 0.3895705521472393),\n",
       "             ('result_acc/max_dep/32', 0.49411764705882355),\n",
       "             ('result_acc/max_dep/33', 0.36293436293436293),\n",
       "             ('result_acc/max_dep/34', 0.49616858237547895),\n",
       "             ('result_acc/max_dep/35', 0.44554455445544555),\n",
       "             ('result_acc/max_dep/36', 0.48223350253807107),\n",
       "             ('result_acc/max_dep/37', 0.44970414201183434),\n",
       "             ('result_acc/max_dep/38', 0.5065359477124183),\n",
       "             ('result_acc/max_dep/39', 0.4566929133858268),\n",
       "             ('result_acc/max_dep/40', 0.43873517786561267),\n",
       "             ('result_acc/max_dep/41', 0.4107142857142857),\n",
       "             ('result_acc/max_dep/42', 0.4864864864864865),\n",
       "             ('result_acc/max_dep/43', 0.3157894736842105),\n",
       "             ('result_acc/max_dep/44', 0.47435897435897434),\n",
       "             ('result_acc/max_dep/45', 0.4576271186440678),\n",
       "             ('result_acc/max_dep/46', 0.4247787610619469),\n",
       "             ('result_acc/max_dep/47', 0.3617021276595745),\n",
       "             ('result_acc/max_dep/48', 0.43661971830985913),\n",
       "             ('result_acc/max_dep/49', 0.3142857142857143),\n",
       "             ('result_acc/max_dep/50', 0.2545454545454545),\n",
       "             ('result_acc/max_dep/51', 0.25),\n",
       "             ('result_acc/max_dep/52', 0.28125),\n",
       "             ('result_acc/max_dep/53', 0.3333333333333333),\n",
       "             ('result_acc/max_dep/54', 0.35294117647058826),\n",
       "             ('result_acc/max_dep/55', 0.14285714285714285),\n",
       "             ('result_acc/max_dep/56', 0.14285714285714285),\n",
       "             ('result_acc/max_dep/57', 0.3333333333333333),\n",
       "             ('result_acc/max_dep/58', 0.4),\n",
       "             ('result_acc/max_dep/59', 1.0),\n",
       "             ('result_acc/max_dep/60', 0.5)])"
      ]
     },
     "execution_count": 6,
     "metadata": {},
     "output_type": "execute_result"
    }
   ],
   "source": [
    "metrics"
   ]
  },
  {
   "cell_type": "code",
   "execution_count": 7,
   "id": "cellular-adoption",
   "metadata": {},
   "outputs": [],
   "source": [
    "error_ids = [i for i, (x, y) in enumerate(zip(res_all, res_pred_all)) if x != y ]"
   ]
  },
  {
   "cell_type": "code",
   "execution_count": 21,
   "id": "white-grocery",
   "metadata": {},
   "outputs": [],
   "source": [
    "symbol_images_dir = root_dir + 'data/symbol_images/'\n",
    "def render_img(img_paths):\n",
    "    images = [Image.open(symbol_images_dir + x) for x in img_paths]\n",
    "    widths, heights = zip(*(i.size for i in images))\n",
    "\n",
    "    total_width = sum(widths)\n",
    "    max_height = max(heights)\n",
    "\n",
    "    new_im = Image.new('L', (total_width, max_height))\n",
    "\n",
    "    x_offset = 0\n",
    "    for im in images:\n",
    "        new_im.paste(im, (x_offset,0))\n",
    "        x_offset += im.size[0]\n",
    "    return new_im\n",
    "\n",
    "def show_sample(sample, show_image=True):\n",
    "    print(sample['expr'], len(sample['expr']))\n",
    "    if show_image:\n",
    "        img = render_img(sample['img_paths'])\n",
    "        display(img)"
   ]
  },
  {
   "cell_type": "code",
   "execution_count": 25,
   "id": "satisfied-consensus",
   "metadata": {},
   "outputs": [
    {
     "name": "stdout",
     "output_type": "stream",
     "text": [
      "8*(8*9) 7 576\n",
      "576 64\n"
     ]
    },
    {
     "name": "stdin",
     "output_type": "stream",
     "text": [
      " \n"
     ]
    },
    {
     "name": "stdout",
     "output_type": "stream",
     "text": [
      "6*(9+9) 7 108\n",
      "108 98\n"
     ]
    },
    {
     "name": "stdin",
     "output_type": "stream",
     "text": [
      " \n"
     ]
    },
    {
     "name": "stdout",
     "output_type": "stream",
     "text": [
      "6*(9+8) 7 102\n",
      "102 92\n"
     ]
    },
    {
     "name": "stdin",
     "output_type": "stream",
     "text": [
      " \n"
     ]
    },
    {
     "name": "stdout",
     "output_type": "stream",
     "text": [
      "9*(2*7) 7 126\n",
      "126 36\n"
     ]
    },
    {
     "name": "stdin",
     "output_type": "stream",
     "text": [
      " \n"
     ]
    },
    {
     "name": "stdout",
     "output_type": "stream",
     "text": [
      "8*8*2 5 128\n",
      "128 64\n"
     ]
    },
    {
     "name": "stdin",
     "output_type": "stream",
     "text": [
      " \n"
     ]
    },
    {
     "name": "stdout",
     "output_type": "stream",
     "text": [
      "(9+5)*8 7 112\n",
      "112 96\n"
     ]
    },
    {
     "name": "stdin",
     "output_type": "stream",
     "text": [
      " \n"
     ]
    },
    {
     "name": "stdout",
     "output_type": "stream",
     "text": [
      "8*7*6 5 336\n",
      "336 56\n"
     ]
    },
    {
     "name": "stdin",
     "output_type": "stream",
     "text": [
      " \n"
     ]
    },
    {
     "name": "stdout",
     "output_type": "stream",
     "text": [
      "9*4*9 5 324\n",
      "324 36\n"
     ]
    },
    {
     "name": "stdin",
     "output_type": "stream",
     "text": [
      " \n"
     ]
    },
    {
     "name": "stdout",
     "output_type": "stream",
     "text": [
      "9*(5*6) 7 270\n",
      "270 90\n"
     ]
    },
    {
     "name": "stdin",
     "output_type": "stream",
     "text": [
      " \n"
     ]
    },
    {
     "name": "stdout",
     "output_type": "stream",
     "text": [
      "8*3*6 5 144\n",
      "144 84\n"
     ]
    },
    {
     "name": "stdin",
     "output_type": "stream",
     "text": [
      " \n"
     ]
    },
    {
     "name": "stdout",
     "output_type": "stream",
     "text": [
      "8*(6+8) 7 112\n",
      "112 96\n"
     ]
    },
    {
     "name": "stdin",
     "output_type": "stream",
     "text": [
      " \n"
     ]
    },
    {
     "name": "stdout",
     "output_type": "stream",
     "text": [
      "7*5*7 5 245\n",
      "245 35\n"
     ]
    },
    {
     "name": "stdin",
     "output_type": "stream",
     "text": [
      " \n"
     ]
    },
    {
     "name": "stdout",
     "output_type": "stream",
     "text": [
      "7*5*8 5 280\n",
      "280 70\n"
     ]
    },
    {
     "name": "stdin",
     "output_type": "stream",
     "text": [
      " \n"
     ]
    },
    {
     "name": "stdout",
     "output_type": "stream",
     "text": [
      "(8+9)*9 7 153\n",
      "153 63\n"
     ]
    },
    {
     "name": "stdin",
     "output_type": "stream",
     "text": [
      " \n"
     ]
    },
    {
     "name": "stdout",
     "output_type": "stream",
     "text": [
      "7*(3*5) 7 105\n",
      "105 95\n"
     ]
    },
    {
     "name": "stdin",
     "output_type": "stream",
     "text": [
      " \n"
     ]
    },
    {
     "name": "stdout",
     "output_type": "stream",
     "text": [
      "2*6*9 5 108\n",
      "108 78\n"
     ]
    },
    {
     "name": "stdin",
     "output_type": "stream",
     "text": [
      " \n"
     ]
    },
    {
     "name": "stdout",
     "output_type": "stream",
     "text": [
      "9*4*6 5 216\n",
      "216 96\n"
     ]
    },
    {
     "name": "stdin",
     "output_type": "stream",
     "text": [
      " \n"
     ]
    },
    {
     "name": "stdout",
     "output_type": "stream",
     "text": [
      "5*8*9 5 360\n",
      "360 90\n"
     ]
    },
    {
     "name": "stdin",
     "output_type": "stream",
     "text": [
      " \n"
     ]
    },
    {
     "name": "stdout",
     "output_type": "stream",
     "text": [
      "7*2*8 5 112\n",
      "112 96\n"
     ]
    },
    {
     "name": "stdin",
     "output_type": "stream",
     "text": [
      " \n"
     ]
    },
    {
     "name": "stdout",
     "output_type": "stream",
     "text": [
      "9*8*8 5 576\n",
      "576 64\n"
     ]
    },
    {
     "name": "stdin",
     "output_type": "stream",
     "text": [
      " \n"
     ]
    },
    {
     "name": "stdout",
     "output_type": "stream",
     "text": [
      "6*(6*8) 7 288\n",
      "288 48\n"
     ]
    },
    {
     "name": "stdin",
     "output_type": "stream",
     "text": [
      " \n"
     ]
    },
    {
     "name": "stdout",
     "output_type": "stream",
     "text": [
      "6*(5*5) 7 150\n",
      "150 90\n"
     ]
    },
    {
     "name": "stdin",
     "output_type": "stream",
     "text": [
      " \n"
     ]
    },
    {
     "name": "stdout",
     "output_type": "stream",
     "text": [
      "6*7*8 5 336\n",
      "336 96\n"
     ]
    },
    {
     "name": "stdin",
     "output_type": "stream",
     "text": [
      " \n"
     ]
    },
    {
     "name": "stdout",
     "output_type": "stream",
     "text": [
      "5*7*9 5 315\n",
      "315 95\n"
     ]
    },
    {
     "name": "stdin",
     "output_type": "stream",
     "text": [
      " \n"
     ]
    },
    {
     "name": "stdout",
     "output_type": "stream",
     "text": [
      "(6+9)*8 7 120\n",
      "120 90\n"
     ]
    },
    {
     "name": "stdin",
     "output_type": "stream",
     "text": [
      " \n"
     ]
    },
    {
     "name": "stdout",
     "output_type": "stream",
     "text": [
      "6*4*8 5 192\n",
      "192 96\n"
     ]
    },
    {
     "name": "stdin",
     "output_type": "stream",
     "text": [
      " \n"
     ]
    },
    {
     "name": "stdout",
     "output_type": "stream",
     "text": [
      "(8+9)*8 7 136\n",
      "136 96\n"
     ]
    },
    {
     "name": "stdin",
     "output_type": "stream",
     "text": [
      " \n"
     ]
    },
    {
     "name": "stdout",
     "output_type": "stream",
     "text": [
      "(6+9)*7 7 105\n",
      "105 95\n"
     ]
    },
    {
     "name": "stdin",
     "output_type": "stream",
     "text": [
      " \n"
     ]
    },
    {
     "name": "stdout",
     "output_type": "stream",
     "text": [
      "9*(5*3) 7 135\n",
      "135 15\n"
     ]
    },
    {
     "name": "stdin",
     "output_type": "stream",
     "text": [
      " \n"
     ]
    },
    {
     "name": "stdout",
     "output_type": "stream",
     "text": [
      "9*(9+9) 7 162\n",
      "162 72\n"
     ]
    },
    {
     "name": "stdin",
     "output_type": "stream",
     "text": [
      " \n"
     ]
    },
    {
     "name": "stdout",
     "output_type": "stream",
     "text": [
      "(6+7)*8 7 104\n",
      "104 94\n"
     ]
    },
    {
     "name": "stdin",
     "output_type": "stream",
     "text": [
      " \n"
     ]
    },
    {
     "name": "stdout",
     "output_type": "stream",
     "text": [
      "6*9*6 5 324\n",
      "324 54\n"
     ]
    },
    {
     "name": "stdin",
     "output_type": "stream",
     "text": [
      " \n"
     ]
    },
    {
     "name": "stdout",
     "output_type": "stream",
     "text": [
      "5*9*8 5 360\n",
      "360 80\n"
     ]
    },
    {
     "name": "stdin",
     "output_type": "stream",
     "text": [
      " \n"
     ]
    },
    {
     "name": "stdout",
     "output_type": "stream",
     "text": [
      "8*7*7 5 392\n",
      "392 56\n"
     ]
    },
    {
     "name": "stdin",
     "output_type": "stream",
     "text": [
      " \n"
     ]
    },
    {
     "name": "stdout",
     "output_type": "stream",
     "text": [
      "7*(6*8) 7 336\n",
      "336 56\n"
     ]
    },
    {
     "name": "stdin",
     "output_type": "stream",
     "text": [
      " \n"
     ]
    },
    {
     "name": "stdout",
     "output_type": "stream",
     "text": [
      "4*(9*4) 7 144\n",
      "144 36\n"
     ]
    },
    {
     "name": "stdin",
     "output_type": "stream",
     "text": [
      " \n"
     ]
    },
    {
     "name": "stdout",
     "output_type": "stream",
     "text": [
      "8*(7+8) 7 120\n",
      "120 90\n"
     ]
    },
    {
     "name": "stdin",
     "output_type": "stream",
     "text": [
      " \n"
     ]
    },
    {
     "name": "stdout",
     "output_type": "stream",
     "text": [
      "4*(4*7) 7 112\n",
      "112 96\n"
     ]
    },
    {
     "name": "stdin",
     "output_type": "stream",
     "text": [
      " \n"
     ]
    },
    {
     "name": "stdout",
     "output_type": "stream",
     "text": [
      "4*4*7 5 112\n",
      "112 96\n"
     ]
    },
    {
     "name": "stdin",
     "output_type": "stream",
     "text": [
      " \n"
     ]
    },
    {
     "name": "stdout",
     "output_type": "stream",
     "text": [
      "7*9*7 5 441\n",
      "441 63\n"
     ]
    },
    {
     "name": "stdin",
     "output_type": "stream",
     "text": [
      " \n"
     ]
    },
    {
     "name": "stdout",
     "output_type": "stream",
     "text": [
      "6*(6*7) 7 252\n",
      "252 42\n"
     ]
    },
    {
     "name": "stdin",
     "output_type": "stream",
     "text": [
      " \n"
     ]
    },
    {
     "name": "stdout",
     "output_type": "stream",
     "text": [
      "9*(4*4) 7 144\n",
      "144 54\n"
     ]
    },
    {
     "name": "stdin",
     "output_type": "stream",
     "text": [
      " \n"
     ]
    },
    {
     "name": "stdout",
     "output_type": "stream",
     "text": [
      "7*4*5 5 140\n",
      "140 100\n"
     ]
    },
    {
     "name": "stdin",
     "output_type": "stream",
     "text": [
      " \n"
     ]
    },
    {
     "name": "stdout",
     "output_type": "stream",
     "text": [
      "9*7*8 5 504\n",
      "504 64\n"
     ]
    },
    {
     "name": "stdin",
     "output_type": "stream",
     "text": [
      " \n"
     ]
    },
    {
     "name": "stdout",
     "output_type": "stream",
     "text": [
      "9*(6*9) 7 486\n",
      "486 54\n"
     ]
    },
    {
     "name": "stdin",
     "output_type": "stream",
     "text": [
      " \n"
     ]
    },
    {
     "name": "stdout",
     "output_type": "stream",
     "text": [
      "3*9*9 5 243\n",
      "243 81\n"
     ]
    },
    {
     "name": "stdin",
     "output_type": "stream",
     "text": [
      " \n"
     ]
    },
    {
     "name": "stdout",
     "output_type": "stream",
     "text": [
      "7*(7*9) 7 441\n",
      "441 63\n"
     ]
    },
    {
     "name": "stdin",
     "output_type": "stream",
     "text": [
      " \n"
     ]
    },
    {
     "name": "stdout",
     "output_type": "stream",
     "text": [
      "9*4*7 5 252\n",
      "252 72\n"
     ]
    },
    {
     "name": "stdin",
     "output_type": "stream",
     "text": [
      " \n"
     ]
    },
    {
     "name": "stdout",
     "output_type": "stream",
     "text": [
      "6*(9*6) 7 324\n",
      "324 54\n"
     ]
    },
    {
     "name": "stdin",
     "output_type": "stream",
     "text": [
      " \n"
     ]
    },
    {
     "name": "stdout",
     "output_type": "stream",
     "text": [
      "6*(9*3) 7 162\n",
      "162 72\n"
     ]
    },
    {
     "name": "stdin",
     "output_type": "stream",
     "text": [
      " \n"
     ]
    },
    {
     "name": "stdout",
     "output_type": "stream",
     "text": [
      "8*(7*7) 7 392\n",
      "392 96\n"
     ]
    },
    {
     "name": "stdin",
     "output_type": "stream",
     "text": [
      " \n"
     ]
    },
    {
     "name": "stdout",
     "output_type": "stream",
     "text": [
      "8*(9*5) 7 360\n",
      "360 90\n"
     ]
    },
    {
     "name": "stdin",
     "output_type": "stream",
     "text": [
      " \n"
     ]
    },
    {
     "name": "stdout",
     "output_type": "stream",
     "text": [
      "(9+9)*9 7 162\n",
      "162 72\n"
     ]
    },
    {
     "name": "stdin",
     "output_type": "stream",
     "text": [
      " \n"
     ]
    },
    {
     "name": "stdout",
     "output_type": "stream",
     "text": [
      "9*(7*5) 7 315\n",
      "315 35\n"
     ]
    },
    {
     "name": "stdin",
     "output_type": "stream",
     "text": [
      " \n"
     ]
    },
    {
     "name": "stdout",
     "output_type": "stream",
     "text": [
      "7*5*3 5 105\n",
      "105 95\n"
     ]
    },
    {
     "name": "stdin",
     "output_type": "stream",
     "text": [
      " \n"
     ]
    },
    {
     "name": "stdout",
     "output_type": "stream",
     "text": [
      "4*5*6 5 120\n",
      "120 90\n"
     ]
    },
    {
     "name": "stdin",
     "output_type": "stream",
     "text": [
      " \n"
     ]
    },
    {
     "name": "stdout",
     "output_type": "stream",
     "text": [
      "8*(8+9) 7 136\n",
      "136 56\n"
     ]
    },
    {
     "name": "stdin",
     "output_type": "stream",
     "text": [
      " \n"
     ]
    },
    {
     "name": "stdout",
     "output_type": "stream",
     "text": [
      "4*9*6 5 216\n",
      "216 96\n"
     ]
    },
    {
     "name": "stdin",
     "output_type": "stream",
     "text": [
      " \n"
     ]
    },
    {
     "name": "stdout",
     "output_type": "stream",
     "text": [
      "3*8*9 5 216\n",
      "216 36\n"
     ]
    },
    {
     "name": "stdin",
     "output_type": "stream",
     "text": [
      " \n"
     ]
    },
    {
     "name": "stdout",
     "output_type": "stream",
     "text": [
      "6*4*7 5 168\n",
      "168 98\n"
     ]
    },
    {
     "name": "stdin",
     "output_type": "stream",
     "text": [
      " \n"
     ]
    },
    {
     "name": "stdout",
     "output_type": "stream",
     "text": [
      "8*(6+9) 7 120\n",
      "120 90\n"
     ]
    },
    {
     "name": "stdin",
     "output_type": "stream",
     "text": [
      " \n"
     ]
    },
    {
     "name": "stdout",
     "output_type": "stream",
     "text": [
      "9*(4*6) 7 216\n",
      "216 36\n"
     ]
    },
    {
     "name": "stdin",
     "output_type": "stream",
     "text": [
      " \n"
     ]
    },
    {
     "name": "stdout",
     "output_type": "stream",
     "text": [
      "9*(6*8) 7 432\n",
      "432 72\n"
     ]
    },
    {
     "name": "stdin",
     "output_type": "stream",
     "text": [
      " \n"
     ]
    },
    {
     "name": "stdout",
     "output_type": "stream",
     "text": [
      "3*9*8 5 216\n",
      "216 64\n"
     ]
    },
    {
     "name": "stdin",
     "output_type": "stream",
     "text": [
      " \n"
     ]
    },
    {
     "name": "stdout",
     "output_type": "stream",
     "text": [
      "6*(7*8) 7 336\n",
      "336 96\n"
     ]
    },
    {
     "name": "stdin",
     "output_type": "stream",
     "text": [
      " \n"
     ]
    },
    {
     "name": "stdout",
     "output_type": "stream",
     "text": [
      "6*(5*7) 7 210\n",
      "210 90\n"
     ]
    },
    {
     "name": "stdin",
     "output_type": "stream",
     "text": [
      " \n"
     ]
    },
    {
     "name": "stdout",
     "output_type": "stream",
     "text": [
      "8*(7*4) 7 224\n",
      "224 56\n"
     ]
    },
    {
     "name": "stdin",
     "output_type": "stream",
     "text": [
      " \n"
     ]
    },
    {
     "name": "stdout",
     "output_type": "stream",
     "text": [
      "8*8*7 5 448\n",
      "448 56\n"
     ]
    },
    {
     "name": "stdin",
     "output_type": "stream",
     "text": [
      " \n"
     ]
    },
    {
     "name": "stdout",
     "output_type": "stream",
     "text": [
      "8*(9+8) 7 136\n",
      "136 56\n"
     ]
    },
    {
     "name": "stdin",
     "output_type": "stream",
     "text": [
      " \n"
     ]
    },
    {
     "name": "stdout",
     "output_type": "stream",
     "text": [
      "8*(8+5) 7 104\n",
      "104 94\n"
     ]
    },
    {
     "name": "stdin",
     "output_type": "stream",
     "text": [
      " \n"
     ]
    },
    {
     "name": "stdout",
     "output_type": "stream",
     "text": [
      "4*8*8 5 256\n",
      "256 96\n"
     ]
    },
    {
     "name": "stdin",
     "output_type": "stream",
     "text": [
      " \n"
     ]
    },
    {
     "name": "stdout",
     "output_type": "stream",
     "text": [
      "(8+4)*9 7 108\n",
      "108 72\n"
     ]
    },
    {
     "name": "stdin",
     "output_type": "stream",
     "text": [
      " \n"
     ]
    },
    {
     "name": "stdout",
     "output_type": "stream",
     "text": [
      "9*(7*4) 7 252\n",
      "252 72\n"
     ]
    },
    {
     "name": "stdin",
     "output_type": "stream",
     "text": [
      " \n"
     ]
    },
    {
     "name": "stdout",
     "output_type": "stream",
     "text": [
      "9*(6*5) 7 270\n",
      "270 90\n"
     ]
    },
    {
     "ename": "KeyboardInterrupt",
     "evalue": "Interrupted by user",
     "output_type": "error",
     "traceback": [
      "\u001b[0;31m---------------------------------------------------------------------------\u001b[0m",
      "\u001b[0;31mKeyboardInterrupt\u001b[0m                         Traceback (most recent call last)",
      "Input \u001b[0;32mIn [25]\u001b[0m, in \u001b[0;36m<cell line: 1>\u001b[0;34m()\u001b[0m\n\u001b[1;32m      5\u001b[0m \u001b[38;5;28mprint\u001b[39m(sample[\u001b[38;5;124m'\u001b[39m\u001b[38;5;124mexpr\u001b[39m\u001b[38;5;124m'\u001b[39m], \u001b[38;5;28mlen\u001b[39m(sample[\u001b[38;5;124m'\u001b[39m\u001b[38;5;124mexpr\u001b[39m\u001b[38;5;124m'\u001b[39m]), \u001b[38;5;28mmax\u001b[39m(sample[\u001b[38;5;124m'\u001b[39m\u001b[38;5;124mres_all\u001b[39m\u001b[38;5;124m'\u001b[39m]))\n\u001b[1;32m      6\u001b[0m \u001b[38;5;28mprint\u001b[39m(res_all[i], res_pred_all[i])\n\u001b[0;32m----> 7\u001b[0m \u001b[38;5;28;43minput\u001b[39;49m\u001b[43m(\u001b[49m\u001b[43m)\u001b[49m\n",
      "File \u001b[0;32m~/.virtualenvs/hint/lib/python3.8/site-packages/ipykernel/kernelbase.py:1161\u001b[0m, in \u001b[0;36mKernel.raw_input\u001b[0;34m(self, prompt)\u001b[0m\n\u001b[1;32m   1157\u001b[0m \u001b[38;5;28;01mif\u001b[39;00m \u001b[38;5;129;01mnot\u001b[39;00m \u001b[38;5;28mself\u001b[39m\u001b[38;5;241m.\u001b[39m_allow_stdin:\n\u001b[1;32m   1158\u001b[0m     \u001b[38;5;28;01mraise\u001b[39;00m StdinNotImplementedError(\n\u001b[1;32m   1159\u001b[0m         \u001b[38;5;124m\"\u001b[39m\u001b[38;5;124mraw_input was called, but this frontend does not support input requests.\u001b[39m\u001b[38;5;124m\"\u001b[39m\n\u001b[1;32m   1160\u001b[0m     )\n\u001b[0;32m-> 1161\u001b[0m \u001b[38;5;28;01mreturn\u001b[39;00m \u001b[38;5;28;43mself\u001b[39;49m\u001b[38;5;241;43m.\u001b[39;49m\u001b[43m_input_request\u001b[49m\u001b[43m(\u001b[49m\n\u001b[1;32m   1162\u001b[0m \u001b[43m    \u001b[49m\u001b[38;5;28;43mstr\u001b[39;49m\u001b[43m(\u001b[49m\u001b[43mprompt\u001b[49m\u001b[43m)\u001b[49m\u001b[43m,\u001b[49m\n\u001b[1;32m   1163\u001b[0m \u001b[43m    \u001b[49m\u001b[38;5;28;43mself\u001b[39;49m\u001b[38;5;241;43m.\u001b[39;49m\u001b[43m_parent_ident\u001b[49m\u001b[43m[\u001b[49m\u001b[38;5;124;43m\"\u001b[39;49m\u001b[38;5;124;43mshell\u001b[39;49m\u001b[38;5;124;43m\"\u001b[39;49m\u001b[43m]\u001b[49m\u001b[43m,\u001b[49m\n\u001b[1;32m   1164\u001b[0m \u001b[43m    \u001b[49m\u001b[38;5;28;43mself\u001b[39;49m\u001b[38;5;241;43m.\u001b[39;49m\u001b[43mget_parent\u001b[49m\u001b[43m(\u001b[49m\u001b[38;5;124;43m\"\u001b[39;49m\u001b[38;5;124;43mshell\u001b[39;49m\u001b[38;5;124;43m\"\u001b[39;49m\u001b[43m)\u001b[49m\u001b[43m,\u001b[49m\n\u001b[1;32m   1165\u001b[0m \u001b[43m    \u001b[49m\u001b[43mpassword\u001b[49m\u001b[38;5;241;43m=\u001b[39;49m\u001b[38;5;28;43;01mFalse\u001b[39;49;00m\u001b[43m,\u001b[49m\n\u001b[1;32m   1166\u001b[0m \u001b[43m\u001b[49m\u001b[43m)\u001b[49m\n",
      "File \u001b[0;32m~/.virtualenvs/hint/lib/python3.8/site-packages/ipykernel/kernelbase.py:1205\u001b[0m, in \u001b[0;36mKernel._input_request\u001b[0;34m(self, prompt, ident, parent, password)\u001b[0m\n\u001b[1;32m   1202\u001b[0m             \u001b[38;5;28;01mbreak\u001b[39;00m\n\u001b[1;32m   1203\u001b[0m \u001b[38;5;28;01mexcept\u001b[39;00m \u001b[38;5;167;01mKeyboardInterrupt\u001b[39;00m:\n\u001b[1;32m   1204\u001b[0m     \u001b[38;5;66;03m# re-raise KeyboardInterrupt, to truncate traceback\u001b[39;00m\n\u001b[0;32m-> 1205\u001b[0m     \u001b[38;5;28;01mraise\u001b[39;00m \u001b[38;5;167;01mKeyboardInterrupt\u001b[39;00m(\u001b[38;5;124m\"\u001b[39m\u001b[38;5;124mInterrupted by user\u001b[39m\u001b[38;5;124m\"\u001b[39m) \u001b[38;5;28;01mfrom\u001b[39;00m \u001b[38;5;28mNone\u001b[39m\n\u001b[1;32m   1206\u001b[0m \u001b[38;5;28;01mexcept\u001b[39;00m \u001b[38;5;167;01mException\u001b[39;00m:\n\u001b[1;32m   1207\u001b[0m     \u001b[38;5;28mself\u001b[39m\u001b[38;5;241m.\u001b[39mlog\u001b[38;5;241m.\u001b[39mwarning(\u001b[38;5;124m\"\u001b[39m\u001b[38;5;124mInvalid Message:\u001b[39m\u001b[38;5;124m\"\u001b[39m, exc_info\u001b[38;5;241m=\u001b[39m\u001b[38;5;28;01mTrue\u001b[39;00m)\n",
      "\u001b[0;31mKeyboardInterrupt\u001b[0m: Interrupted by user"
     ]
    }
   ],
   "source": [
    "for i in range(len(dataset)):\n",
    "    sample = dataset.dataset[i]\n",
    "#     if sample['eval'] not in ['LL']: continue\n",
    "    if sample['res'] < 100: continue\n",
    "    print(sample['expr'], len(sample['expr']), max(sample['res_all']))\n",
    "    print(res_all[i], res_pred_all[i])\n",
    "    input()"
   ]
  },
  {
   "cell_type": "code",
   "execution_count": null,
   "id": "derived-engineer",
   "metadata": {},
   "outputs": [],
   "source": []
  },
  {
   "cell_type": "code",
   "execution_count": null,
   "id": "scheduled-qualification",
   "metadata": {},
   "outputs": [],
   "source": []
  }
 ],
 "metadata": {
  "kernelspec": {
   "display_name": "hint",
   "language": "python",
   "name": "hint"
  },
  "language_info": {
   "codemirror_mode": {
    "name": "ipython",
    "version": 3
   },
   "file_extension": ".py",
   "mimetype": "text/x-python",
   "name": "python",
   "nbconvert_exporter": "python",
   "pygments_lexer": "ipython3",
   "version": "3.8.5"
  }
 },
 "nbformat": 4,
 "nbformat_minor": 5
}
