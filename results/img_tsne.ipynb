{
 "cells": [
  {
   "cell_type": "code",
   "execution_count": 1,
   "id": "arabic-machinery",
   "metadata": {},
   "outputs": [],
   "source": [
    "import sys\n",
    "import os\n",
    "root_dir = '/home/qing/Desktop/Closed-Loop-Learning/HINT/'\n",
    "os.chdir(root_dir)\n",
    "from train import *\n",
    "from matplotlib import pyplot as plt\n",
    "%matplotlib inline"
   ]
  },
  {
   "cell_type": "code",
   "execution_count": 2,
   "id": "southern-thursday",
   "metadata": {},
   "outputs": [
    {
     "data": {
      "text/plain": [
       "Namespace(batch_size=128, cos_sim_margin=0.2, curriculum='no', dec_layers=1, dropout=0.5, early_stop=None, emb_dim=128, enc_layers=6, epochs=10, epochs_eval=1, fewshot=None, grad_clip=5.0, hid_dim=512, input='image', iterations=None, iterations_eval=None, layers=1, lr=0.001, lr_scheduler='constant', main_dataset_ratio=0, max_op_train=None, max_rel_pos=15, model='TRAN.relative_universal', nhead=8, output_dir='outputs/', perception_pretrain='data/perception_pretrain/model.pth.tar_78.2_match', pos_emb_type='sin', result_encoding='decimal', resume='./models/image.TRAN.relative_universal/model_100000.p', save_model=False, seed=0, train_size=None, wandb='HINT', warmup_steps=100)"
      ]
     },
     "execution_count": 2,
     "metadata": {},
     "output_type": "execute_result"
    }
   ],
   "source": [
    "sys.argv = []\n",
    "args = parse_args()\n",
    "args.resume = './models/image.TRAN.relative_universal/model_100000.p'\n",
    "args.input = 'image'\n",
    "args.model = 'TRAN.relative_universal'\n",
    "args.nhead = 8\n",
    "args.enc_layers = 6\n",
    "args.dec_layers = 1\n",
    "args.hid_dim = 512\n",
    "args.max_rel_pos = 15\n",
    "args"
   ]
  },
  {
   "cell_type": "code",
   "execution_count": 3,
   "id": "celtic-testing",
   "metadata": {},
   "outputs": [
    {
     "name": "stdout",
     "output_type": "stream",
     "text": [
      "train: 998000 val: 4698 test: 46620\n"
     ]
    }
   ],
   "source": [
    "train_set = HINT('train', input=args.input, fewshot=args.fewshot, \n",
    "                    n_sample=args.train_size, max_op=args.max_op_train,\n",
    "                    main_dataset_ratio=args.main_dataset_ratio)\n",
    "val_set = HINT('val', input=args.input, fewshot=args.fewshot)\n",
    "test_set = HINT('test', input=args.input, fewshot=args.fewshot)\n",
    "print('train:', len(train_set), 'val:', len(val_set), 'test:', len(test_set))\n",
    "\n",
    "args.train_set = train_set\n",
    "args.val_set = val_set\n",
    "args.test_set = test_set"
   ]
  },
  {
   "cell_type": "code",
   "execution_count": 4,
   "id": "recreational-drama",
   "metadata": {},
   "outputs": [
    {
     "name": "stdout",
     "output_type": "stream",
     "text": [
      "Load checkpoint from ./models/image.TRAN.relative_universal/model_100000.p\n",
      "Num params: 19261645\n"
     ]
    }
   ],
   "source": [
    "args.res_enc = ResultEncoding(args.result_encoding)\n",
    "model = make_model(args)\n",
    "if args.resume:\n",
    "    print('Load checkpoint from ' + args.resume)\n",
    "    ckpt = torch.load(args.resume)\n",
    "    model.load_state_dict(ckpt['model_state_dict'])\n",
    "model.to(DEVICE)\n",
    "\n",
    "n_params = sum(p.numel() for p in model.parameters())\n",
    "print('Num params:', n_params)"
   ]
  },
  {
   "cell_type": "code",
   "execution_count": 5,
   "id": "physical-ghost",
   "metadata": {},
   "outputs": [
    {
     "name": "stderr",
     "output_type": "stream",
     "text": [
      "100%|█████████████████████████████████████████| 729/729 [01:13<00:00,  9.85it/s]\n"
     ]
    }
   ],
   "source": [
    "dataset = test_set\n",
    "dataloader = torch.utils.data.DataLoader(dataset, batch_size=64,\n",
    "                        shuffle=False, num_workers=4, collate_fn=HINT_collate)\n",
    "\n",
    "model.eval()\n",
    "\n",
    "with torch.no_grad():\n",
    "    src_emb_list = []\n",
    "    symbol_list = []\n",
    "    img_path_list = []\n",
    "    for sample in tqdm(dataloader):\n",
    "        if args.input == 'image':\n",
    "            src = sample['img_seq']\n",
    "        elif args.input == 'symbol':\n",
    "            src = torch.tensor([x for s in sample['sentence'] for x in s])\n",
    "        src_len = sample['len']\n",
    "        src = src.to(DEVICE)\n",
    "        src_emb = model.embedding_in.image_encoder(src).detach().cpu().numpy()\n",
    "        src_emb_list.append(src_emb)\n",
    "        symbols = [x for s in sample['expr'] for x in s]\n",
    "        symbol_list.append(symbols)\n",
    "        img_paths = [x for s in sample['img_paths'] for x in s]\n",
    "        img_path_list.append(img_paths)\n",
    "    src_embs = np.concatenate(src_emb_list, axis=0)\n",
    "    symbols = np.array([y for x in symbol_list for y in x])\n",
    "    img_paths = [y for x in img_path_list for y in x]"
   ]
  },
  {
   "cell_type": "code",
   "execution_count": 6,
   "id": "vital-semester",
   "metadata": {},
   "outputs": [
    {
     "name": "stdout",
     "output_type": "stream",
     "text": [
      "7 152\n",
      "1 1266\n",
      "0 363\n",
      "6 163\n",
      "4 329\n",
      "3 495\n",
      "9 149\n",
      "2 1243\n",
      "5 202\n",
      "8 147\n",
      "* 120\n",
      "/ 33\n",
      "- 1205\n",
      "+ 1089\n",
      "( 798\n",
      ") 797\n"
     ]
    }
   ],
   "source": [
    "path2emb = {}\n",
    "for s, p, e in zip(symbols, img_paths, src_embs):\n",
    "    if p in path2emb:\n",
    "        continue\n",
    "    path2emb[p] = (s, e)\n",
    "\n",
    "sym2emb = {}\n",
    "for s, e in path2emb.values():\n",
    "    if s not in sym2emb:\n",
    "        sym2emb[s] = []\n",
    "    sym2emb[s].append(e)\n",
    "\n",
    "for s, e in sym2emb.items():\n",
    "    print(s, len(e))"
   ]
  },
  {
   "cell_type": "code",
   "execution_count": 7,
   "id": "demanding-separation",
   "metadata": {},
   "outputs": [
    {
     "name": "stdout",
     "output_type": "stream",
     "text": [
      "8551 (8551, 128)\n"
     ]
    }
   ],
   "source": [
    "symbols_nondep = []\n",
    "src_embs_nondep = []\n",
    "n_points_per_class = 10000\n",
    "for s, e in sym2emb.items():\n",
    "    e = random.sample(e, k=min(n_points_per_class, len(e)))\n",
    "    symbols_nondep.extend([s] * len(e))\n",
    "    src_embs_nondep.extend(e)\n",
    "symbols_nondep = np.array(symbols_nondep)\n",
    "src_embs_nondep = np.stack(src_embs_nondep)\n",
    "\n",
    "print(len(symbols_nondep), src_embs_nondep.shape)"
   ]
  },
  {
   "cell_type": "code",
   "execution_count": 8,
   "id": "cubic-advantage",
   "metadata": {},
   "outputs": [
    {
     "name": "stderr",
     "output_type": "stream",
     "text": [
      "/home/qing/.virtualenvs/hint/lib/python3.8/site-packages/sklearn/manifold/_t_sne.py:991: FutureWarning: The PCA initialization in TSNE will change to have the standard deviation of PC1 equal to 1e-4 in 1.2. This will ensure better convergence.\n",
      "  warnings.warn(\n"
     ]
    }
   ],
   "source": [
    "from sklearn import manifold\n",
    "\n",
    "S_points = src_embs_nondep\n",
    "S_color = symbols_nondep\n",
    "\n",
    "t_sne = manifold.TSNE(\n",
    "    n_components=2,\n",
    "    learning_rate=\"auto\",\n",
    "    perplexity=30,\n",
    "    n_iter=250,\n",
    "    init=\"pca\"\n",
    ")\n",
    "S_t_sne = t_sne.fit_transform(S_points)"
   ]
  },
  {
   "cell_type": "code",
   "execution_count": 24,
   "id": "center-despite",
   "metadata": {},
   "outputs": [
    {
     "data": {
      "image/png": "[encoded data removed]",
      "text/plain": [
       "<Figure size 1440x720 with 1 Axes>"
      ]
     },
     "metadata": {},
     "output_type": "display_data"
    }
   ],
   "source": [
    "fontsize=25\n",
    "\n",
    "def plot_2d(points, labels):\n",
    "    fig, ax = plt.subplots(figsize=(20, 10), facecolor=\"white\", constrained_layout=True)\n",
    "    add_2d_scatter(ax, points, labels)\n",
    "\n",
    "\n",
    "def add_2d_scatter(ax, points, labels):\n",
    "    x, y = points.T\n",
    "    for c in np.unique(labels):\n",
    "        ix = np.where(labels == c)\n",
    "        ax.scatter(x[ix], y[ix], label=c, s=10, alpha=1)\n",
    "    \n",
    "    shown = []\n",
    "    for i, c in enumerate(labels):\n",
    "        if c in shown: continue\n",
    "        ax.annotate(c, (x[i], y[i]), size=fontsize)\n",
    "        shown.append(c)\n",
    "\n",
    "\n",
    "plot_2d(S_t_sne, S_color)\n",
    "# plt.legend(ncol=3, fontsize=fontsize, loc='upper left')\n",
    "plt.axis('off')\n",
    "plt.savefig('results/figures/img_tSNE.pdf', dpi=300, bbox_inches='tight')\n",
    "plt.show()"
   ]
  },
  {
   "cell_type": "code",
   "execution_count": null,
   "id": "driving-protocol",
   "metadata": {},
   "outputs": [],
   "source": []
  }
 ],
 "metadata": {
  "kernelspec": {
   "display_name": "hint",
   "language": "python",
   "name": "hint"
  },
  "language_info": {
   "codemirror_mode": {
    "name": "ipython",
    "version": 3
   },
   "file_extension": ".py",
   "mimetype": "text/x-python",
   "name": "python",
   "nbconvert_exporter": "python",
   "pygments_lexer": "ipython3",
   "version": "3.8.5"
  }
 },
 "nbformat": 4,
 "nbformat_minor": 5
}
