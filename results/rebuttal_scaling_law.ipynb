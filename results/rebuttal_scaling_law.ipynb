{
 "cells": [
  {
   "cell_type": "code",
   "execution_count": 1,
   "id": "wooden-order",
   "metadata": {},
   "outputs": [],
   "source": [
    "import pandas as pd \n",
    "import wandb\n",
    "import numpy as np\n",
    "api = wandb.Api()"
   ]
  },
  {
   "cell_type": "code",
   "execution_count": 6,
   "id": "australian-circular",
   "metadata": {},
   "outputs": [],
   "source": [
    "import sys\n",
    "sys.path.append('../')\n",
    "import numpy as np\n",
    "import matplotlib as mpl\n",
    "import matplotlib.pyplot as plt\n",
    "%matplotlib inline\n",
    "import seaborn as sns\n",
    "sns.set_theme()\n",
    "sns.set_context(\"notebook\", font_scale=1.2)\n",
    "\n",
    "from scipy.optimize import curve_fit"
   ]
  },
  {
   "cell_type": "code",
   "execution_count": 3,
   "id": "dressed-edition",
   "metadata": {},
   "outputs": [],
   "source": [
    "metrics = ['test/result_acc/eval/'+ x for x in ['I', 'SS', 'LS', 'SL', 'LL']] + ['test/result_acc/avg']"
   ]
  },
  {
   "cell_type": "code",
   "execution_count": 4,
   "id": "three-functionality",
   "metadata": {},
   "outputs": [
    {
     "name": "stdout",
     "output_type": "stream",
     "text": [
      "number of runs: 11\n"
     ]
    }
   ],
   "source": [
    "def filter_run(summary):\n",
    "    return True\n",
    "\n",
    "runs = api.runs(\"qli/HINT_rebuttal\")\n",
    "summary_list = [] \n",
    "for run in runs: \n",
    "    # .summary contains the output keys/values for metrics like accuracy.\n",
    "    #  We call ._json_dict to omit large files \n",
    "    summary = {'name': run.name}\n",
    "    summary.update(run.summary._json_dict)\n",
    "    summary.update(run.config)\n",
    "    if filter_run(summary):\n",
    "        summary_list.append(summary)\n",
    "df = {k: [x.get(k, '') for x in summary_list] for k in summary_list[0]}\n",
    "df = pd.DataFrame(df)\n",
    "print('number of runs:', len(summary_list))"
   ]
  },
  {
   "cell_type": "code",
   "execution_count": 31,
   "id": "detected-auckland",
   "metadata": {},
   "outputs": [
    {
     "name": "stdout",
     "output_type": "stream",
     "text": [
      "Target accuracy: 90, D: 10^13\n"
     ]
    },
    {
     "data": {
      "image/png": "[encoded data removed]",
      "text/plain": [
       "<Figure size 432x288 with 1 Axes>"
      ]
     },
     "metadata": {},
     "output_type": "display_data"
    }
   ],
   "source": [
    "def func_loglinear(x, a, b):\n",
    "    return a * np.log10(x) + b\n",
    "\n",
    "target_func = func_loglinear\n",
    "\n",
    "X = df['train_examples']\n",
    "y = df[metrics[4]] * 100\n",
    "\n",
    "data = list(zip(X, y))\n",
    "data.sort()\n",
    "X = [d[0] for d in data]\n",
    "y = [d[1] for d in data]\n",
    "\n",
    "popt, pcov = curve_fit(target_func, X, y)\n",
    "a, b = popt\n",
    "equation = f'Y = {a:.2f} * log D ' + ('-' if b < 0 else '+') + f' {abs(b):.2f}'\n",
    "target_acc = 90\n",
    "logN = (target_acc - b) / a \n",
    "print(f'Target accuracy: {target_acc}, D: 10^{logN:.0f}')\n",
    "\n",
    "plt.plot(X, target_func(X, *popt), '--', label=equation)\n",
    "plt.plot(X, y, 'ro')\n",
    "plt.xlabel('Dataset Size')\n",
    "# plt.ylabel('Test Accuracy (LL)')\n",
    "plt.legend(loc='lower right')\n",
    "# plt.savefig('figures/scaling_law_data.pdf', dpi=300, bbox_inches='tight')\n",
    "plt.show()\n",
    "\n",
    "scaling_data = (X, y, popt, equation)"
   ]
  }
 ],
 "metadata": {
  "kernelspec": {
   "display_name": "hint",
   "language": "python",
   "name": "hint"
  },
  "language_info": {
   "codemirror_mode": {
    "name": "ipython",
    "version": 3
   },
   "file_extension": ".py",
   "mimetype": "text/x-python",
   "name": "python",
   "nbconvert_exporter": "python",
   "pygments_lexer": "ipython3",
   "version": "3.8.10"
  }
 },
 "nbformat": 4,
 "nbformat_minor": 5
}
